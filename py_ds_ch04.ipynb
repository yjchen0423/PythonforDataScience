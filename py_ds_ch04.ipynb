{
 "nbformat": 4,
 "nbformat_minor": 2,
 "metadata": {
  "language_info": {
   "name": "python",
   "codemirror_mode": {
    "name": "ipython",
    "version": 3
   },
   "version": "3.7.6-final"
  },
  "orig_nbformat": 2,
  "file_extension": ".py",
  "mimetype": "text/x-python",
  "name": "python",
  "npconvert_exporter": "python",
  "pygments_lexer": "ipython3",
  "version": 3,
  "kernelspec": {
   "name": "python37664bitvenvdsconda4a789d2020f344fcb5b98785fe6a46cd",
   "display_name": "Python 3.7.6 64-bit ('venv_ds': conda)"
  }
 },
 "cells": [
  {
   "cell_type": "markdown",
   "metadata": {},
   "source": [
    "## Ch. 4 NumPy Basics"
   ]
  },
  {
   "cell_type": "markdown",
   "metadata": {},
   "source": [
    "numpy has better ability to handle calculation of large datasets"
   ]
  },
  {
   "cell_type": "code",
   "execution_count": 1,
   "metadata": {},
   "outputs": [],
   "source": [
    "import numpy as np"
   ]
  },
  {
   "cell_type": "code",
   "execution_count": 2,
   "metadata": {},
   "outputs": [],
   "source": [
    "my_arr = np.arange(1000000)"
   ]
  },
  {
   "cell_type": "code",
   "execution_count": 3,
   "metadata": {},
   "outputs": [],
   "source": [
    "my_list = list(range(1000000))"
   ]
  },
  {
   "cell_type": "code",
   "execution_count": 4,
   "metadata": {},
   "outputs": [
    {
     "output_type": "stream",
     "name": "stdout",
     "text": "Wall time: 39.9 ms\n"
    }
   ],
   "source": [
    "%time for _ in range(10): my_arr2 = my_arr * 2"
   ]
  },
  {
   "cell_type": "code",
   "execution_count": 6,
   "metadata": {},
   "outputs": [
    {
     "output_type": "stream",
     "name": "stdout",
     "text": "Wall time: 1.29 s\n"
    }
   ],
   "source": [
    "%time for _ in range(10): my_list2 = [x * 2 for x in my_list]"
   ]
  },
  {
   "cell_type": "markdown",
   "metadata": {},
   "source": [
    "### 4.1 The numpy ndarray\n",
    "N-dimensional array object"
   ]
  },
  {
   "cell_type": "code",
   "execution_count": 7,
   "metadata": {},
   "outputs": [],
   "source": [
    "data = np.random.randn(2, 3)"
   ]
  },
  {
   "cell_type": "code",
   "execution_count": 8,
   "metadata": {},
   "outputs": [
    {
     "output_type": "execute_result",
     "data": {
      "text/plain": "array([[-1.80547282, -1.34540399, -1.43054525],\n       [-0.46093254,  1.9792658 , -0.74204426]])"
     },
     "metadata": {},
     "execution_count": 8
    }
   ],
   "source": [
    "data"
   ]
  },
  {
   "cell_type": "code",
   "execution_count": 9,
   "metadata": {},
   "outputs": [
    {
     "output_type": "execute_result",
     "data": {
      "text/plain": "array([[-18.05472822, -13.45403988, -14.30545249],\n       [ -4.60932535,  19.79265801,  -7.42044261]])"
     },
     "metadata": {},
     "execution_count": 9
    }
   ],
   "source": [
    "data * 10"
   ]
  },
  {
   "cell_type": "code",
   "execution_count": 10,
   "metadata": {},
   "outputs": [
    {
     "output_type": "execute_result",
     "data": {
      "text/plain": "array([[-3.61094564, -2.69080798, -2.8610905 ],\n       [-0.92186507,  3.9585316 , -1.48408852]])"
     },
     "metadata": {},
     "execution_count": 10
    }
   ],
   "source": [
    "data + data "
   ]
  },
  {
   "cell_type": "code",
   "execution_count": 11,
   "metadata": {},
   "outputs": [
    {
     "output_type": "execute_result",
     "data": {
      "text/plain": "(2, 3)"
     },
     "metadata": {},
     "execution_count": 11
    }
   ],
   "source": [
    "data.shape"
   ]
  },
  {
   "cell_type": "code",
   "execution_count": 12,
   "metadata": {},
   "outputs": [
    {
     "output_type": "execute_result",
     "data": {
      "text/plain": "dtype('float64')"
     },
     "metadata": {},
     "execution_count": 12
    }
   ],
   "source": [
    "data.dtype"
   ]
  },
  {
   "cell_type": "markdown",
   "metadata": {},
   "source": [
    "#### Creating ndarrays"
   ]
  },
  {
   "cell_type": "code",
   "execution_count": 13,
   "metadata": {},
   "outputs": [],
   "source": [
    "data1 = [6, 7.5, 8, 0, 1]"
   ]
  },
  {
   "cell_type": "code",
   "execution_count": 14,
   "metadata": {},
   "outputs": [],
   "source": [
    "arr1=np.array(data1)"
   ]
  },
  {
   "cell_type": "code",
   "execution_count": 15,
   "metadata": {},
   "outputs": [
    {
     "output_type": "execute_result",
     "data": {
      "text/plain": "array([6. , 7.5, 8. , 0. , 1. ])"
     },
     "metadata": {},
     "execution_count": 15
    }
   ],
   "source": [
    "arr1"
   ]
  },
  {
   "cell_type": "code",
   "execution_count": 16,
   "metadata": {},
   "outputs": [],
   "source": [
    "data2 = [[1, 2, 3,4], [5, 6, 7, 8]]"
   ]
  },
  {
   "cell_type": "code",
   "execution_count": 17,
   "metadata": {},
   "outputs": [],
   "source": [
    "arr2 = np.array(data2)"
   ]
  },
  {
   "cell_type": "code",
   "execution_count": 18,
   "metadata": {},
   "outputs": [
    {
     "output_type": "execute_result",
     "data": {
      "text/plain": "array([[1, 2, 3, 4],\n       [5, 6, 7, 8]])"
     },
     "metadata": {},
     "execution_count": 18
    }
   ],
   "source": [
    "arr2"
   ]
  },
  {
   "cell_type": "code",
   "execution_count": 19,
   "metadata": {},
   "outputs": [
    {
     "output_type": "execute_result",
     "data": {
      "text/plain": "2"
     },
     "metadata": {},
     "execution_count": 19
    }
   ],
   "source": [
    "arr2.ndim"
   ]
  },
  {
   "cell_type": "code",
   "execution_count": 20,
   "metadata": {},
   "outputs": [
    {
     "output_type": "execute_result",
     "data": {
      "text/plain": "(2, 4)"
     },
     "metadata": {},
     "execution_count": 20
    }
   ],
   "source": [
    "arr2.shape"
   ]
  },
  {
   "cell_type": "code",
   "execution_count": 22,
   "metadata": {},
   "outputs": [
    {
     "output_type": "execute_result",
     "data": {
      "text/plain": "dtype('float64')"
     },
     "metadata": {},
     "execution_count": 22
    }
   ],
   "source": [
    "arr1.dtype"
   ]
  },
  {
   "cell_type": "code",
   "execution_count": 23,
   "metadata": {},
   "outputs": [
    {
     "output_type": "execute_result",
     "data": {
      "text/plain": "array([0., 0., 0., 0., 0., 0., 0., 0., 0., 0.])"
     },
     "metadata": {},
     "execution_count": 23
    }
   ],
   "source": [
    "np.zeros(10)"
   ]
  },
  {
   "cell_type": "code",
   "execution_count": 25,
   "metadata": {},
   "outputs": [
    {
     "output_type": "execute_result",
     "data": {
      "text/plain": "array([[0., 0., 0., 0., 0., 0.],\n       [0., 0., 0., 0., 0., 0.],\n       [0., 0., 0., 0., 0., 0.]])"
     },
     "metadata": {},
     "execution_count": 25
    }
   ],
   "source": [
    "np.zeros((3, 6))"
   ]
  },
  {
   "cell_type": "code",
   "execution_count": 26,
   "metadata": {},
   "outputs": [
    {
     "output_type": "execute_result",
     "data": {
      "text/plain": "array([[[1.07838846e-311, 1.07838846e-311],\n        [1.07838846e-311, 1.07838846e-311],\n        [1.07838846e-311, 1.07838846e-311]],\n\n       [[1.07838846e-311, 1.07838846e-311],\n        [1.07838846e-311, 1.07838846e-311],\n        [1.07838846e-311, 1.07838846e-311]]])"
     },
     "metadata": {},
     "execution_count": 26
    }
   ],
   "source": [
    "np.empty((2, 3, 2))"
   ]
  },
  {
   "cell_type": "code",
   "execution_count": 27,
   "metadata": {},
   "outputs": [
    {
     "output_type": "execute_result",
     "data": {
      "text/plain": "array([ 0,  1,  2,  3,  4,  5,  6,  7,  8,  9, 10, 11, 12, 13, 14])"
     },
     "metadata": {},
     "execution_count": 27
    }
   ],
   "source": [
    "np.arange(15)"
   ]
  },
  {
   "cell_type": "markdown",
   "metadata": {},
   "source": [
    "#### Data types for ndarrays"
   ]
  },
  {
   "cell_type": "code",
   "execution_count": 28,
   "metadata": {},
   "outputs": [],
   "source": [
    "arr1 = np.array([1, 2, 3], dtype = np.float64)"
   ]
  },
  {
   "cell_type": "code",
   "execution_count": 29,
   "metadata": {},
   "outputs": [],
   "source": [
    "arr2 = np.array([1, 2, 3], dtype = np.int32)"
   ]
  },
  {
   "cell_type": "code",
   "execution_count": 30,
   "metadata": {},
   "outputs": [
    {
     "output_type": "execute_result",
     "data": {
      "text/plain": "dtype('float64')"
     },
     "metadata": {},
     "execution_count": 30
    }
   ],
   "source": [
    "arr1.dtype"
   ]
  },
  {
   "cell_type": "code",
   "execution_count": 31,
   "metadata": {},
   "outputs": [
    {
     "output_type": "execute_result",
     "data": {
      "text/plain": "dtype('int32')"
     },
     "metadata": {},
     "execution_count": 31
    }
   ],
   "source": [
    "arr2.dtype"
   ]
  },
  {
   "cell_type": "code",
   "execution_count": 32,
   "metadata": {},
   "outputs": [],
   "source": [
    "arr = np.array([1, 2, 3, 4, 5])"
   ]
  },
  {
   "cell_type": "code",
   "execution_count": 33,
   "metadata": {},
   "outputs": [
    {
     "output_type": "execute_result",
     "data": {
      "text/plain": "dtype('int32')"
     },
     "metadata": {},
     "execution_count": 33
    }
   ],
   "source": [
    "arr.dtype"
   ]
  },
  {
   "cell_type": "code",
   "execution_count": 34,
   "metadata": {},
   "outputs": [],
   "source": [
    "float_arr = arr.astype(np.float64)"
   ]
  },
  {
   "cell_type": "code",
   "execution_count": 35,
   "metadata": {},
   "outputs": [
    {
     "output_type": "execute_result",
     "data": {
      "text/plain": "dtype('float64')"
     },
     "metadata": {},
     "execution_count": 35
    }
   ],
   "source": [
    "float_arr.dtype"
   ]
  },
  {
   "cell_type": "code",
   "execution_count": 36,
   "metadata": {},
   "outputs": [],
   "source": [
    "arr = np.array([3.7, -1.2, -2.6, 0.5, 12.9, 10.1])"
   ]
  },
  {
   "cell_type": "code",
   "execution_count": 37,
   "metadata": {},
   "outputs": [
    {
     "output_type": "execute_result",
     "data": {
      "text/plain": "array([ 3.7, -1.2, -2.6,  0.5, 12.9, 10.1])"
     },
     "metadata": {},
     "execution_count": 37
    }
   ],
   "source": [
    "arr"
   ]
  },
  {
   "cell_type": "code",
   "execution_count": 38,
   "metadata": {},
   "outputs": [
    {
     "output_type": "execute_result",
     "data": {
      "text/plain": "array([ 3, -1, -2,  0, 12, 10])"
     },
     "metadata": {},
     "execution_count": 38
    }
   ],
   "source": [
    "arr.astype(np.int32)"
   ]
  },
  {
   "cell_type": "code",
   "execution_count": 39,
   "metadata": {},
   "outputs": [],
   "source": [
    "numeric_strings = np.array(['1.25', '-9.6', '42'], dtype = np.string_)"
   ]
  },
  {
   "cell_type": "code",
   "execution_count": 40,
   "metadata": {},
   "outputs": [
    {
     "output_type": "execute_result",
     "data": {
      "text/plain": "dtype('S4')"
     },
     "metadata": {},
     "execution_count": 40
    }
   ],
   "source": [
    "numeric_strings.dtype"
   ]
  },
  {
   "cell_type": "code",
   "execution_count": 41,
   "metadata": {},
   "outputs": [
    {
     "output_type": "execute_result",
     "data": {
      "text/plain": "array([ 1.25, -9.6 , 42.  ])"
     },
     "metadata": {},
     "execution_count": 41
    }
   ],
   "source": [
    "numeric_strings.astype(float)"
   ]
  },
  {
   "cell_type": "code",
   "execution_count": 42,
   "metadata": {},
   "outputs": [],
   "source": [
    "int_array = np.arange(10)"
   ]
  },
  {
   "cell_type": "code",
   "execution_count": 43,
   "metadata": {},
   "outputs": [
    {
     "output_type": "execute_result",
     "data": {
      "text/plain": "array([0, 1, 2, 3, 4, 5, 6, 7, 8, 9])"
     },
     "metadata": {},
     "execution_count": 43
    }
   ],
   "source": [
    "int_array"
   ]
  },
  {
   "cell_type": "code",
   "execution_count": 46,
   "metadata": {},
   "outputs": [],
   "source": [
    "calibers = np.array([.22, .270, .357, .380, .44, .50], dtype = np.float64)"
   ]
  },
  {
   "cell_type": "code",
   "execution_count": 50,
   "metadata": {},
   "outputs": [
    {
     "output_type": "execute_result",
     "data": {
      "text/plain": "array([0., 1., 2., 3., 4., 5., 6., 7., 8., 9.])"
     },
     "metadata": {},
     "execution_count": 50
    }
   ],
   "source": [
    "int_array.astype(calibers.dtype)"
   ]
  },
  {
   "cell_type": "code",
   "execution_count": 48,
   "metadata": {},
   "outputs": [],
   "source": [
    "empty_unit32 = np.empty(8, dtype = 'u4')"
   ]
  },
  {
   "cell_type": "code",
   "execution_count": 49,
   "metadata": {},
   "outputs": [
    {
     "output_type": "execute_result",
     "data": {
      "text/plain": "array([0, 0, 0, 0, 0, 0, 0, 0], dtype=uint32)"
     },
     "metadata": {},
     "execution_count": 49
    }
   ],
   "source": [
    "empty_unit32"
   ]
  },
  {
   "cell_type": "markdown",
   "metadata": {},
   "source": [
    "#### Arithmetic with numpy arrays"
   ]
  },
  {
   "cell_type": "code",
   "execution_count": 51,
   "metadata": {},
   "outputs": [],
   "source": [
    "arr = np.array([[1., 2., 3.], [4., 5., 6.]])"
   ]
  },
  {
   "cell_type": "code",
   "execution_count": 52,
   "metadata": {},
   "outputs": [
    {
     "output_type": "execute_result",
     "data": {
      "text/plain": "array([[1., 2., 3.],\n       [4., 5., 6.]])"
     },
     "metadata": {},
     "execution_count": 52
    }
   ],
   "source": [
    "arr"
   ]
  },
  {
   "cell_type": "code",
   "execution_count": 53,
   "metadata": {},
   "outputs": [
    {
     "output_type": "execute_result",
     "data": {
      "text/plain": "array([[ 1.,  4.,  9.],\n       [16., 25., 36.]])"
     },
     "metadata": {},
     "execution_count": 53
    }
   ],
   "source": [
    "arr * arr"
   ]
  },
  {
   "cell_type": "code",
   "execution_count": 54,
   "metadata": {},
   "outputs": [
    {
     "output_type": "execute_result",
     "data": {
      "text/plain": "array([[0., 0., 0.],\n       [0., 0., 0.]])"
     },
     "metadata": {},
     "execution_count": 54
    }
   ],
   "source": [
    "arr - arr "
   ]
  },
  {
   "cell_type": "code",
   "execution_count": 55,
   "metadata": {},
   "outputs": [
    {
     "output_type": "execute_result",
     "data": {
      "text/plain": "array([[1.        , 0.5       , 0.33333333],\n       [0.25      , 0.2       , 0.16666667]])"
     },
     "metadata": {},
     "execution_count": 55
    }
   ],
   "source": [
    "1/ arr"
   ]
  },
  {
   "cell_type": "code",
   "execution_count": 56,
   "metadata": {},
   "outputs": [
    {
     "output_type": "execute_result",
     "data": {
      "text/plain": "array([[1.        , 1.41421356, 1.73205081],\n       [2.        , 2.23606798, 2.44948974]])"
     },
     "metadata": {},
     "execution_count": 56
    }
   ],
   "source": [
    "arr ** 0.5"
   ]
  },
  {
   "cell_type": "code",
   "execution_count": 57,
   "metadata": {},
   "outputs": [],
   "source": [
    "arr2 = np.array([[0., 4., 1.], [7., 2., 12.]])"
   ]
  },
  {
   "cell_type": "code",
   "execution_count": 58,
   "metadata": {},
   "outputs": [
    {
     "output_type": "execute_result",
     "data": {
      "text/plain": "array([[ 0.,  4.,  1.],\n       [ 7.,  2., 12.]])"
     },
     "metadata": {},
     "execution_count": 58
    }
   ],
   "source": [
    "arr2"
   ]
  },
  {
   "cell_type": "code",
   "execution_count": 59,
   "metadata": {},
   "outputs": [
    {
     "output_type": "execute_result",
     "data": {
      "text/plain": "array([[False,  True, False],\n       [ True, False,  True]])"
     },
     "metadata": {},
     "execution_count": 59
    }
   ],
   "source": [
    "arr2 > arr"
   ]
  },
  {
   "cell_type": "markdown",
   "metadata": {},
   "source": [
    "#### Basic Indexing and Slicing"
   ]
  },
  {
   "cell_type": "code",
   "execution_count": 60,
   "metadata": {},
   "outputs": [],
   "source": [
    "arr = np.arange(10)"
   ]
  },
  {
   "cell_type": "code",
   "execution_count": 61,
   "metadata": {},
   "outputs": [
    {
     "output_type": "execute_result",
     "data": {
      "text/plain": "array([0, 1, 2, 3, 4, 5, 6, 7, 8, 9])"
     },
     "metadata": {},
     "execution_count": 61
    }
   ],
   "source": [
    "arr"
   ]
  },
  {
   "cell_type": "code",
   "execution_count": 62,
   "metadata": {},
   "outputs": [
    {
     "output_type": "execute_result",
     "data": {
      "text/plain": "5"
     },
     "metadata": {},
     "execution_count": 62
    }
   ],
   "source": [
    "arr[5]"
   ]
  },
  {
   "cell_type": "code",
   "execution_count": 63,
   "metadata": {},
   "outputs": [
    {
     "output_type": "execute_result",
     "data": {
      "text/plain": "array([5, 6, 7])"
     },
     "metadata": {},
     "execution_count": 63
    }
   ],
   "source": [
    "arr[5:8]"
   ]
  },
  {
   "cell_type": "code",
   "execution_count": 64,
   "metadata": {},
   "outputs": [],
   "source": [
    "arr[5:8] = 12"
   ]
  },
  {
   "cell_type": "code",
   "execution_count": 65,
   "metadata": {},
   "outputs": [
    {
     "output_type": "execute_result",
     "data": {
      "text/plain": "array([ 0,  1,  2,  3,  4, 12, 12, 12,  8,  9])"
     },
     "metadata": {},
     "execution_count": 65
    }
   ],
   "source": [
    "arr"
   ]
  },
  {
   "cell_type": "code",
   "execution_count": 66,
   "metadata": {},
   "outputs": [],
   "source": [
    "arr_slice = arr[5:8]"
   ]
  },
  {
   "cell_type": "code",
   "execution_count": 67,
   "metadata": {},
   "outputs": [
    {
     "output_type": "execute_result",
     "data": {
      "text/plain": "array([12, 12, 12])"
     },
     "metadata": {},
     "execution_count": 67
    }
   ],
   "source": [
    "arr_slice"
   ]
  },
  {
   "cell_type": "code",
   "execution_count": 68,
   "metadata": {},
   "outputs": [],
   "source": [
    "arr_slice[1] = 12345"
   ]
  },
  {
   "cell_type": "code",
   "execution_count": 69,
   "metadata": {},
   "outputs": [
    {
     "output_type": "execute_result",
     "data": {
      "text/plain": "array([    0,     1,     2,     3,     4,    12, 12345,    12,     8,\n           9])"
     },
     "metadata": {},
     "execution_count": 69
    }
   ],
   "source": [
    "arr"
   ]
  },
  {
   "cell_type": "code",
   "execution_count": 70,
   "metadata": {},
   "outputs": [],
   "source": [
    "arr_slice[:] = 64"
   ]
  },
  {
   "cell_type": "code",
   "execution_count": 71,
   "metadata": {},
   "outputs": [
    {
     "output_type": "execute_result",
     "data": {
      "text/plain": "array([ 0,  1,  2,  3,  4, 64, 64, 64,  8,  9])"
     },
     "metadata": {},
     "execution_count": 71
    }
   ],
   "source": [
    "arr"
   ]
  },
  {
   "cell_type": "code",
   "execution_count": 72,
   "metadata": {},
   "outputs": [],
   "source": [
    "arr2d = np.array([[1, 2, 3], [4, 5, 6], [7, 8, 9]])"
   ]
  },
  {
   "cell_type": "code",
   "execution_count": 73,
   "metadata": {},
   "outputs": [
    {
     "output_type": "execute_result",
     "data": {
      "text/plain": "array([7, 8, 9])"
     },
     "metadata": {},
     "execution_count": 73
    }
   ],
   "source": [
    "arr2d[2]"
   ]
  },
  {
   "cell_type": "code",
   "execution_count": 75,
   "metadata": {},
   "outputs": [
    {
     "output_type": "execute_result",
     "data": {
      "text/plain": "3"
     },
     "metadata": {},
     "execution_count": 75
    }
   ],
   "source": [
    "arr2d[0][2]"
   ]
  },
  {
   "cell_type": "code",
   "execution_count": 77,
   "metadata": {},
   "outputs": [
    {
     "output_type": "execute_result",
     "data": {
      "text/plain": "3"
     },
     "metadata": {},
     "execution_count": 77
    }
   ],
   "source": [
    "arr2d[0, 2]"
   ]
  },
  {
   "cell_type": "code",
   "execution_count": 87,
   "metadata": {},
   "outputs": [],
   "source": [
    "arr3d = np.array([[[1, 2, 3], [4, 5, 6]], [[7, 8, 9], [10, 11, 12]]])"
   ]
  },
  {
   "cell_type": "code",
   "execution_count": 88,
   "metadata": {},
   "outputs": [
    {
     "output_type": "execute_result",
     "data": {
      "text/plain": "array([[[ 1,  2,  3],\n        [ 4,  5,  6]],\n\n       [[ 7,  8,  9],\n        [10, 11, 12]]])"
     },
     "metadata": {},
     "execution_count": 88
    }
   ],
   "source": [
    "arr3d"
   ]
  },
  {
   "cell_type": "code",
   "execution_count": 89,
   "metadata": {},
   "outputs": [
    {
     "output_type": "execute_result",
     "data": {
      "text/plain": "array([[1, 2, 3],\n       [4, 5, 6]])"
     },
     "metadata": {},
     "execution_count": 89
    }
   ],
   "source": [
    "arr3d[0]"
   ]
  },
  {
   "cell_type": "code",
   "execution_count": 90,
   "metadata": {},
   "outputs": [],
   "source": [
    "old_values = arr3d[0].copy()"
   ]
  },
  {
   "cell_type": "code",
   "execution_count": 91,
   "metadata": {},
   "outputs": [],
   "source": [
    "arr3d[0] = 42"
   ]
  },
  {
   "cell_type": "code",
   "execution_count": 92,
   "metadata": {},
   "outputs": [
    {
     "output_type": "execute_result",
     "data": {
      "text/plain": "array([[[42, 42, 42],\n        [42, 42, 42]],\n\n       [[ 7,  8,  9],\n        [10, 11, 12]]])"
     },
     "metadata": {},
     "execution_count": 92
    }
   ],
   "source": [
    "arr3d"
   ]
  },
  {
   "cell_type": "code",
   "execution_count": 93,
   "metadata": {},
   "outputs": [],
   "source": [
    "arr3d[0] = old_values"
   ]
  },
  {
   "cell_type": "code",
   "execution_count": 94,
   "metadata": {},
   "outputs": [
    {
     "output_type": "execute_result",
     "data": {
      "text/plain": "array([[[ 1,  2,  3],\n        [ 4,  5,  6]],\n\n       [[ 7,  8,  9],\n        [10, 11, 12]]])"
     },
     "metadata": {},
     "execution_count": 94
    }
   ],
   "source": [
    "arr3d"
   ]
  },
  {
   "cell_type": "code",
   "execution_count": 95,
   "metadata": {},
   "outputs": [
    {
     "output_type": "execute_result",
     "data": {
      "text/plain": "array([7, 8, 9])"
     },
     "metadata": {},
     "execution_count": 95
    }
   ],
   "source": [
    "arr3d[1, 0]"
   ]
  },
  {
   "cell_type": "code",
   "execution_count": 96,
   "metadata": {},
   "outputs": [],
   "source": [
    "x = arr3d[1]"
   ]
  },
  {
   "cell_type": "code",
   "execution_count": 97,
   "metadata": {},
   "outputs": [
    {
     "output_type": "execute_result",
     "data": {
      "text/plain": "array([[ 7,  8,  9],\n       [10, 11, 12]])"
     },
     "metadata": {},
     "execution_count": 97
    }
   ],
   "source": [
    "x"
   ]
  },
  {
   "cell_type": "code",
   "execution_count": 98,
   "metadata": {},
   "outputs": [
    {
     "output_type": "execute_result",
     "data": {
      "text/plain": "array([7, 8, 9])"
     },
     "metadata": {},
     "execution_count": 98
    }
   ],
   "source": [
    "x[0]"
   ]
  },
  {
   "cell_type": "markdown",
   "metadata": {},
   "source": [
    "#### Indexing with slices"
   ]
  },
  {
   "cell_type": "code",
   "execution_count": 99,
   "metadata": {},
   "outputs": [
    {
     "output_type": "execute_result",
     "data": {
      "text/plain": "array([ 0,  1,  2,  3,  4, 64, 64, 64,  8,  9])"
     },
     "metadata": {},
     "execution_count": 99
    }
   ],
   "source": [
    "arr"
   ]
  },
  {
   "cell_type": "code",
   "execution_count": 100,
   "metadata": {},
   "outputs": [
    {
     "output_type": "execute_result",
     "data": {
      "text/plain": "array([ 1,  2,  3,  4, 64])"
     },
     "metadata": {},
     "execution_count": 100
    }
   ],
   "source": [
    "arr[1:6]"
   ]
  },
  {
   "cell_type": "code",
   "execution_count": 101,
   "metadata": {},
   "outputs": [
    {
     "output_type": "execute_result",
     "data": {
      "text/plain": "array([[1, 2, 3],\n       [4, 5, 6],\n       [7, 8, 9]])"
     },
     "metadata": {},
     "execution_count": 101
    }
   ],
   "source": [
    "arr2d"
   ]
  },
  {
   "cell_type": "code",
   "execution_count": 102,
   "metadata": {},
   "outputs": [
    {
     "output_type": "execute_result",
     "data": {
      "text/plain": "array([[1, 2, 3],\n       [4, 5, 6]])"
     },
     "metadata": {},
     "execution_count": 102
    }
   ],
   "source": [
    "arr2d[:2]"
   ]
  },
  {
   "cell_type": "code",
   "execution_count": 103,
   "metadata": {},
   "outputs": [
    {
     "output_type": "execute_result",
     "data": {
      "text/plain": "array([[2, 3],\n       [5, 6]])"
     },
     "metadata": {},
     "execution_count": 103
    }
   ],
   "source": [
    "arr2d[:2, 1:]"
   ]
  },
  {
   "cell_type": "code",
   "execution_count": 105,
   "metadata": {},
   "outputs": [
    {
     "output_type": "execute_result",
     "data": {
      "text/plain": "array([4, 5])"
     },
     "metadata": {},
     "execution_count": 105
    }
   ],
   "source": [
    "arr2d[1, :2]"
   ]
  },
  {
   "cell_type": "code",
   "execution_count": 106,
   "metadata": {},
   "outputs": [
    {
     "output_type": "execute_result",
     "data": {
      "text/plain": "array([3, 6])"
     },
     "metadata": {},
     "execution_count": 106
    }
   ],
   "source": [
    "arr2d[:2, 2]"
   ]
  },
  {
   "cell_type": "code",
   "execution_count": 107,
   "metadata": {},
   "outputs": [
    {
     "output_type": "execute_result",
     "data": {
      "text/plain": "array([[1],\n       [4],\n       [7]])"
     },
     "metadata": {},
     "execution_count": 107
    }
   ],
   "source": [
    "arr2d[:, :1]"
   ]
  },
  {
   "cell_type": "markdown",
   "metadata": {},
   "source": [
    "#### Boolean Indexing"
   ]
  },
  {
   "cell_type": "code",
   "execution_count": 108,
   "metadata": {},
   "outputs": [],
   "source": [
    "names = np.array(['Bob', 'Joe', 'Will', 'Bob', 'Will', 'Joe', 'Joe'])"
   ]
  },
  {
   "cell_type": "code",
   "execution_count": 109,
   "metadata": {},
   "outputs": [],
   "source": [
    "data = np.random.randn(7, 4)"
   ]
  },
  {
   "cell_type": "code",
   "execution_count": 110,
   "metadata": {},
   "outputs": [
    {
     "output_type": "execute_result",
     "data": {
      "text/plain": "array(['Bob', 'Joe', 'Will', 'Bob', 'Will', 'Joe', 'Joe'], dtype='<U4')"
     },
     "metadata": {},
     "execution_count": 110
    }
   ],
   "source": [
    "names"
   ]
  },
  {
   "cell_type": "code",
   "execution_count": 111,
   "metadata": {},
   "outputs": [
    {
     "output_type": "execute_result",
     "data": {
      "text/plain": "array([[-1.12831402,  0.72903434,  0.19211456, -0.12623334],\n       [-0.2534676 , -1.17070514,  0.36169293,  1.20276534],\n       [ 0.58159344,  0.25913622, -0.29297831,  2.31486658],\n       [ 1.21194431, -1.30448667, -0.53429715, -0.93876804],\n       [ 1.80016905,  0.04028854, -0.30717442,  0.36491752],\n       [-0.14034257,  0.96555441, -1.17497774,  0.59763706],\n       [ 1.03548764, -0.0223518 ,  0.7308962 , -2.12392643]])"
     },
     "metadata": {},
     "execution_count": 111
    }
   ],
   "source": [
    "data"
   ]
  },
  {
   "cell_type": "code",
   "execution_count": 112,
   "metadata": {},
   "outputs": [
    {
     "output_type": "execute_result",
     "data": {
      "text/plain": "array([ True, False, False,  True, False, False, False])"
     },
     "metadata": {},
     "execution_count": 112
    }
   ],
   "source": [
    "names == 'Bob'"
   ]
  },
  {
   "cell_type": "code",
   "execution_count": 113,
   "metadata": {},
   "outputs": [
    {
     "output_type": "execute_result",
     "data": {
      "text/plain": "array([[-1.12831402,  0.72903434,  0.19211456, -0.12623334],\n       [ 1.21194431, -1.30448667, -0.53429715, -0.93876804]])"
     },
     "metadata": {},
     "execution_count": 113
    }
   ],
   "source": [
    "data[names == 'Bob']"
   ]
  },
  {
   "cell_type": "code",
   "execution_count": 114,
   "metadata": {},
   "outputs": [
    {
     "output_type": "execute_result",
     "data": {
      "text/plain": "array([[ 0.19211456, -0.12623334],\n       [-0.53429715, -0.93876804]])"
     },
     "metadata": {},
     "execution_count": 114
    }
   ],
   "source": [
    "data[names == 'Bob', 2:]"
   ]
  },
  {
   "cell_type": "code",
   "execution_count": 115,
   "metadata": {},
   "outputs": [
    {
     "output_type": "execute_result",
     "data": {
      "text/plain": "array([-0.12623334, -0.93876804])"
     },
     "metadata": {},
     "execution_count": 115
    }
   ],
   "source": [
    "data[names == 'Bob', 3]"
   ]
  },
  {
   "cell_type": "code",
   "execution_count": 116,
   "metadata": {},
   "outputs": [
    {
     "output_type": "execute_result",
     "data": {
      "text/plain": "array([False,  True,  True, False,  True,  True,  True])"
     },
     "metadata": {},
     "execution_count": 116
    }
   ],
   "source": [
    "names != 'Bob'"
   ]
  },
  {
   "cell_type": "code",
   "execution_count": 117,
   "metadata": {},
   "outputs": [
    {
     "output_type": "execute_result",
     "data": {
      "text/plain": "array([[-0.2534676 , -1.17070514,  0.36169293,  1.20276534],\n       [ 0.58159344,  0.25913622, -0.29297831,  2.31486658],\n       [ 1.80016905,  0.04028854, -0.30717442,  0.36491752],\n       [-0.14034257,  0.96555441, -1.17497774,  0.59763706],\n       [ 1.03548764, -0.0223518 ,  0.7308962 , -2.12392643]])"
     },
     "metadata": {},
     "execution_count": 117
    }
   ],
   "source": [
    "data[~(names == 'Bob')]"
   ]
  },
  {
   "cell_type": "code",
   "execution_count": 118,
   "metadata": {},
   "outputs": [],
   "source": [
    "cond = names == 'Bobs'"
   ]
  },
  {
   "cell_type": "code",
   "execution_count": 120,
   "metadata": {},
   "outputs": [
    {
     "output_type": "execute_result",
     "data": {
      "text/plain": "array([False, False, False, False, False, False, False])"
     },
     "metadata": {},
     "execution_count": 120
    }
   ],
   "source": [
    "cond"
   ]
  },
  {
   "cell_type": "code",
   "execution_count": 121,
   "metadata": {},
   "outputs": [
    {
     "output_type": "execute_result",
     "data": {
      "text/plain": "array([[-1.12831402,  0.72903434,  0.19211456, -0.12623334],\n       [-0.2534676 , -1.17070514,  0.36169293,  1.20276534],\n       [ 0.58159344,  0.25913622, -0.29297831,  2.31486658],\n       [ 1.21194431, -1.30448667, -0.53429715, -0.93876804],\n       [ 1.80016905,  0.04028854, -0.30717442,  0.36491752],\n       [-0.14034257,  0.96555441, -1.17497774,  0.59763706],\n       [ 1.03548764, -0.0223518 ,  0.7308962 , -2.12392643]])"
     },
     "metadata": {},
     "execution_count": 121
    }
   ],
   "source": [
    "data[~cond]"
   ]
  },
  {
   "cell_type": "code",
   "execution_count": 122,
   "metadata": {},
   "outputs": [],
   "source": [
    "mask = (names == 'Bob') | (names == 'Will')"
   ]
  },
  {
   "cell_type": "code",
   "execution_count": 123,
   "metadata": {},
   "outputs": [
    {
     "output_type": "execute_result",
     "data": {
      "text/plain": "array([ True, False,  True,  True,  True, False, False])"
     },
     "metadata": {},
     "execution_count": 123
    }
   ],
   "source": [
    "mask"
   ]
  },
  {
   "cell_type": "code",
   "execution_count": 125,
   "metadata": {},
   "outputs": [
    {
     "output_type": "execute_result",
     "data": {
      "text/plain": "array([[-1.12831402,  0.72903434,  0.19211456, -0.12623334],\n       [-0.2534676 , -1.17070514,  0.36169293,  1.20276534],\n       [ 0.58159344,  0.25913622, -0.29297831,  2.31486658],\n       [ 1.21194431, -1.30448667, -0.53429715, -0.93876804],\n       [ 1.80016905,  0.04028854, -0.30717442,  0.36491752],\n       [-0.14034257,  0.96555441, -1.17497774,  0.59763706],\n       [ 1.03548764, -0.0223518 ,  0.7308962 , -2.12392643]])"
     },
     "metadata": {},
     "execution_count": 125
    }
   ],
   "source": [
    "data"
   ]
  },
  {
   "cell_type": "code",
   "execution_count": 126,
   "metadata": {},
   "outputs": [
    {
     "output_type": "execute_result",
     "data": {
      "text/plain": "array([[-1.12831402,  0.72903434,  0.19211456, -0.12623334],\n       [ 0.58159344,  0.25913622, -0.29297831,  2.31486658],\n       [ 1.21194431, -1.30448667, -0.53429715, -0.93876804],\n       [ 1.80016905,  0.04028854, -0.30717442,  0.36491752]])"
     },
     "metadata": {},
     "execution_count": 126
    }
   ],
   "source": [
    "data[mask]"
   ]
  },
  {
   "cell_type": "code",
   "execution_count": 127,
   "metadata": {},
   "outputs": [],
   "source": [
    "data[data < 0] = 0"
   ]
  },
  {
   "cell_type": "code",
   "execution_count": 128,
   "metadata": {},
   "outputs": [
    {
     "output_type": "execute_result",
     "data": {
      "text/plain": "array([[0.        , 0.72903434, 0.19211456, 0.        ],\n       [0.        , 0.        , 0.36169293, 1.20276534],\n       [0.58159344, 0.25913622, 0.        , 2.31486658],\n       [1.21194431, 0.        , 0.        , 0.        ],\n       [1.80016905, 0.04028854, 0.        , 0.36491752],\n       [0.        , 0.96555441, 0.        , 0.59763706],\n       [1.03548764, 0.        , 0.7308962 , 0.        ]])"
     },
     "metadata": {},
     "execution_count": 128
    }
   ],
   "source": [
    "data"
   ]
  },
  {
   "cell_type": "code",
   "execution_count": 129,
   "metadata": {},
   "outputs": [],
   "source": [
    "data[names != 'Joe'] = 7"
   ]
  },
  {
   "cell_type": "code",
   "execution_count": 130,
   "metadata": {},
   "outputs": [
    {
     "output_type": "execute_result",
     "data": {
      "text/plain": "array([[7.        , 7.        , 7.        , 7.        ],\n       [0.        , 0.        , 0.36169293, 1.20276534],\n       [7.        , 7.        , 7.        , 7.        ],\n       [7.        , 7.        , 7.        , 7.        ],\n       [7.        , 7.        , 7.        , 7.        ],\n       [0.        , 0.96555441, 0.        , 0.59763706],\n       [1.03548764, 0.        , 0.7308962 , 0.        ]])"
     },
     "metadata": {},
     "execution_count": 130
    }
   ],
   "source": [
    "data"
   ]
  },
  {
   "cell_type": "markdown",
   "metadata": {},
   "source": [
    "#### Fancy Indexing"
   ]
  },
  {
   "cell_type": "code",
   "execution_count": 131,
   "metadata": {},
   "outputs": [],
   "source": [
    "arr = np.empty((8, 4))"
   ]
  },
  {
   "cell_type": "code",
   "execution_count": 132,
   "metadata": {},
   "outputs": [
    {
     "output_type": "execute_result",
     "data": {
      "text/plain": "array([[1.07839256e-311, 1.07839259e-311, 1.07839259e-311,\n        1.07839265e-311],\n       [1.07839265e-311, 1.07839265e-311, 1.07839266e-311,\n        1.07839266e-311],\n       [1.07839266e-311, 1.07839265e-311, 1.07839265e-311,\n        1.07839265e-311],\n       [1.07839265e-311, 1.07839266e-311, 1.07839266e-311,\n        1.07839266e-311],\n       [1.07839266e-311, 1.07839266e-311, 1.07839266e-311,\n        1.07839266e-311],\n       [1.07839266e-311, 1.07839266e-311, 1.07839266e-311,\n        1.07839266e-311],\n       [1.07839266e-311, 1.07839266e-311, 1.07839266e-311,\n        1.07839266e-311],\n       [1.07839266e-311, 1.07839266e-311, 1.07839266e-311,\n        1.07839266e-311]])"
     },
     "metadata": {},
     "execution_count": 132
    }
   ],
   "source": [
    "arr"
   ]
  },
  {
   "cell_type": "code",
   "execution_count": 133,
   "metadata": {},
   "outputs": [],
   "source": [
    "for i in range(8):\n",
    "    arr[i] = i"
   ]
  },
  {
   "cell_type": "code",
   "execution_count": 134,
   "metadata": {},
   "outputs": [
    {
     "output_type": "execute_result",
     "data": {
      "text/plain": "array([[0., 0., 0., 0.],\n       [1., 1., 1., 1.],\n       [2., 2., 2., 2.],\n       [3., 3., 3., 3.],\n       [4., 4., 4., 4.],\n       [5., 5., 5., 5.],\n       [6., 6., 6., 6.],\n       [7., 7., 7., 7.]])"
     },
     "metadata": {},
     "execution_count": 134
    }
   ],
   "source": [
    "arr"
   ]
  },
  {
   "cell_type": "code",
   "execution_count": 135,
   "metadata": {},
   "outputs": [
    {
     "output_type": "execute_result",
     "data": {
      "text/plain": "array([[4., 4., 4., 4.],\n       [3., 3., 3., 3.],\n       [0., 0., 0., 0.],\n       [6., 6., 6., 6.]])"
     },
     "metadata": {},
     "execution_count": 135
    }
   ],
   "source": [
    "arr[[4, 3, 0, 6]]"
   ]
  },
  {
   "cell_type": "code",
   "execution_count": 136,
   "metadata": {},
   "outputs": [
    {
     "output_type": "execute_result",
     "data": {
      "text/plain": "array([[5., 5., 5., 5.],\n       [3., 3., 3., 3.],\n       [1., 1., 1., 1.]])"
     },
     "metadata": {},
     "execution_count": 136
    }
   ],
   "source": [
    "arr[[-3, -5, -7]]"
   ]
  },
  {
   "cell_type": "code",
   "execution_count": 139,
   "metadata": {},
   "outputs": [],
   "source": [
    "arr = np.arange(32).reshape((8, 4))"
   ]
  },
  {
   "cell_type": "code",
   "execution_count": 141,
   "metadata": {},
   "outputs": [
    {
     "output_type": "execute_result",
     "data": {
      "text/plain": "array([[ 0,  1,  2,  3],\n       [ 4,  5,  6,  7],\n       [ 8,  9, 10, 11],\n       [12, 13, 14, 15],\n       [16, 17, 18, 19],\n       [20, 21, 22, 23],\n       [24, 25, 26, 27],\n       [28, 29, 30, 31]])"
     },
     "metadata": {},
     "execution_count": 141
    }
   ],
   "source": [
    "arr"
   ]
  },
  {
   "cell_type": "code",
   "execution_count": 142,
   "metadata": {},
   "outputs": [
    {
     "output_type": "execute_result",
     "data": {
      "text/plain": "array([ 4, 23, 29, 10])"
     },
     "metadata": {},
     "execution_count": 142
    }
   ],
   "source": [
    "arr[[1, 5, 7, 2], [0, 3, 1, 2]]"
   ]
  },
  {
   "cell_type": "code",
   "execution_count": 145,
   "metadata": {},
   "outputs": [
    {
     "output_type": "execute_result",
     "data": {
      "text/plain": "array([[ 4,  7,  5,  6],\n       [20, 23, 21, 22],\n       [28, 31, 29, 30],\n       [ 8, 11,  9, 10]])"
     },
     "metadata": {},
     "execution_count": 145
    }
   ],
   "source": [
    "arr[[1, 5, 7, 2]][:, [0, 3, 1, 2]]"
   ]
  },
  {
   "cell_type": "markdown",
   "metadata": {},
   "source": [
    "#### Transposing Arrays and Swapping Axes"
   ]
  },
  {
   "cell_type": "code",
   "execution_count": 146,
   "metadata": {},
   "outputs": [],
   "source": [
    "arr = np.arange(15).reshape((3, 5))"
   ]
  },
  {
   "cell_type": "code",
   "execution_count": 147,
   "metadata": {},
   "outputs": [
    {
     "output_type": "execute_result",
     "data": {
      "text/plain": "array([[ 0,  1,  2,  3,  4],\n       [ 5,  6,  7,  8,  9],\n       [10, 11, 12, 13, 14]])"
     },
     "metadata": {},
     "execution_count": 147
    }
   ],
   "source": [
    "arr"
   ]
  },
  {
   "cell_type": "code",
   "execution_count": 148,
   "metadata": {},
   "outputs": [
    {
     "output_type": "execute_result",
     "data": {
      "text/plain": "array([[ 0,  5, 10],\n       [ 1,  6, 11],\n       [ 2,  7, 12],\n       [ 3,  8, 13],\n       [ 4,  9, 14]])"
     },
     "metadata": {},
     "execution_count": 148
    }
   ],
   "source": [
    "arr.T"
   ]
  },
  {
   "cell_type": "code",
   "execution_count": 149,
   "metadata": {},
   "outputs": [],
   "source": [
    "arr = np.random.randn(6, 3)"
   ]
  },
  {
   "cell_type": "code",
   "execution_count": 150,
   "metadata": {},
   "outputs": [
    {
     "output_type": "execute_result",
     "data": {
      "text/plain": "array([[-3.62793665,  0.61384863, -1.68096723],\n       [ 0.52833607, -0.33380433,  2.17485386],\n       [ 1.58622974, -0.03615577, -0.80217629],\n       [ 0.24861198, -1.31524065, -0.62078504],\n       [-0.85597909,  0.34786915,  0.34243732],\n       [-1.20325054,  0.68048288,  0.26743845]])"
     },
     "metadata": {},
     "execution_count": 150
    }
   ],
   "source": [
    "arr"
   ]
  },
  {
   "cell_type": "code",
   "execution_count": 151,
   "metadata": {},
   "outputs": [
    {
     "output_type": "execute_result",
     "data": {
      "text/plain": "array([[18.19950813, -3.90426084,  5.20581123],\n       [-3.90426084,  2.80347056, -0.61123938],\n       [ 5.20581123, -0.61123938,  8.77328764]])"
     },
     "metadata": {},
     "execution_count": 151
    }
   ],
   "source": [
    "np.dot(arr.T, arr)"
   ]
  },
  {
   "cell_type": "code",
   "execution_count": 152,
   "metadata": {},
   "outputs": [],
   "source": [
    "arr = np.arange(16).reshape((2, 2, 4))"
   ]
  },
  {
   "cell_type": "code",
   "execution_count": 153,
   "metadata": {},
   "outputs": [
    {
     "output_type": "execute_result",
     "data": {
      "text/plain": "array([[[ 0,  1,  2,  3],\n        [ 4,  5,  6,  7]],\n\n       [[ 8,  9, 10, 11],\n        [12, 13, 14, 15]]])"
     },
     "metadata": {},
     "execution_count": 153
    }
   ],
   "source": [
    "arr"
   ]
  },
  {
   "cell_type": "code",
   "execution_count": 154,
   "metadata": {},
   "outputs": [
    {
     "output_type": "execute_result",
     "data": {
      "text/plain": "array([[[ 0,  1,  2,  3],\n        [ 8,  9, 10, 11]],\n\n       [[ 4,  5,  6,  7],\n        [12, 13, 14, 15]]])"
     },
     "metadata": {},
     "execution_count": 154
    }
   ],
   "source": [
    "arr.transpose((1, 0, 2))"
   ]
  },
  {
   "cell_type": "code",
   "execution_count": 155,
   "metadata": {},
   "outputs": [
    {
     "output_type": "execute_result",
     "data": {
      "text/plain": "array([[[ 0,  1,  2,  3],\n        [ 4,  5,  6,  7]],\n\n       [[ 8,  9, 10, 11],\n        [12, 13, 14, 15]]])"
     },
     "metadata": {},
     "execution_count": 155
    }
   ],
   "source": [
    "arr"
   ]
  },
  {
   "cell_type": "code",
   "execution_count": 157,
   "metadata": {},
   "outputs": [
    {
     "output_type": "execute_result",
     "data": {
      "text/plain": "array([[[ 0,  4],\n        [ 1,  5],\n        [ 2,  6],\n        [ 3,  7]],\n\n       [[ 8, 12],\n        [ 9, 13],\n        [10, 14],\n        [11, 15]]])"
     },
     "metadata": {},
     "execution_count": 157
    }
   ],
   "source": [
    "arr.swapaxes(1, 2)"
   ]
  },
  {
   "cell_type": "markdown",
   "metadata": {},
   "source": [
    "### 4.2 Universal Functions: Fast Element-Wise Array Functions"
   ]
  },
  {
   "cell_type": "code",
   "execution_count": 158,
   "metadata": {},
   "outputs": [],
   "source": [
    "arr = np.arange(10)"
   ]
  },
  {
   "cell_type": "code",
   "execution_count": 159,
   "metadata": {},
   "outputs": [
    {
     "output_type": "execute_result",
     "data": {
      "text/plain": "array([0.        , 1.        , 1.41421356, 1.73205081, 2.        ,\n       2.23606798, 2.44948974, 2.64575131, 2.82842712, 3.        ])"
     },
     "metadata": {},
     "execution_count": 159
    }
   ],
   "source": [
    "np.sqrt(arr)"
   ]
  },
  {
   "cell_type": "code",
   "execution_count": 160,
   "metadata": {},
   "outputs": [
    {
     "output_type": "execute_result",
     "data": {
      "text/plain": "array([1.00000000e+00, 2.71828183e+00, 7.38905610e+00, 2.00855369e+01,\n       5.45981500e+01, 1.48413159e+02, 4.03428793e+02, 1.09663316e+03,\n       2.98095799e+03, 8.10308393e+03])"
     },
     "metadata": {},
     "execution_count": 160
    }
   ],
   "source": [
    "np.exp(arr)"
   ]
  },
  {
   "cell_type": "code",
   "execution_count": 161,
   "metadata": {},
   "outputs": [],
   "source": [
    "x = np.random.randn(8)"
   ]
  },
  {
   "cell_type": "code",
   "execution_count": 162,
   "metadata": {},
   "outputs": [],
   "source": [
    "y = np.random.randn(8)"
   ]
  },
  {
   "cell_type": "code",
   "execution_count": 163,
   "metadata": {},
   "outputs": [
    {
     "output_type": "execute_result",
     "data": {
      "text/plain": "array([-0.02386662, -0.78189437,  0.64033835, -0.45927435, -0.1378754 ,\n        0.05643153,  1.38957878,  0.76417939])"
     },
     "metadata": {},
     "execution_count": 163
    }
   ],
   "source": [
    "x"
   ]
  },
  {
   "cell_type": "code",
   "execution_count": 164,
   "metadata": {},
   "outputs": [
    {
     "output_type": "execute_result",
     "data": {
      "text/plain": "array([-0.35126671, -0.40952572, -0.11797578,  1.14277136,  0.26034457,\n        0.6400954 , -0.97271692, -1.08401596])"
     },
     "metadata": {},
     "execution_count": 164
    }
   ],
   "source": [
    "y"
   ]
  },
  {
   "cell_type": "code",
   "execution_count": 165,
   "metadata": {},
   "outputs": [
    {
     "output_type": "execute_result",
     "data": {
      "text/plain": "array([-0.02386662, -0.40952572,  0.64033835,  1.14277136,  0.26034457,\n        0.6400954 ,  1.38957878,  0.76417939])"
     },
     "metadata": {},
     "execution_count": 165
    }
   ],
   "source": [
    "np.maximum(x, y)"
   ]
  },
  {
   "cell_type": "code",
   "execution_count": 166,
   "metadata": {},
   "outputs": [],
   "source": [
    "arr = np.random.randn(7) * 5"
   ]
  },
  {
   "cell_type": "code",
   "execution_count": 167,
   "metadata": {},
   "outputs": [
    {
     "output_type": "execute_result",
     "data": {
      "text/plain": "array([  5.15131089,  -1.41408185,  -1.61808687, -10.87498917,\n         1.1836911 ,  -3.183002  ,   2.1166084 ])"
     },
     "metadata": {},
     "execution_count": 167
    }
   ],
   "source": [
    "arr"
   ]
  },
  {
   "cell_type": "code",
   "execution_count": 168,
   "metadata": {},
   "outputs": [],
   "source": [
    "remainder, whole_part = np.modf(arr)"
   ]
  },
  {
   "cell_type": "code",
   "execution_count": 170,
   "metadata": {},
   "outputs": [
    {
     "output_type": "execute_result",
     "data": {
      "text/plain": "array([ 0.15131089, -0.41408185, -0.61808687, -0.87498917,  0.1836911 ,\n       -0.183002  ,  0.1166084 ])"
     },
     "metadata": {},
     "execution_count": 170
    }
   ],
   "source": [
    "remainder"
   ]
  },
  {
   "cell_type": "code",
   "execution_count": 171,
   "metadata": {},
   "outputs": [
    {
     "output_type": "execute_result",
     "data": {
      "text/plain": "array([  5.,  -1.,  -1., -10.,   1.,  -3.,   2.])"
     },
     "metadata": {},
     "execution_count": 171
    }
   ],
   "source": [
    "whole_part"
   ]
  },
  {
   "cell_type": "code",
   "execution_count": 172,
   "metadata": {},
   "outputs": [
    {
     "output_type": "execute_result",
     "data": {
      "text/plain": "array([  5.15131089,  -1.41408185,  -1.61808687, -10.87498917,\n         1.1836911 ,  -3.183002  ,   2.1166084 ])"
     },
     "metadata": {},
     "execution_count": 172
    }
   ],
   "source": [
    "arr"
   ]
  },
  {
   "cell_type": "code",
   "execution_count": 173,
   "metadata": {},
   "outputs": [
    {
     "output_type": "execute_result",
     "data": {
      "text/plain": "array([2.26964995,        nan,        nan,        nan, 1.08797569,\n              nan, 1.45485683])"
     },
     "metadata": {},
     "execution_count": 173
    }
   ],
   "source": [
    "np.sqrt(arr)"
   ]
  },
  {
   "cell_type": "code",
   "execution_count": 174,
   "metadata": {},
   "outputs": [
    {
     "output_type": "execute_result",
     "data": {
      "text/plain": "array([2.26964995,        nan,        nan,        nan, 1.08797569,\n              nan, 1.45485683])"
     },
     "metadata": {},
     "execution_count": 174
    }
   ],
   "source": [
    "np.sqrt(arr, arr)"
   ]
  },
  {
   "cell_type": "code",
   "execution_count": 175,
   "metadata": {},
   "outputs": [
    {
     "output_type": "execute_result",
     "data": {
      "text/plain": "array([2.26964995,        nan,        nan,        nan, 1.08797569,\n              nan, 1.45485683])"
     },
     "metadata": {},
     "execution_count": 175
    }
   ],
   "source": [
    "arr"
   ]
  },
  {
   "cell_type": "markdown",
   "metadata": {},
   "source": [
    "### 4.3 Array-Oriented Programming with Arrays"
   ]
  },
  {
   "cell_type": "code",
   "execution_count": 178,
   "metadata": {},
   "outputs": [],
   "source": [
    "points = np.arange(-5, 5, 0.01) # 1000 equally spaced points"
   ]
  },
  {
   "cell_type": "code",
   "execution_count": 179,
   "metadata": {},
   "outputs": [],
   "source": [
    "xs, ys = np.meshgrid(points, points)"
   ]
  },
  {
   "cell_type": "code",
   "execution_count": 180,
   "metadata": {},
   "outputs": [
    {
     "output_type": "execute_result",
     "data": {
      "text/plain": "array([[-5.  , -5.  , -5.  , ..., -5.  , -5.  , -5.  ],\n       [-4.99, -4.99, -4.99, ..., -4.99, -4.99, -4.99],\n       [-4.98, -4.98, -4.98, ..., -4.98, -4.98, -4.98],\n       ...,\n       [ 4.97,  4.97,  4.97, ...,  4.97,  4.97,  4.97],\n       [ 4.98,  4.98,  4.98, ...,  4.98,  4.98,  4.98],\n       [ 4.99,  4.99,  4.99, ...,  4.99,  4.99,  4.99]])"
     },
     "metadata": {},
     "execution_count": 180
    }
   ],
   "source": [
    "ys"
   ]
  },
  {
   "cell_type": "code",
   "execution_count": 181,
   "metadata": {},
   "outputs": [
    {
     "output_type": "execute_result",
     "data": {
      "text/plain": "array([[-5.  , -4.99, -4.98, ...,  4.97,  4.98,  4.99],\n       [-5.  , -4.99, -4.98, ...,  4.97,  4.98,  4.99],\n       [-5.  , -4.99, -4.98, ...,  4.97,  4.98,  4.99],\n       ...,\n       [-5.  , -4.99, -4.98, ...,  4.97,  4.98,  4.99],\n       [-5.  , -4.99, -4.98, ...,  4.97,  4.98,  4.99],\n       [-5.  , -4.99, -4.98, ...,  4.97,  4.98,  4.99]])"
     },
     "metadata": {},
     "execution_count": 181
    }
   ],
   "source": [
    "xs"
   ]
  },
  {
   "cell_type": "code",
   "execution_count": 182,
   "metadata": {},
   "outputs": [],
   "source": [
    "z = np.sqrt(xs ** 2 + ys ** 2)"
   ]
  },
  {
   "cell_type": "code",
   "execution_count": 183,
   "metadata": {},
   "outputs": [
    {
     "output_type": "execute_result",
     "data": {
      "text/plain": "array([[7.07106781, 7.06400028, 7.05693985, ..., 7.04988652, 7.05693985,\n        7.06400028],\n       [7.06400028, 7.05692568, 7.04985815, ..., 7.04279774, 7.04985815,\n        7.05692568],\n       [7.05693985, 7.04985815, 7.04278354, ..., 7.03571603, 7.04278354,\n        7.04985815],\n       ...,\n       [7.04988652, 7.04279774, 7.03571603, ..., 7.0286414 , 7.03571603,\n        7.04279774],\n       [7.05693985, 7.04985815, 7.04278354, ..., 7.03571603, 7.04278354,\n        7.04985815],\n       [7.06400028, 7.05692568, 7.04985815, ..., 7.04279774, 7.04985815,\n        7.05692568]])"
     },
     "metadata": {},
     "execution_count": 183
    }
   ],
   "source": [
    "z"
   ]
  },
  {
   "cell_type": "code",
   "execution_count": 184,
   "metadata": {},
   "outputs": [],
   "source": [
    "import matplotlib.pyplot as plt"
   ]
  },
  {
   "cell_type": "code",
   "execution_count": 188,
   "metadata": {},
   "outputs": [
    {
     "output_type": "execute_result",
     "data": {
      "text/plain": "Text(0.5, 1.0, 'Image plot of $\\\\sqrt{x^2 + y^2}$ for a grid of values')"
     },
     "metadata": {},
     "execution_count": 188
    },
    {
     "output_type": "display_data",
     "data": {
      "text/plain": "<Figure size 432x288 with 2 Axes>",
      "image/svg+xml": "<?xml version=\"1.0\" encoding=\"utf-8\" standalone=\"no\"?>\r\n<!DOCTYPE svg PUBLIC \"-//W3C//DTD SVG 1.1//EN\"\r\n  \"http://www.w3.org/Graphics/SVG/1.1/DTD/svg11.dtd\">\r\n<!-- Created with matplotlib (https://matplotlib.org/) -->\r\n<svg height=\"269.878125pt\" version=\"1.1\" viewBox=\"0 0 298.902 269.878125\" width=\"298.902pt\" xmlns=\"http://www.w3.org/2000/svg\" xmlns:xlink=\"http://www.w3.org/1999/xlink\">\r\n <defs>\r\n  <style type=\"text/css\">\r\n*{stroke-linecap:butt;stroke-linejoin:round;}\r\n  </style>\r\n </defs>\r\n <g id=\"figure_1\">\r\n  <g id=\"patch_1\">\r\n   <path d=\"M 0 269.878125 \r\nL 298.902 269.878125 \r\nL 298.902 0 \r\nL 0 0 \r\nz\r\n\" style=\"fill:none;\"/>\r\n  </g>\r\n  <g id=\"axes_1\">\r\n   <g id=\"patch_2\">\r\n    <path d=\"M 33.2875 246 \r\nL 250.7275 246 \r\nL 250.7275 28.56 \r\nL 33.2875 28.56 \r\nz\r\n\" style=\"fill:#ffffff;\"/>\r\n   </g>\r\n   <g clip-path=\"url(#pa35afd5df8)\">\r\n    <image height=\"218\" id=\"image3d56ae9a0d\" transform=\"scale(1 -1)translate(0 -218)\" width=\"218\" x=\"33.2875\" xlink:href=\"data:image/png;base64,\r\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\" y=\"-28\"/>\r\n   </g>\r\n   <g id=\"matplotlib.axis_1\">\r\n    <g id=\"xtick_1\">\r\n     <g id=\"line2d_1\">\r\n      <defs>\r\n       <path d=\"M 0 0 \r\nL 0 3.5 \r\n\" id=\"m4735ffc0fb\" style=\"stroke:#000000;stroke-width:0.8;\"/>\r\n      </defs>\r\n      <g>\r\n       <use style=\"stroke:#000000;stroke-width:0.8;\" x=\"33.39622\" xlink:href=\"#m4735ffc0fb\" y=\"246\"/>\r\n      </g>\r\n     </g>\r\n     <g id=\"text_1\">\r\n      <!-- 0 -->\r\n      <defs>\r\n       <path d=\"M 31.78125 66.40625 \r\nQ 24.171875 66.40625 20.328125 58.90625 \r\nQ 16.5 51.421875 16.5 36.375 \r\nQ 16.5 21.390625 20.328125 13.890625 \r\nQ 24.171875 6.390625 31.78125 6.390625 \r\nQ 39.453125 6.390625 43.28125 13.890625 \r\nQ 47.125 21.390625 47.125 36.375 \r\nQ 47.125 51.421875 43.28125 58.90625 \r\nQ 39.453125 66.40625 31.78125 66.40625 \r\nz\r\nM 31.78125 74.21875 \r\nQ 44.046875 74.21875 50.515625 64.515625 \r\nQ 56.984375 54.828125 56.984375 36.375 \r\nQ 56.984375 17.96875 50.515625 8.265625 \r\nQ 44.046875 -1.421875 31.78125 -1.421875 \r\nQ 19.53125 -1.421875 13.0625 8.265625 \r\nQ 6.59375 17.96875 6.59375 36.375 \r\nQ 6.59375 54.828125 13.0625 64.515625 \r\nQ 19.53125 74.21875 31.78125 74.21875 \r\nz\r\n\" id=\"DejaVuSans-48\"/>\r\n      </defs>\r\n      <g transform=\"translate(30.21497 260.598437)scale(0.1 -0.1)\">\r\n       <use xlink:href=\"#DejaVuSans-48\"/>\r\n      </g>\r\n     </g>\r\n    </g>\r\n    <g id=\"xtick_2\">\r\n     <g id=\"line2d_2\">\r\n      <g>\r\n       <use style=\"stroke:#000000;stroke-width:0.8;\" x=\"76.88422\" xlink:href=\"#m4735ffc0fb\" y=\"246\"/>\r\n      </g>\r\n     </g>\r\n     <g id=\"text_2\">\r\n      <!-- 200 -->\r\n      <defs>\r\n       <path d=\"M 19.1875 8.296875 \r\nL 53.609375 8.296875 \r\nL 53.609375 0 \r\nL 7.328125 0 \r\nL 7.328125 8.296875 \r\nQ 12.9375 14.109375 22.625 23.890625 \r\nQ 32.328125 33.6875 34.8125 36.53125 \r\nQ 39.546875 41.84375 41.421875 45.53125 \r\nQ 43.3125 49.21875 43.3125 52.78125 \r\nQ 43.3125 58.59375 39.234375 62.25 \r\nQ 35.15625 65.921875 28.609375 65.921875 \r\nQ 23.96875 65.921875 18.8125 64.3125 \r\nQ 13.671875 62.703125 7.8125 59.421875 \r\nL 7.8125 69.390625 \r\nQ 13.765625 71.78125 18.9375 73 \r\nQ 24.125 74.21875 28.421875 74.21875 \r\nQ 39.75 74.21875 46.484375 68.546875 \r\nQ 53.21875 62.890625 53.21875 53.421875 \r\nQ 53.21875 48.921875 51.53125 44.890625 \r\nQ 49.859375 40.875 45.40625 35.40625 \r\nQ 44.1875 33.984375 37.640625 27.21875 \r\nQ 31.109375 20.453125 19.1875 8.296875 \r\nz\r\n\" id=\"DejaVuSans-50\"/>\r\n      </defs>\r\n      <g transform=\"translate(67.34047 260.598437)scale(0.1 -0.1)\">\r\n       <use xlink:href=\"#DejaVuSans-50\"/>\r\n       <use x=\"63.623047\" xlink:href=\"#DejaVuSans-48\"/>\r\n       <use x=\"127.246094\" xlink:href=\"#DejaVuSans-48\"/>\r\n      </g>\r\n     </g>\r\n    </g>\r\n    <g id=\"xtick_3\">\r\n     <g id=\"line2d_3\">\r\n      <g>\r\n       <use style=\"stroke:#000000;stroke-width:0.8;\" x=\"120.37222\" xlink:href=\"#m4735ffc0fb\" y=\"246\"/>\r\n      </g>\r\n     </g>\r\n     <g id=\"text_3\">\r\n      <!-- 400 -->\r\n      <defs>\r\n       <path d=\"M 37.796875 64.3125 \r\nL 12.890625 25.390625 \r\nL 37.796875 25.390625 \r\nz\r\nM 35.203125 72.90625 \r\nL 47.609375 72.90625 \r\nL 47.609375 25.390625 \r\nL 58.015625 25.390625 \r\nL 58.015625 17.1875 \r\nL 47.609375 17.1875 \r\nL 47.609375 0 \r\nL 37.796875 0 \r\nL 37.796875 17.1875 \r\nL 4.890625 17.1875 \r\nL 4.890625 26.703125 \r\nz\r\n\" id=\"DejaVuSans-52\"/>\r\n      </defs>\r\n      <g transform=\"translate(110.82847 260.598437)scale(0.1 -0.1)\">\r\n       <use xlink:href=\"#DejaVuSans-52\"/>\r\n       <use x=\"63.623047\" xlink:href=\"#DejaVuSans-48\"/>\r\n       <use x=\"127.246094\" xlink:href=\"#DejaVuSans-48\"/>\r\n      </g>\r\n     </g>\r\n    </g>\r\n    <g id=\"xtick_4\">\r\n     <g id=\"line2d_4\">\r\n      <g>\r\n       <use style=\"stroke:#000000;stroke-width:0.8;\" x=\"163.86022\" xlink:href=\"#m4735ffc0fb\" y=\"246\"/>\r\n      </g>\r\n     </g>\r\n     <g id=\"text_4\">\r\n      <!-- 600 -->\r\n      <defs>\r\n       <path d=\"M 33.015625 40.375 \r\nQ 26.375 40.375 22.484375 35.828125 \r\nQ 18.609375 31.296875 18.609375 23.390625 \r\nQ 18.609375 15.53125 22.484375 10.953125 \r\nQ 26.375 6.390625 33.015625 6.390625 \r\nQ 39.65625 6.390625 43.53125 10.953125 \r\nQ 47.40625 15.53125 47.40625 23.390625 \r\nQ 47.40625 31.296875 43.53125 35.828125 \r\nQ 39.65625 40.375 33.015625 40.375 \r\nz\r\nM 52.59375 71.296875 \r\nL 52.59375 62.3125 \r\nQ 48.875 64.0625 45.09375 64.984375 \r\nQ 41.3125 65.921875 37.59375 65.921875 \r\nQ 27.828125 65.921875 22.671875 59.328125 \r\nQ 17.53125 52.734375 16.796875 39.40625 \r\nQ 19.671875 43.65625 24.015625 45.921875 \r\nQ 28.375 48.1875 33.59375 48.1875 \r\nQ 44.578125 48.1875 50.953125 41.515625 \r\nQ 57.328125 34.859375 57.328125 23.390625 \r\nQ 57.328125 12.15625 50.6875 5.359375 \r\nQ 44.046875 -1.421875 33.015625 -1.421875 \r\nQ 20.359375 -1.421875 13.671875 8.265625 \r\nQ 6.984375 17.96875 6.984375 36.375 \r\nQ 6.984375 53.65625 15.1875 63.9375 \r\nQ 23.390625 74.21875 37.203125 74.21875 \r\nQ 40.921875 74.21875 44.703125 73.484375 \r\nQ 48.484375 72.75 52.59375 71.296875 \r\nz\r\n\" id=\"DejaVuSans-54\"/>\r\n      </defs>\r\n      <g transform=\"translate(154.31647 260.598437)scale(0.1 -0.1)\">\r\n       <use xlink:href=\"#DejaVuSans-54\"/>\r\n       <use x=\"63.623047\" xlink:href=\"#DejaVuSans-48\"/>\r\n       <use x=\"127.246094\" xlink:href=\"#DejaVuSans-48\"/>\r\n      </g>\r\n     </g>\r\n    </g>\r\n    <g id=\"xtick_5\">\r\n     <g id=\"line2d_5\">\r\n      <g>\r\n       <use style=\"stroke:#000000;stroke-width:0.8;\" x=\"207.34822\" xlink:href=\"#m4735ffc0fb\" y=\"246\"/>\r\n      </g>\r\n     </g>\r\n     <g id=\"text_5\">\r\n      <!-- 800 -->\r\n      <defs>\r\n       <path d=\"M 31.78125 34.625 \r\nQ 24.75 34.625 20.71875 30.859375 \r\nQ 16.703125 27.09375 16.703125 20.515625 \r\nQ 16.703125 13.921875 20.71875 10.15625 \r\nQ 24.75 6.390625 31.78125 6.390625 \r\nQ 38.8125 6.390625 42.859375 10.171875 \r\nQ 46.921875 13.96875 46.921875 20.515625 \r\nQ 46.921875 27.09375 42.890625 30.859375 \r\nQ 38.875 34.625 31.78125 34.625 \r\nz\r\nM 21.921875 38.8125 \r\nQ 15.578125 40.375 12.03125 44.71875 \r\nQ 8.5 49.078125 8.5 55.328125 \r\nQ 8.5 64.0625 14.71875 69.140625 \r\nQ 20.953125 74.21875 31.78125 74.21875 \r\nQ 42.671875 74.21875 48.875 69.140625 \r\nQ 55.078125 64.0625 55.078125 55.328125 \r\nQ 55.078125 49.078125 51.53125 44.71875 \r\nQ 48 40.375 41.703125 38.8125 \r\nQ 48.828125 37.15625 52.796875 32.3125 \r\nQ 56.78125 27.484375 56.78125 20.515625 \r\nQ 56.78125 9.90625 50.3125 4.234375 \r\nQ 43.84375 -1.421875 31.78125 -1.421875 \r\nQ 19.734375 -1.421875 13.25 4.234375 \r\nQ 6.78125 9.90625 6.78125 20.515625 \r\nQ 6.78125 27.484375 10.78125 32.3125 \r\nQ 14.796875 37.15625 21.921875 38.8125 \r\nz\r\nM 18.3125 54.390625 \r\nQ 18.3125 48.734375 21.84375 45.5625 \r\nQ 25.390625 42.390625 31.78125 42.390625 \r\nQ 38.140625 42.390625 41.71875 45.5625 \r\nQ 45.3125 48.734375 45.3125 54.390625 \r\nQ 45.3125 60.0625 41.71875 63.234375 \r\nQ 38.140625 66.40625 31.78125 66.40625 \r\nQ 25.390625 66.40625 21.84375 63.234375 \r\nQ 18.3125 60.0625 18.3125 54.390625 \r\nz\r\n\" id=\"DejaVuSans-56\"/>\r\n      </defs>\r\n      <g transform=\"translate(197.80447 260.598437)scale(0.1 -0.1)\">\r\n       <use xlink:href=\"#DejaVuSans-56\"/>\r\n       <use x=\"63.623047\" xlink:href=\"#DejaVuSans-48\"/>\r\n       <use x=\"127.246094\" xlink:href=\"#DejaVuSans-48\"/>\r\n      </g>\r\n     </g>\r\n    </g>\r\n   </g>\r\n   <g id=\"matplotlib.axis_2\">\r\n    <g id=\"ytick_1\">\r\n     <g id=\"line2d_6\">\r\n      <defs>\r\n       <path d=\"M 0 0 \r\nL -3.5 0 \r\n\" id=\"mb739e07631\" style=\"stroke:#000000;stroke-width:0.8;\"/>\r\n      </defs>\r\n      <g>\r\n       <use style=\"stroke:#000000;stroke-width:0.8;\" x=\"33.2875\" xlink:href=\"#mb739e07631\" y=\"28.66872\"/>\r\n      </g>\r\n     </g>\r\n     <g id=\"text_6\">\r\n      <!-- 0 -->\r\n      <g transform=\"translate(19.925 32.467939)scale(0.1 -0.1)\">\r\n       <use xlink:href=\"#DejaVuSans-48\"/>\r\n      </g>\r\n     </g>\r\n    </g>\r\n    <g id=\"ytick_2\">\r\n     <g id=\"line2d_7\">\r\n      <g>\r\n       <use style=\"stroke:#000000;stroke-width:0.8;\" x=\"33.2875\" xlink:href=\"#mb739e07631\" y=\"72.15672\"/>\r\n      </g>\r\n     </g>\r\n     <g id=\"text_7\">\r\n      <!-- 200 -->\r\n      <g transform=\"translate(7.2 75.955939)scale(0.1 -0.1)\">\r\n       <use xlink:href=\"#DejaVuSans-50\"/>\r\n       <use x=\"63.623047\" xlink:href=\"#DejaVuSans-48\"/>\r\n       <use x=\"127.246094\" xlink:href=\"#DejaVuSans-48\"/>\r\n      </g>\r\n     </g>\r\n    </g>\r\n    <g id=\"ytick_3\">\r\n     <g id=\"line2d_8\">\r\n      <g>\r\n       <use style=\"stroke:#000000;stroke-width:0.8;\" x=\"33.2875\" xlink:href=\"#mb739e07631\" y=\"115.64472\"/>\r\n      </g>\r\n     </g>\r\n     <g id=\"text_8\">\r\n      <!-- 400 -->\r\n      <g transform=\"translate(7.2 119.443939)scale(0.1 -0.1)\">\r\n       <use xlink:href=\"#DejaVuSans-52\"/>\r\n       <use x=\"63.623047\" xlink:href=\"#DejaVuSans-48\"/>\r\n       <use x=\"127.246094\" xlink:href=\"#DejaVuSans-48\"/>\r\n      </g>\r\n     </g>\r\n    </g>\r\n    <g id=\"ytick_4\">\r\n     <g id=\"line2d_9\">\r\n      <g>\r\n       <use style=\"stroke:#000000;stroke-width:0.8;\" x=\"33.2875\" xlink:href=\"#mb739e07631\" y=\"159.13272\"/>\r\n      </g>\r\n     </g>\r\n     <g id=\"text_9\">\r\n      <!-- 600 -->\r\n      <g transform=\"translate(7.2 162.931939)scale(0.1 -0.1)\">\r\n       <use xlink:href=\"#DejaVuSans-54\"/>\r\n       <use x=\"63.623047\" xlink:href=\"#DejaVuSans-48\"/>\r\n       <use x=\"127.246094\" xlink:href=\"#DejaVuSans-48\"/>\r\n      </g>\r\n     </g>\r\n    </g>\r\n    <g id=\"ytick_5\">\r\n     <g id=\"line2d_10\">\r\n      <g>\r\n       <use style=\"stroke:#000000;stroke-width:0.8;\" x=\"33.2875\" xlink:href=\"#mb739e07631\" y=\"202.62072\"/>\r\n      </g>\r\n     </g>\r\n     <g id=\"text_10\">\r\n      <!-- 800 -->\r\n      <g transform=\"translate(7.2 206.419939)scale(0.1 -0.1)\">\r\n       <use xlink:href=\"#DejaVuSans-56\"/>\r\n       <use x=\"63.623047\" xlink:href=\"#DejaVuSans-48\"/>\r\n       <use x=\"127.246094\" xlink:href=\"#DejaVuSans-48\"/>\r\n      </g>\r\n     </g>\r\n    </g>\r\n   </g>\r\n   <g id=\"patch_3\">\r\n    <path d=\"M 33.2875 246 \r\nL 33.2875 28.56 \r\n\" style=\"fill:none;stroke:#000000;stroke-linecap:square;stroke-linejoin:miter;stroke-width:0.8;\"/>\r\n   </g>\r\n   <g id=\"patch_4\">\r\n    <path d=\"M 250.7275 246 \r\nL 250.7275 28.56 \r\n\" style=\"fill:none;stroke:#000000;stroke-linecap:square;stroke-linejoin:miter;stroke-width:0.8;\"/>\r\n   </g>\r\n   <g id=\"patch_5\">\r\n    <path d=\"M 33.2875 246 \r\nL 250.7275 246 \r\n\" style=\"fill:none;stroke:#000000;stroke-linecap:square;stroke-linejoin:miter;stroke-width:0.8;\"/>\r\n   </g>\r\n   <g id=\"patch_6\">\r\n    <path d=\"M 33.2875 28.56 \r\nL 250.7275 28.56 \r\n\" style=\"fill:none;stroke:#000000;stroke-linecap:square;stroke-linejoin:miter;stroke-width:0.8;\"/>\r\n   </g>\r\n   <g id=\"text_11\">\r\n    <!-- Image plot of $\\sqrt{x^2 + y^2}$ for a grid of values -->\r\n    <defs>\r\n     <path d=\"M 9.8125 72.90625 \r\nL 19.671875 72.90625 \r\nL 19.671875 0 \r\nL 9.8125 0 \r\nz\r\n\" id=\"DejaVuSans-73\"/>\r\n     <path d=\"M 52 44.1875 \r\nQ 55.375 50.25 60.0625 53.125 \r\nQ 64.75 56 71.09375 56 \r\nQ 79.640625 56 84.28125 50.015625 \r\nQ 88.921875 44.046875 88.921875 33.015625 \r\nL 88.921875 0 \r\nL 79.890625 0 \r\nL 79.890625 32.71875 \r\nQ 79.890625 40.578125 77.09375 44.375 \r\nQ 74.3125 48.1875 68.609375 48.1875 \r\nQ 61.625 48.1875 57.5625 43.546875 \r\nQ 53.515625 38.921875 53.515625 30.90625 \r\nL 53.515625 0 \r\nL 44.484375 0 \r\nL 44.484375 32.71875 \r\nQ 44.484375 40.625 41.703125 44.40625 \r\nQ 38.921875 48.1875 33.109375 48.1875 \r\nQ 26.21875 48.1875 22.15625 43.53125 \r\nQ 18.109375 38.875 18.109375 30.90625 \r\nL 18.109375 0 \r\nL 9.078125 0 \r\nL 9.078125 54.6875 \r\nL 18.109375 54.6875 \r\nL 18.109375 46.1875 \r\nQ 21.1875 51.21875 25.484375 53.609375 \r\nQ 29.78125 56 35.6875 56 \r\nQ 41.65625 56 45.828125 52.96875 \r\nQ 50 49.953125 52 44.1875 \r\nz\r\n\" id=\"DejaVuSans-109\"/>\r\n     <path d=\"M 34.28125 27.484375 \r\nQ 23.390625 27.484375 19.1875 25 \r\nQ 14.984375 22.515625 14.984375 16.5 \r\nQ 14.984375 11.71875 18.140625 8.90625 \r\nQ 21.296875 6.109375 26.703125 6.109375 \r\nQ 34.1875 6.109375 38.703125 11.40625 \r\nQ 43.21875 16.703125 43.21875 25.484375 \r\nL 43.21875 27.484375 \r\nz\r\nM 52.203125 31.203125 \r\nL 52.203125 0 \r\nL 43.21875 0 \r\nL 43.21875 8.296875 \r\nQ 40.140625 3.328125 35.546875 0.953125 \r\nQ 30.953125 -1.421875 24.3125 -1.421875 \r\nQ 15.921875 -1.421875 10.953125 3.296875 \r\nQ 6 8.015625 6 15.921875 \r\nQ 6 25.140625 12.171875 29.828125 \r\nQ 18.359375 34.515625 30.609375 34.515625 \r\nL 43.21875 34.515625 \r\nL 43.21875 35.40625 \r\nQ 43.21875 41.609375 39.140625 45 \r\nQ 35.0625 48.390625 27.6875 48.390625 \r\nQ 23 48.390625 18.546875 47.265625 \r\nQ 14.109375 46.140625 10.015625 43.890625 \r\nL 10.015625 52.203125 \r\nQ 14.9375 54.109375 19.578125 55.046875 \r\nQ 24.21875 56 28.609375 56 \r\nQ 40.484375 56 46.34375 49.84375 \r\nQ 52.203125 43.703125 52.203125 31.203125 \r\nz\r\n\" id=\"DejaVuSans-97\"/>\r\n     <path d=\"M 45.40625 27.984375 \r\nQ 45.40625 37.75 41.375 43.109375 \r\nQ 37.359375 48.484375 30.078125 48.484375 \r\nQ 22.859375 48.484375 18.828125 43.109375 \r\nQ 14.796875 37.75 14.796875 27.984375 \r\nQ 14.796875 18.265625 18.828125 12.890625 \r\nQ 22.859375 7.515625 30.078125 7.515625 \r\nQ 37.359375 7.515625 41.375 12.890625 \r\nQ 45.40625 18.265625 45.40625 27.984375 \r\nz\r\nM 54.390625 6.78125 \r\nQ 54.390625 -7.171875 48.1875 -13.984375 \r\nQ 42 -20.796875 29.203125 -20.796875 \r\nQ 24.46875 -20.796875 20.265625 -20.09375 \r\nQ 16.0625 -19.390625 12.109375 -17.921875 \r\nL 12.109375 -9.1875 \r\nQ 16.0625 -11.328125 19.921875 -12.34375 \r\nQ 23.78125 -13.375 27.78125 -13.375 \r\nQ 36.625 -13.375 41.015625 -8.765625 \r\nQ 45.40625 -4.15625 45.40625 5.171875 \r\nL 45.40625 9.625 \r\nQ 42.625 4.78125 38.28125 2.390625 \r\nQ 33.9375 0 27.875 0 \r\nQ 17.828125 0 11.671875 7.65625 \r\nQ 5.515625 15.328125 5.515625 27.984375 \r\nQ 5.515625 40.671875 11.671875 48.328125 \r\nQ 17.828125 56 27.875 56 \r\nQ 33.9375 56 38.28125 53.609375 \r\nQ 42.625 51.21875 45.40625 46.390625 \r\nL 45.40625 54.6875 \r\nL 54.390625 54.6875 \r\nz\r\n\" id=\"DejaVuSans-103\"/>\r\n     <path d=\"M 56.203125 29.59375 \r\nL 56.203125 25.203125 \r\nL 14.890625 25.203125 \r\nQ 15.484375 15.921875 20.484375 11.0625 \r\nQ 25.484375 6.203125 34.421875 6.203125 \r\nQ 39.59375 6.203125 44.453125 7.46875 \r\nQ 49.3125 8.734375 54.109375 11.28125 \r\nL 54.109375 2.78125 \r\nQ 49.265625 0.734375 44.1875 -0.34375 \r\nQ 39.109375 -1.421875 33.890625 -1.421875 \r\nQ 20.796875 -1.421875 13.15625 6.1875 \r\nQ 5.515625 13.8125 5.515625 26.8125 \r\nQ 5.515625 40.234375 12.765625 48.109375 \r\nQ 20.015625 56 32.328125 56 \r\nQ 43.359375 56 49.78125 48.890625 \r\nQ 56.203125 41.796875 56.203125 29.59375 \r\nz\r\nM 47.21875 32.234375 \r\nQ 47.125 39.59375 43.09375 43.984375 \r\nQ 39.0625 48.390625 32.421875 48.390625 \r\nQ 24.90625 48.390625 20.390625 44.140625 \r\nQ 15.875 39.890625 15.1875 32.171875 \r\nz\r\n\" id=\"DejaVuSans-101\"/>\r\n     <path id=\"DejaVuSans-32\"/>\r\n     <path d=\"M 18.109375 8.203125 \r\nL 18.109375 -20.796875 \r\nL 9.078125 -20.796875 \r\nL 9.078125 54.6875 \r\nL 18.109375 54.6875 \r\nL 18.109375 46.390625 \r\nQ 20.953125 51.265625 25.265625 53.625 \r\nQ 29.59375 56 35.59375 56 \r\nQ 45.5625 56 51.78125 48.09375 \r\nQ 58.015625 40.1875 58.015625 27.296875 \r\nQ 58.015625 14.40625 51.78125 6.484375 \r\nQ 45.5625 -1.421875 35.59375 -1.421875 \r\nQ 29.59375 -1.421875 25.265625 0.953125 \r\nQ 20.953125 3.328125 18.109375 8.203125 \r\nz\r\nM 48.6875 27.296875 \r\nQ 48.6875 37.203125 44.609375 42.84375 \r\nQ 40.53125 48.484375 33.40625 48.484375 \r\nQ 26.265625 48.484375 22.1875 42.84375 \r\nQ 18.109375 37.203125 18.109375 27.296875 \r\nQ 18.109375 17.390625 22.1875 11.75 \r\nQ 26.265625 6.109375 33.40625 6.109375 \r\nQ 40.53125 6.109375 44.609375 11.75 \r\nQ 48.6875 17.390625 48.6875 27.296875 \r\nz\r\n\" id=\"DejaVuSans-112\"/>\r\n     <path d=\"M 9.421875 75.984375 \r\nL 18.40625 75.984375 \r\nL 18.40625 0 \r\nL 9.421875 0 \r\nz\r\n\" id=\"DejaVuSans-108\"/>\r\n     <path d=\"M 30.609375 48.390625 \r\nQ 23.390625 48.390625 19.1875 42.75 \r\nQ 14.984375 37.109375 14.984375 27.296875 \r\nQ 14.984375 17.484375 19.15625 11.84375 \r\nQ 23.34375 6.203125 30.609375 6.203125 \r\nQ 37.796875 6.203125 41.984375 11.859375 \r\nQ 46.1875 17.53125 46.1875 27.296875 \r\nQ 46.1875 37.015625 41.984375 42.703125 \r\nQ 37.796875 48.390625 30.609375 48.390625 \r\nz\r\nM 30.609375 56 \r\nQ 42.328125 56 49.015625 48.375 \r\nQ 55.71875 40.765625 55.71875 27.296875 \r\nQ 55.71875 13.875 49.015625 6.21875 \r\nQ 42.328125 -1.421875 30.609375 -1.421875 \r\nQ 18.84375 -1.421875 12.171875 6.21875 \r\nQ 5.515625 13.875 5.515625 27.296875 \r\nQ 5.515625 40.765625 12.171875 48.375 \r\nQ 18.84375 56 30.609375 56 \r\nz\r\n\" id=\"DejaVuSans-111\"/>\r\n     <path d=\"M 18.3125 70.21875 \r\nL 18.3125 54.6875 \r\nL 36.8125 54.6875 \r\nL 36.8125 47.703125 \r\nL 18.3125 47.703125 \r\nL 18.3125 18.015625 \r\nQ 18.3125 11.328125 20.140625 9.421875 \r\nQ 21.96875 7.515625 27.59375 7.515625 \r\nL 36.8125 7.515625 \r\nL 36.8125 0 \r\nL 27.59375 0 \r\nQ 17.1875 0 13.234375 3.875 \r\nQ 9.28125 7.765625 9.28125 18.015625 \r\nL 9.28125 47.703125 \r\nL 2.6875 47.703125 \r\nL 2.6875 54.6875 \r\nL 9.28125 54.6875 \r\nL 9.28125 70.21875 \r\nz\r\n\" id=\"DejaVuSans-116\"/>\r\n     <path d=\"M 37.109375 75.984375 \r\nL 37.109375 68.5 \r\nL 28.515625 68.5 \r\nQ 23.6875 68.5 21.796875 66.546875 \r\nQ 19.921875 64.59375 19.921875 59.515625 \r\nL 19.921875 54.6875 \r\nL 34.71875 54.6875 \r\nL 34.71875 47.703125 \r\nL 19.921875 47.703125 \r\nL 19.921875 0 \r\nL 10.890625 0 \r\nL 10.890625 47.703125 \r\nL 2.296875 47.703125 \r\nL 2.296875 54.6875 \r\nL 10.890625 54.6875 \r\nL 10.890625 58.5 \r\nQ 10.890625 67.625 15.140625 71.796875 \r\nQ 19.390625 75.984375 28.609375 75.984375 \r\nz\r\n\" id=\"DejaVuSans-102\"/>\r\n     <path d=\"M 108.90625 155.203125 \r\nL 52.703125 -29.5 \r\nL 48.5 -29.5 \r\nL 25.40625 45.59375 \r\nQ 24.296875 49.203125 22.890625 50.796875 \r\nQ 21.5 52.40625 19.203125 52.40625 \r\nQ 15.796875 52.40625 12.40625 49.703125 \r\nL 11.203125 51.703125 \r\nL 27.59375 64.296875 \r\nL 30.09375 64.296875 \r\nL 52.796875 -9.40625 \r\nL 53.203125 -9.40625 \r\nL 103.203125 155.203125 \r\nz\r\n\" id=\"STIXSizeOneSym-Regular-8730\"/>\r\n     <path d=\"M 60.015625 54.6875 \r\nL 34.90625 27.875 \r\nL 50.296875 0 \r\nL 39.984375 0 \r\nL 28.421875 21.6875 \r\nL 8.296875 0 \r\nL -2.59375 0 \r\nL 24.3125 28.8125 \r\nL 10.015625 54.6875 \r\nL 20.3125 54.6875 \r\nL 30.8125 34.90625 \r\nL 49.125 54.6875 \r\nz\r\n\" id=\"DejaVuSans-Oblique-120\"/>\r\n     <path d=\"M 46 62.703125 \r\nL 46 35.5 \r\nL 73.1875 35.5 \r\nL 73.1875 27.203125 \r\nL 46 27.203125 \r\nL 46 0 \r\nL 37.796875 0 \r\nL 37.796875 27.203125 \r\nL 10.59375 27.203125 \r\nL 10.59375 35.5 \r\nL 37.796875 35.5 \r\nL 37.796875 62.703125 \r\nz\r\n\" id=\"DejaVuSans-43\"/>\r\n     <path d=\"M 24.8125 -5.078125 \r\nQ 18.5625 -15.578125 14.625 -18.1875 \r\nQ 10.6875 -20.796875 4.59375 -20.796875 \r\nL -2.484375 -20.796875 \r\nL -0.984375 -13.28125 \r\nL 4.203125 -13.28125 \r\nQ 7.953125 -13.28125 10.59375 -11.234375 \r\nQ 13.234375 -9.1875 16.5 -3.21875 \r\nL 19.28125 2 \r\nL 7.171875 54.6875 \r\nL 16.703125 54.6875 \r\nL 25.78125 12.796875 \r\nL 50.875 54.6875 \r\nL 60.296875 54.6875 \r\nz\r\n\" id=\"DejaVuSans-Oblique-121\"/>\r\n     <path d=\"M 41.109375 46.296875 \r\nQ 39.59375 47.171875 37.8125 47.578125 \r\nQ 36.03125 48 33.890625 48 \r\nQ 26.265625 48 22.1875 43.046875 \r\nQ 18.109375 38.09375 18.109375 28.8125 \r\nL 18.109375 0 \r\nL 9.078125 0 \r\nL 9.078125 54.6875 \r\nL 18.109375 54.6875 \r\nL 18.109375 46.1875 \r\nQ 20.953125 51.171875 25.484375 53.578125 \r\nQ 30.03125 56 36.53125 56 \r\nQ 37.453125 56 38.578125 55.875 \r\nQ 39.703125 55.765625 41.0625 55.515625 \r\nz\r\n\" id=\"DejaVuSans-114\"/>\r\n     <path d=\"M 9.421875 54.6875 \r\nL 18.40625 54.6875 \r\nL 18.40625 0 \r\nL 9.421875 0 \r\nz\r\nM 9.421875 75.984375 \r\nL 18.40625 75.984375 \r\nL 18.40625 64.59375 \r\nL 9.421875 64.59375 \r\nz\r\n\" id=\"DejaVuSans-105\"/>\r\n     <path d=\"M 45.40625 46.390625 \r\nL 45.40625 75.984375 \r\nL 54.390625 75.984375 \r\nL 54.390625 0 \r\nL 45.40625 0 \r\nL 45.40625 8.203125 \r\nQ 42.578125 3.328125 38.25 0.953125 \r\nQ 33.9375 -1.421875 27.875 -1.421875 \r\nQ 17.96875 -1.421875 11.734375 6.484375 \r\nQ 5.515625 14.40625 5.515625 27.296875 \r\nQ 5.515625 40.1875 11.734375 48.09375 \r\nQ 17.96875 56 27.875 56 \r\nQ 33.9375 56 38.25 53.625 \r\nQ 42.578125 51.265625 45.40625 46.390625 \r\nz\r\nM 14.796875 27.296875 \r\nQ 14.796875 17.390625 18.875 11.75 \r\nQ 22.953125 6.109375 30.078125 6.109375 \r\nQ 37.203125 6.109375 41.296875 11.75 \r\nQ 45.40625 17.390625 45.40625 27.296875 \r\nQ 45.40625 37.203125 41.296875 42.84375 \r\nQ 37.203125 48.484375 30.078125 48.484375 \r\nQ 22.953125 48.484375 18.875 42.84375 \r\nQ 14.796875 37.203125 14.796875 27.296875 \r\nz\r\n\" id=\"DejaVuSans-100\"/>\r\n     <path d=\"M 2.984375 54.6875 \r\nL 12.5 54.6875 \r\nL 29.59375 8.796875 \r\nL 46.6875 54.6875 \r\nL 56.203125 54.6875 \r\nL 35.6875 0 \r\nL 23.484375 0 \r\nz\r\n\" id=\"DejaVuSans-118\"/>\r\n     <path d=\"M 8.5 21.578125 \r\nL 8.5 54.6875 \r\nL 17.484375 54.6875 \r\nL 17.484375 21.921875 \r\nQ 17.484375 14.15625 20.5 10.265625 \r\nQ 23.53125 6.390625 29.59375 6.390625 \r\nQ 36.859375 6.390625 41.078125 11.03125 \r\nQ 45.3125 15.671875 45.3125 23.6875 \r\nL 45.3125 54.6875 \r\nL 54.296875 54.6875 \r\nL 54.296875 0 \r\nL 45.3125 0 \r\nL 45.3125 8.40625 \r\nQ 42.046875 3.421875 37.71875 1 \r\nQ 33.40625 -1.421875 27.6875 -1.421875 \r\nQ 18.265625 -1.421875 13.375 4.4375 \r\nQ 8.5 10.296875 8.5 21.578125 \r\nz\r\nM 31.109375 56 \r\nz\r\n\" id=\"DejaVuSans-117\"/>\r\n     <path d=\"M 44.28125 53.078125 \r\nL 44.28125 44.578125 \r\nQ 40.484375 46.53125 36.375 47.5 \r\nQ 32.28125 48.484375 27.875 48.484375 \r\nQ 21.1875 48.484375 17.84375 46.4375 \r\nQ 14.5 44.390625 14.5 40.28125 \r\nQ 14.5 37.15625 16.890625 35.375 \r\nQ 19.28125 33.59375 26.515625 31.984375 \r\nL 29.59375 31.296875 \r\nQ 39.15625 29.25 43.1875 25.515625 \r\nQ 47.21875 21.78125 47.21875 15.09375 \r\nQ 47.21875 7.46875 41.1875 3.015625 \r\nQ 35.15625 -1.421875 24.609375 -1.421875 \r\nQ 20.21875 -1.421875 15.453125 -0.5625 \r\nQ 10.6875 0.296875 5.421875 2 \r\nL 5.421875 11.28125 \r\nQ 10.40625 8.6875 15.234375 7.390625 \r\nQ 20.0625 6.109375 24.8125 6.109375 \r\nQ 31.15625 6.109375 34.5625 8.28125 \r\nQ 37.984375 10.453125 37.984375 14.40625 \r\nQ 37.984375 18.0625 35.515625 20.015625 \r\nQ 33.0625 21.96875 24.703125 23.78125 \r\nL 21.578125 24.515625 \r\nQ 13.234375 26.265625 9.515625 29.90625 \r\nQ 5.8125 33.546875 5.8125 39.890625 \r\nQ 5.8125 47.609375 11.28125 51.796875 \r\nQ 16.75 56 26.8125 56 \r\nQ 31.78125 56 36.171875 55.265625 \r\nQ 40.578125 54.546875 44.28125 53.078125 \r\nz\r\n\" id=\"DejaVuSans-115\"/>\r\n    </defs>\r\n    <g transform=\"translate(14.8075 22.56)scale(0.12 -0.12)\">\r\n     <use transform=\"translate(0 0.53125)\" xlink:href=\"#DejaVuSans-73\"/>\r\n     <use transform=\"translate(25.867188 0.53125)\" xlink:href=\"#DejaVuSans-109\"/>\r\n     <use transform=\"translate(123.279297 0.53125)\" xlink:href=\"#DejaVuSans-97\"/>\r\n     <use transform=\"translate(184.558594 0.53125)\" xlink:href=\"#DejaVuSans-103\"/>\r\n     <use transform=\"translate(248.035156 0.53125)\" xlink:href=\"#DejaVuSans-101\"/>\r\n     <use transform=\"translate(309.558594 0.53125)\" xlink:href=\"#DejaVuSans-32\"/>\r\n     <use transform=\"translate(341.345703 0.53125)\" xlink:href=\"#DejaVuSans-112\"/>\r\n     <use transform=\"translate(404.822266 0.53125)\" xlink:href=\"#DejaVuSans-108\"/>\r\n     <use transform=\"translate(432.605469 0.53125)\" xlink:href=\"#DejaVuSans-111\"/>\r\n     <use transform=\"translate(493.787109 0.53125)\" xlink:href=\"#DejaVuSans-116\"/>\r\n     <use transform=\"translate(532.996094 0.53125)\" xlink:href=\"#DejaVuSans-32\"/>\r\n     <use transform=\"translate(564.783203 0.53125)\" xlink:href=\"#DejaVuSans-111\"/>\r\n     <use transform=\"translate(625.964844 0.53125)\" xlink:href=\"#DejaVuSans-102\"/>\r\n     <use transform=\"translate(661.169922 0.53125)\" xlink:href=\"#DejaVuSans-32\"/>\r\n     <use transform=\"translate(692.957031 2.453125)scale(0.770324)\" xlink:href=\"#STIXSizeOneSym-Regular-8730\"/>\r\n     <use transform=\"translate(786.879059 0.515625)\" xlink:href=\"#DejaVuSans-Oblique-120\"/>\r\n     <use transform=\"translate(850.524892 38.796875)scale(0.7)\" xlink:href=\"#DejaVuSans-50\"/>\r\n     <use transform=\"translate(917.277822 0.515625)\" xlink:href=\"#DejaVuSans-43\"/>\r\n     <use transform=\"translate(1020.549306 0.515625)\" xlink:href=\"#DejaVuSans-Oblique-121\"/>\r\n     <use transform=\"translate(1084.19514 38.796875)scale(0.7)\" xlink:href=\"#DejaVuSans-50\"/>\r\n     <use transform=\"translate(1143.965647 0.53125)\" xlink:href=\"#DejaVuSans-32\"/>\r\n     <use transform=\"translate(1175.752757 0.53125)\" xlink:href=\"#DejaVuSans-102\"/>\r\n     <use transform=\"translate(1210.957835 0.53125)\" xlink:href=\"#DejaVuSans-111\"/>\r\n     <use transform=\"translate(1272.139476 0.53125)\" xlink:href=\"#DejaVuSans-114\"/>\r\n     <use transform=\"translate(1313.252757 0.53125)\" xlink:href=\"#DejaVuSans-32\"/>\r\n     <use transform=\"translate(1345.039866 0.53125)\" xlink:href=\"#DejaVuSans-97\"/>\r\n     <use transform=\"translate(1406.319163 0.53125)\" xlink:href=\"#DejaVuSans-32\"/>\r\n     <use transform=\"translate(1438.106272 0.53125)\" xlink:href=\"#DejaVuSans-103\"/>\r\n     <use transform=\"translate(1501.582835 0.53125)\" xlink:href=\"#DejaVuSans-114\"/>\r\n     <use transform=\"translate(1542.696116 0.53125)\" xlink:href=\"#DejaVuSans-105\"/>\r\n     <use transform=\"translate(1570.479319 0.53125)\" xlink:href=\"#DejaVuSans-100\"/>\r\n     <use transform=\"translate(1633.955882 0.53125)\" xlink:href=\"#DejaVuSans-32\"/>\r\n     <use transform=\"translate(1665.742991 0.53125)\" xlink:href=\"#DejaVuSans-111\"/>\r\n     <use transform=\"translate(1726.924632 0.53125)\" xlink:href=\"#DejaVuSans-102\"/>\r\n     <use transform=\"translate(1762.12971 0.53125)\" xlink:href=\"#DejaVuSans-32\"/>\r\n     <use transform=\"translate(1793.916819 0.53125)\" xlink:href=\"#DejaVuSans-118\"/>\r\n     <use transform=\"translate(1853.096507 0.53125)\" xlink:href=\"#DejaVuSans-97\"/>\r\n     <use transform=\"translate(1914.375804 0.53125)\" xlink:href=\"#DejaVuSans-108\"/>\r\n     <use transform=\"translate(1942.159007 0.53125)\" xlink:href=\"#DejaVuSans-117\"/>\r\n     <use transform=\"translate(2005.537913 0.53125)\" xlink:href=\"#DejaVuSans-101\"/>\r\n     <use transform=\"translate(2067.061351 0.53125)\" xlink:href=\"#DejaVuSans-115\"/>\r\n     <path d=\"M 774.379059 115.5 \r\nL 774.379059 121.75 \r\nL 1143.965647 121.75 \r\nL 1143.965647 115.5 \r\nL 774.379059 115.5 \r\nz\r\n\"/>\r\n    </g>\r\n   </g>\r\n  </g>\r\n  <g id=\"axes_2\">\r\n   <g id=\"patch_7\">\r\n    <path clip-path=\"url(#p37eb900631)\" d=\"M 267.4675 246 \r\nL 267.4675 245.150625 \r\nL 267.4675 29.409375 \r\nL 267.4675 28.56 \r\nL 278.3395 28.56 \r\nL 278.3395 29.409375 \r\nL 278.3395 245.150625 \r\nL 278.3395 246 \r\nz\r\n\" style=\"fill:#ffffff;stroke:#ffffff;stroke-linejoin:miter;stroke-width:0.01;\"/>\r\n   </g>\r\n   <image height=\"217\" id=\"image050025fbfc\" transform=\"scale(1 -1)translate(0 -217)\" width=\"11\" x=\"267\" xlink:href=\"data:image/png;base64,\r\niVBORw0KGgoAAAANSUhEUgAAAAsAAADZCAYAAAD2WsoCAAAABHNCSVQICAgIfAhkiAAAAIJJREFUaIHt0DEKwDAQA8HI+P9fTtorjSBglr16i9Mkyfsc3k5y2v4Zr7VueOOSWI0Z4zXwA9WoY7wGfqAaM8YPVKOO8Rr4gWrUMV4DP1CNOsZr4AeqMWP8QDXqGK+BH6hGHeM18APVqGO8Bn6gGnWM18APVGPG+IFq1DFeAz+QrvEB3UYHXpyDMvMAAAAASUVORK5CYII=\" y=\"-28\"/>\r\n   <g id=\"matplotlib.axis_3\"/>\r\n   <g id=\"matplotlib.axis_4\">\r\n    <g id=\"ytick_6\">\r\n     <g id=\"line2d_11\">\r\n      <defs>\r\n       <path d=\"M 0 0 \r\nL 3.5 0 \r\n\" id=\"m661514ca66\" style=\"stroke:#000000;stroke-width:0.8;\"/>\r\n      </defs>\r\n      <g>\r\n       <use style=\"stroke:#000000;stroke-width:0.8;\" x=\"278.3395\" xlink:href=\"#m661514ca66\" y=\"246\"/>\r\n      </g>\r\n     </g>\r\n     <g id=\"text_12\">\r\n      <!-- 0 -->\r\n      <g transform=\"translate(285.3395 249.799219)scale(0.1 -0.1)\">\r\n       <use xlink:href=\"#DejaVuSans-48\"/>\r\n      </g>\r\n     </g>\r\n    </g>\r\n    <g id=\"ytick_7\">\r\n     <g id=\"line2d_12\">\r\n      <g>\r\n       <use style=\"stroke:#000000;stroke-width:0.8;\" x=\"278.3395\" xlink:href=\"#m661514ca66\" y=\"215.24934\"/>\r\n      </g>\r\n     </g>\r\n     <g id=\"text_13\">\r\n      <!-- 1 -->\r\n      <defs>\r\n       <path d=\"M 12.40625 8.296875 \r\nL 28.515625 8.296875 \r\nL 28.515625 63.921875 \r\nL 10.984375 60.40625 \r\nL 10.984375 69.390625 \r\nL 28.421875 72.90625 \r\nL 38.28125 72.90625 \r\nL 38.28125 8.296875 \r\nL 54.390625 8.296875 \r\nL 54.390625 0 \r\nL 12.40625 0 \r\nz\r\n\" id=\"DejaVuSans-49\"/>\r\n      </defs>\r\n      <g transform=\"translate(285.3395 219.048559)scale(0.1 -0.1)\">\r\n       <use xlink:href=\"#DejaVuSans-49\"/>\r\n      </g>\r\n     </g>\r\n    </g>\r\n    <g id=\"ytick_8\">\r\n     <g id=\"line2d_13\">\r\n      <g>\r\n       <use style=\"stroke:#000000;stroke-width:0.8;\" x=\"278.3395\" xlink:href=\"#m661514ca66\" y=\"184.498681\"/>\r\n      </g>\r\n     </g>\r\n     <g id=\"text_14\">\r\n      <!-- 2 -->\r\n      <g transform=\"translate(285.3395 188.297899)scale(0.1 -0.1)\">\r\n       <use xlink:href=\"#DejaVuSans-50\"/>\r\n      </g>\r\n     </g>\r\n    </g>\r\n    <g id=\"ytick_9\">\r\n     <g id=\"line2d_14\">\r\n      <g>\r\n       <use style=\"stroke:#000000;stroke-width:0.8;\" x=\"278.3395\" xlink:href=\"#m661514ca66\" y=\"153.748021\"/>\r\n      </g>\r\n     </g>\r\n     <g id=\"text_15\">\r\n      <!-- 3 -->\r\n      <defs>\r\n       <path d=\"M 40.578125 39.3125 \r\nQ 47.65625 37.796875 51.625 33 \r\nQ 55.609375 28.21875 55.609375 21.1875 \r\nQ 55.609375 10.40625 48.1875 4.484375 \r\nQ 40.765625 -1.421875 27.09375 -1.421875 \r\nQ 22.515625 -1.421875 17.65625 -0.515625 \r\nQ 12.796875 0.390625 7.625 2.203125 \r\nL 7.625 11.71875 \r\nQ 11.71875 9.328125 16.59375 8.109375 \r\nQ 21.484375 6.890625 26.8125 6.890625 \r\nQ 36.078125 6.890625 40.9375 10.546875 \r\nQ 45.796875 14.203125 45.796875 21.1875 \r\nQ 45.796875 27.640625 41.28125 31.265625 \r\nQ 36.765625 34.90625 28.71875 34.90625 \r\nL 20.21875 34.90625 \r\nL 20.21875 43.015625 \r\nL 29.109375 43.015625 \r\nQ 36.375 43.015625 40.234375 45.921875 \r\nQ 44.09375 48.828125 44.09375 54.296875 \r\nQ 44.09375 59.90625 40.109375 62.90625 \r\nQ 36.140625 65.921875 28.71875 65.921875 \r\nQ 24.65625 65.921875 20.015625 65.03125 \r\nQ 15.375 64.15625 9.8125 62.3125 \r\nL 9.8125 71.09375 \r\nQ 15.4375 72.65625 20.34375 73.4375 \r\nQ 25.25 74.21875 29.59375 74.21875 \r\nQ 40.828125 74.21875 47.359375 69.109375 \r\nQ 53.90625 64.015625 53.90625 55.328125 \r\nQ 53.90625 49.265625 50.4375 45.09375 \r\nQ 46.96875 40.921875 40.578125 39.3125 \r\nz\r\n\" id=\"DejaVuSans-51\"/>\r\n      </defs>\r\n      <g transform=\"translate(285.3395 157.54724)scale(0.1 -0.1)\">\r\n       <use xlink:href=\"#DejaVuSans-51\"/>\r\n      </g>\r\n     </g>\r\n    </g>\r\n    <g id=\"ytick_10\">\r\n     <g id=\"line2d_15\">\r\n      <g>\r\n       <use style=\"stroke:#000000;stroke-width:0.8;\" x=\"278.3395\" xlink:href=\"#m661514ca66\" y=\"122.997361\"/>\r\n      </g>\r\n     </g>\r\n     <g id=\"text_16\">\r\n      <!-- 4 -->\r\n      <g transform=\"translate(285.3395 126.79658)scale(0.1 -0.1)\">\r\n       <use xlink:href=\"#DejaVuSans-52\"/>\r\n      </g>\r\n     </g>\r\n    </g>\r\n    <g id=\"ytick_11\">\r\n     <g id=\"line2d_16\">\r\n      <g>\r\n       <use style=\"stroke:#000000;stroke-width:0.8;\" x=\"278.3395\" xlink:href=\"#m661514ca66\" y=\"92.246701\"/>\r\n      </g>\r\n     </g>\r\n     <g id=\"text_17\">\r\n      <!-- 5 -->\r\n      <defs>\r\n       <path d=\"M 10.796875 72.90625 \r\nL 49.515625 72.90625 \r\nL 49.515625 64.59375 \r\nL 19.828125 64.59375 \r\nL 19.828125 46.734375 \r\nQ 21.96875 47.46875 24.109375 47.828125 \r\nQ 26.265625 48.1875 28.421875 48.1875 \r\nQ 40.625 48.1875 47.75 41.5 \r\nQ 54.890625 34.8125 54.890625 23.390625 \r\nQ 54.890625 11.625 47.5625 5.09375 \r\nQ 40.234375 -1.421875 26.90625 -1.421875 \r\nQ 22.3125 -1.421875 17.546875 -0.640625 \r\nQ 12.796875 0.140625 7.71875 1.703125 \r\nL 7.71875 11.625 \r\nQ 12.109375 9.234375 16.796875 8.0625 \r\nQ 21.484375 6.890625 26.703125 6.890625 \r\nQ 35.15625 6.890625 40.078125 11.328125 \r\nQ 45.015625 15.765625 45.015625 23.390625 \r\nQ 45.015625 31 40.078125 35.4375 \r\nQ 35.15625 39.890625 26.703125 39.890625 \r\nQ 22.75 39.890625 18.8125 39.015625 \r\nQ 14.890625 38.140625 10.796875 36.28125 \r\nz\r\n\" id=\"DejaVuSans-53\"/>\r\n      </defs>\r\n      <g transform=\"translate(285.3395 96.04592)scale(0.1 -0.1)\">\r\n       <use xlink:href=\"#DejaVuSans-53\"/>\r\n      </g>\r\n     </g>\r\n    </g>\r\n    <g id=\"ytick_12\">\r\n     <g id=\"line2d_17\">\r\n      <g>\r\n       <use style=\"stroke:#000000;stroke-width:0.8;\" x=\"278.3395\" xlink:href=\"#m661514ca66\" y=\"61.496042\"/>\r\n      </g>\r\n     </g>\r\n     <g id=\"text_18\">\r\n      <!-- 6 -->\r\n      <g transform=\"translate(285.3395 65.295261)scale(0.1 -0.1)\">\r\n       <use xlink:href=\"#DejaVuSans-54\"/>\r\n      </g>\r\n     </g>\r\n    </g>\r\n    <g id=\"ytick_13\">\r\n     <g id=\"line2d_18\">\r\n      <g>\r\n       <use style=\"stroke:#000000;stroke-width:0.8;\" x=\"278.3395\" xlink:href=\"#m661514ca66\" y=\"30.745382\"/>\r\n      </g>\r\n     </g>\r\n     <g id=\"text_19\">\r\n      <!-- 7 -->\r\n      <defs>\r\n       <path d=\"M 8.203125 72.90625 \r\nL 55.078125 72.90625 \r\nL 55.078125 68.703125 \r\nL 28.609375 0 \r\nL 18.3125 0 \r\nL 43.21875 64.59375 \r\nL 8.203125 64.59375 \r\nz\r\n\" id=\"DejaVuSans-55\"/>\r\n      </defs>\r\n      <g transform=\"translate(285.3395 34.544601)scale(0.1 -0.1)\">\r\n       <use xlink:href=\"#DejaVuSans-55\"/>\r\n      </g>\r\n     </g>\r\n    </g>\r\n   </g>\r\n   <g id=\"patch_8\">\r\n    <path d=\"M 267.4675 246 \r\nL 267.4675 245.150625 \r\nL 267.4675 29.409375 \r\nL 267.4675 28.56 \r\nL 278.3395 28.56 \r\nL 278.3395 29.409375 \r\nL 278.3395 245.150625 \r\nL 278.3395 246 \r\nz\r\n\" style=\"fill:none;stroke:#000000;stroke-linejoin:miter;stroke-width:0.8;\"/>\r\n   </g>\r\n  </g>\r\n </g>\r\n <defs>\r\n  <clipPath id=\"pa35afd5df8\">\r\n   <rect height=\"217.44\" width=\"217.44\" x=\"33.2875\" y=\"28.56\"/>\r\n  </clipPath>\r\n  <clipPath id=\"p37eb900631\">\r\n   <rect height=\"217.44\" width=\"10.872\" x=\"267.4675\" y=\"28.56\"/>\r\n  </clipPath>\r\n </defs>\r\n</svg>\r\n",
      "image/png": "[encoded data removed]"
     },
     "metadata": {
      "needs_background": "light"
     }
    }
   ],
   "source": [
    "plt.imshow(z, cmap = plt.cm.gray); plt.colorbar()\n",
    "plt.title(\"Image plot of $\\sqrt{x^2 + y^2}$ for a grid of values\")"
   ]
  },
  {
   "cell_type": "markdown",
   "metadata": {},
   "source": [
    "#### Expressing conditional logic as array operations"
   ]
  },
  {
   "cell_type": "code",
   "execution_count": 189,
   "metadata": {},
   "outputs": [],
   "source": [
    "xarr = np.array([1.1, 1.2, 1.3, 1.4, 1.5])"
   ]
  },
  {
   "cell_type": "code",
   "execution_count": 190,
   "metadata": {},
   "outputs": [],
   "source": [
    "yarr = np.array([2.1, 2.2, 2.3, 2.4, 2.5])"
   ]
  },
  {
   "cell_type": "code",
   "execution_count": 191,
   "metadata": {},
   "outputs": [],
   "source": [
    "cond = np.array([True, False, True, True, False])"
   ]
  },
  {
   "cell_type": "code",
   "execution_count": 192,
   "metadata": {},
   "outputs": [],
   "source": [
    "result = [(x if c else y) for x, y, c in zip(xarr, yarr, cond)]"
   ]
  },
  {
   "cell_type": "code",
   "execution_count": 193,
   "metadata": {},
   "outputs": [
    {
     "output_type": "execute_result",
     "data": {
      "text/plain": "[1.1, 2.2, 1.3, 1.4, 2.5]"
     },
     "metadata": {},
     "execution_count": 193
    }
   ],
   "source": [
    "result"
   ]
  },
  {
   "cell_type": "code",
   "execution_count": 194,
   "metadata": {},
   "outputs": [],
   "source": [
    "result = np.where(cond, xarr, yarr)"
   ]
  },
  {
   "cell_type": "code",
   "execution_count": 195,
   "metadata": {},
   "outputs": [
    {
     "output_type": "execute_result",
     "data": {
      "text/plain": "array([1.1, 2.2, 1.3, 1.4, 2.5])"
     },
     "metadata": {},
     "execution_count": 195
    }
   ],
   "source": [
    "result"
   ]
  },
  {
   "cell_type": "code",
   "execution_count": 196,
   "metadata": {},
   "outputs": [],
   "source": [
    "arr = np.random.randn(4, 4)"
   ]
  },
  {
   "cell_type": "code",
   "execution_count": 197,
   "metadata": {},
   "outputs": [
    {
     "output_type": "execute_result",
     "data": {
      "text/plain": "array([[-0.65607446,  0.63607664, -0.54240534,  0.11063571],\n       [-1.03120044,  0.48960645,  0.47004696, -0.18619194],\n       [-0.48270484, -0.19287974, -0.10593425, -0.6555697 ],\n       [ 0.26202118, -0.34296921, -0.16171604,  0.14082427]])"
     },
     "metadata": {},
     "execution_count": 197
    }
   ],
   "source": [
    "arr"
   ]
  },
  {
   "cell_type": "code",
   "execution_count": 198,
   "metadata": {},
   "outputs": [
    {
     "output_type": "execute_result",
     "data": {
      "text/plain": "array([[False,  True, False,  True],\n       [False,  True,  True, False],\n       [False, False, False, False],\n       [ True, False, False,  True]])"
     },
     "metadata": {},
     "execution_count": 198
    }
   ],
   "source": [
    "arr > 0"
   ]
  },
  {
   "cell_type": "code",
   "execution_count": 199,
   "metadata": {},
   "outputs": [
    {
     "output_type": "execute_result",
     "data": {
      "text/plain": "array([[-2,  2, -2,  2],\n       [-2,  2,  2, -2],\n       [-2, -2, -2, -2],\n       [ 2, -2, -2,  2]])"
     },
     "metadata": {},
     "execution_count": 199
    }
   ],
   "source": [
    "# set all positive values to 2 and negative values to -2\n",
    "np.where(arr > 0, 2, -2)"
   ]
  },
  {
   "cell_type": "code",
   "execution_count": 201,
   "metadata": {},
   "outputs": [
    {
     "output_type": "execute_result",
     "data": {
      "text/plain": "array([[-0.65607446,  2.        , -0.54240534,  2.        ],\n       [-1.03120044,  2.        ,  2.        , -0.18619194],\n       [-0.48270484, -0.19287974, -0.10593425, -0.6555697 ],\n       [ 2.        , -0.34296921, -0.16171604,  2.        ]])"
     },
     "metadata": {},
     "execution_count": 201
    }
   ],
   "source": [
    "# set all positive values to 2 and negative values to original values\n",
    "np.where(arr > 0, 2, arr)"
   ]
  },
  {
   "cell_type": "markdown",
   "metadata": {},
   "source": [
    "#### Mathematical and Statistical Methods"
   ]
  },
  {
   "cell_type": "code",
   "execution_count": 202,
   "metadata": {},
   "outputs": [],
   "source": [
    "arr = np.random.randn(5, 4)"
   ]
  },
  {
   "cell_type": "code",
   "execution_count": 203,
   "metadata": {},
   "outputs": [
    {
     "output_type": "execute_result",
     "data": {
      "text/plain": "array([[ 1.63004617, -0.0259765 ,  0.06171423, -0.01582196],\n       [-1.59589669, -0.17013982, -0.1316099 , -0.32820319],\n       [ 0.66656769,  1.04301892, -0.68937298, -0.1985652 ],\n       [-0.36249036,  0.94022133,  0.19024187, -0.36124766],\n       [ 2.26201257, -0.16410651,  0.30488177,  0.35599321]])"
     },
     "metadata": {},
     "execution_count": 203
    }
   ],
   "source": [
    "arr"
   ]
  },
  {
   "cell_type": "code",
   "execution_count": 204,
   "metadata": {},
   "outputs": [
    {
     "output_type": "execute_result",
     "data": {
      "text/plain": "0.17056334969666492"
     },
     "metadata": {},
     "execution_count": 204
    }
   ],
   "source": [
    "arr.mean()"
   ]
  },
  {
   "cell_type": "code",
   "execution_count": 205,
   "metadata": {},
   "outputs": [
    {
     "output_type": "execute_result",
     "data": {
      "text/plain": "0.17056334969666492"
     },
     "metadata": {},
     "execution_count": 205
    }
   ],
   "source": [
    "np.mean(arr)"
   ]
  },
  {
   "cell_type": "code",
   "execution_count": 206,
   "metadata": {},
   "outputs": [
    {
     "output_type": "execute_result",
     "data": {
      "text/plain": "3.4112669939332987"
     },
     "metadata": {},
     "execution_count": 206
    }
   ],
   "source": [
    "arr.sum()"
   ]
  },
  {
   "cell_type": "code",
   "execution_count": 207,
   "metadata": {},
   "outputs": [
    {
     "output_type": "execute_result",
     "data": {
      "text/plain": "array([ 0.41249048, -0.5564624 ,  0.20541211,  0.1016813 ,  0.68969526])"
     },
     "metadata": {},
     "execution_count": 207
    }
   ],
   "source": [
    "arr.mean(axis = 1)"
   ]
  },
  {
   "cell_type": "code",
   "execution_count": 208,
   "metadata": {},
   "outputs": [
    {
     "output_type": "execute_result",
     "data": {
      "text/plain": "array([ 2.60023938,  1.62301743, -0.26414501, -0.5478448 ])"
     },
     "metadata": {},
     "execution_count": 208
    }
   ],
   "source": [
    "arr.sum(axis = 0)"
   ]
  },
  {
   "cell_type": "code",
   "execution_count": 210,
   "metadata": {},
   "outputs": [],
   "source": [
    "arr = np.array([[0, 1, 2], [3, 4, 5], [6, 7, 8]])"
   ]
  },
  {
   "cell_type": "code",
   "execution_count": 212,
   "metadata": {},
   "outputs": [
    {
     "output_type": "execute_result",
     "data": {
      "text/plain": "array([[0, 1, 2],\n       [3, 4, 5],\n       [6, 7, 8]])"
     },
     "metadata": {},
     "execution_count": 212
    }
   ],
   "source": [
    "arr"
   ]
  },
  {
   "cell_type": "code",
   "execution_count": 213,
   "metadata": {},
   "outputs": [
    {
     "output_type": "execute_result",
     "data": {
      "text/plain": "array([[ 0,  1,  2],\n       [ 3,  5,  7],\n       [ 9, 12, 15]], dtype=int32)"
     },
     "metadata": {},
     "execution_count": 213
    }
   ],
   "source": [
    "arr.cumsum(axis = 0)"
   ]
  },
  {
   "cell_type": "code",
   "execution_count": 214,
   "metadata": {},
   "outputs": [
    {
     "output_type": "execute_result",
     "data": {
      "text/plain": "array([[  0,   0,   0],\n       [  3,  12,  60],\n       [  6,  42, 336]], dtype=int32)"
     },
     "metadata": {},
     "execution_count": 214
    }
   ],
   "source": [
    "arr.cumprod(axis = 1)"
   ]
  },
  {
   "cell_type": "markdown",
   "metadata": {},
   "source": [
    "#### Methods for Booleanarrays"
   ]
  },
  {
   "cell_type": "code",
   "execution_count": 215,
   "metadata": {},
   "outputs": [],
   "source": [
    "arr = np.random.randn(100)"
   ]
  },
  {
   "cell_type": "code",
   "execution_count": 217,
   "metadata": {},
   "outputs": [
    {
     "output_type": "execute_result",
     "data": {
      "text/plain": "array([-0.16543021,  1.80889457, -0.66026661,  2.05516489, -0.61279231,\n       -1.90259902, -0.66103449, -0.56397183, -1.25391344, -0.61029709,\n        0.46492452,  0.51085056,  0.06751074, -1.82164169, -1.42238475,\n        0.62709612, -1.92559031, -1.23608217, -0.44146332,  0.42827543,\n       -0.95301177, -1.95639901, -0.24734091,  0.15732083, -1.24815559,\n       -0.54903328, -0.38596708,  0.46001606,  0.48462206,  0.21940461,\n       -0.91765961,  1.84064917, -1.33433562, -0.05774424,  1.15395331,\n       -0.39523093, -0.87093375, -0.52031496, -1.17677134, -1.69012882,\n       -0.65508335, -0.00693764, -1.09556426, -0.25168707, -0.04014336,\n       -0.79761882, -0.75111859, -0.06870324,  0.34554594,  0.18954181,\n        1.15909484,  0.902139  ,  0.03491287, -0.841304  , -0.009888  ,\n       -0.64686404, -0.60012476, -2.24977083,  0.6186848 , -0.31455749,\n       -0.67525649,  0.49807957, -0.53275944, -0.60139857, -0.80356732,\n       -0.44018463, -1.18950304, -0.25639343, -0.36621272,  1.15862398,\n        2.13410371,  0.87618343,  1.46851188,  1.67412941, -0.66636799,\n        0.28272492, -0.06140141,  0.19956925, -1.30868902, -0.98768602,\n        1.04538932,  2.48381296, -1.56866507,  2.59535923,  2.17054202,\n        0.32224178,  1.21005909, -1.37574271,  0.65000816,  0.50628969,\n        1.31211174, -0.70045013,  0.53478496,  0.53552595, -0.91772176,\n        0.91272848, -0.50470885,  1.19266542,  1.50611616,  1.74134371])"
     },
     "metadata": {},
     "execution_count": 217
    }
   ],
   "source": [
    "arr"
   ]
  },
  {
   "cell_type": "code",
   "execution_count": 218,
   "metadata": {},
   "outputs": [
    {
     "output_type": "execute_result",
     "data": {
      "text/plain": "42"
     },
     "metadata": {},
     "execution_count": 218
    }
   ],
   "source": [
    "(arr > 0).sum()"
   ]
  },
  {
   "cell_type": "code",
   "execution_count": 219,
   "metadata": {},
   "outputs": [],
   "source": [
    "bools = np.array([False, False, True, False])"
   ]
  },
  {
   "cell_type": "code",
   "execution_count": 220,
   "metadata": {},
   "outputs": [
    {
     "output_type": "execute_result",
     "data": {
      "text/plain": "True"
     },
     "metadata": {},
     "execution_count": 220
    }
   ],
   "source": [
    "bools.any()"
   ]
  },
  {
   "cell_type": "code",
   "execution_count": 221,
   "metadata": {},
   "outputs": [
    {
     "output_type": "execute_result",
     "data": {
      "text/plain": "False"
     },
     "metadata": {},
     "execution_count": 221
    }
   ],
   "source": [
    "bools.all()"
   ]
  },
  {
   "cell_type": "markdown",
   "metadata": {},
   "source": [
    "#### Sorting"
   ]
  },
  {
   "cell_type": "code",
   "execution_count": 222,
   "metadata": {},
   "outputs": [],
   "source": [
    "arr = np.random.randn(6)"
   ]
  },
  {
   "cell_type": "code",
   "execution_count": 223,
   "metadata": {},
   "outputs": [
    {
     "output_type": "execute_result",
     "data": {
      "text/plain": "array([-0.14953767,  1.62742166,  0.35306254, -0.60513277,  0.29352885,\n        1.96681322])"
     },
     "metadata": {},
     "execution_count": 223
    }
   ],
   "source": [
    "arr"
   ]
  },
  {
   "cell_type": "code",
   "execution_count": 225,
   "metadata": {},
   "outputs": [],
   "source": [
    "arr.sort()"
   ]
  },
  {
   "cell_type": "code",
   "execution_count": 226,
   "metadata": {},
   "outputs": [
    {
     "output_type": "execute_result",
     "data": {
      "text/plain": "array([-0.60513277, -0.14953767,  0.29352885,  0.35306254,  1.62742166,\n        1.96681322])"
     },
     "metadata": {},
     "execution_count": 226
    }
   ],
   "source": [
    "arr"
   ]
  },
  {
   "cell_type": "code",
   "execution_count": 227,
   "metadata": {},
   "outputs": [],
   "source": [
    "arr = np.random.randn(5, 3)"
   ]
  },
  {
   "cell_type": "code",
   "execution_count": 228,
   "metadata": {},
   "outputs": [
    {
     "output_type": "execute_result",
     "data": {
      "text/plain": "array([[-0.60686302, -0.65503447, -0.88933267],\n       [ 0.22737188,  0.18483567,  0.31162053],\n       [ 2.14144116, -1.23791599, -1.46644394],\n       [-0.09989951,  0.69778743, -1.07307599],\n       [ 0.38925976,  0.66349474, -0.00615064]])"
     },
     "metadata": {},
     "execution_count": 228
    }
   ],
   "source": [
    "arr"
   ]
  },
  {
   "cell_type": "code",
   "execution_count": 229,
   "metadata": {},
   "outputs": [],
   "source": [
    "arr.sort(1)"
   ]
  },
  {
   "cell_type": "code",
   "execution_count": 230,
   "metadata": {},
   "outputs": [
    {
     "output_type": "execute_result",
     "data": {
      "text/plain": "array([[-0.88933267, -0.65503447, -0.60686302],\n       [ 0.18483567,  0.22737188,  0.31162053],\n       [-1.46644394, -1.23791599,  2.14144116],\n       [-1.07307599, -0.09989951,  0.69778743],\n       [-0.00615064,  0.38925976,  0.66349474]])"
     },
     "metadata": {},
     "execution_count": 230
    }
   ],
   "source": [
    "arr"
   ]
  },
  {
   "cell_type": "code",
   "execution_count": 231,
   "metadata": {},
   "outputs": [],
   "source": [
    "large_arr = np.random.randn(1000)"
   ]
  },
  {
   "cell_type": "code",
   "execution_count": 232,
   "metadata": {},
   "outputs": [],
   "source": [
    "large_arr.sort()"
   ]
  },
  {
   "cell_type": "code",
   "execution_count": 234,
   "metadata": {},
   "outputs": [
    {
     "output_type": "execute_result",
     "data": {
      "text/plain": "-1.566506751992808"
     },
     "metadata": {},
     "execution_count": 234
    }
   ],
   "source": [
    "large_arr[int(0.05 * len(large_arr))] # %5 quantile"
   ]
  },
  {
   "cell_type": "markdown",
   "metadata": {},
   "source": [
    "#### Unique and other set logic"
   ]
  },
  {
   "cell_type": "code",
   "execution_count": 235,
   "metadata": {},
   "outputs": [],
   "source": [
    "arr = np.arange(10)"
   ]
  },
  {
   "cell_type": "code",
   "execution_count": 236,
   "metadata": {},
   "outputs": [],
   "source": [
    "np.save('some_array', arr)"
   ]
  },
  {
   "cell_type": "code",
   "execution_count": 238,
   "metadata": {},
   "outputs": [
    {
     "output_type": "execute_result",
     "data": {
      "text/plain": "array([0, 1, 2, 3, 4, 5, 6, 7, 8, 9])"
     },
     "metadata": {},
     "execution_count": 238
    }
   ],
   "source": [
    "np.load('some_array.npy')"
   ]
  },
  {
   "cell_type": "code",
   "execution_count": 239,
   "metadata": {},
   "outputs": [],
   "source": [
    "np.savez('array_archive.npz', a = arr, b = arr)"
   ]
  },
  {
   "cell_type": "code",
   "execution_count": 240,
   "metadata": {},
   "outputs": [],
   "source": [
    "arch = np.load('array_archive.npz')"
   ]
  },
  {
   "cell_type": "code",
   "execution_count": 241,
   "metadata": {},
   "outputs": [
    {
     "output_type": "execute_result",
     "data": {
      "text/plain": "array([0, 1, 2, 3, 4, 5, 6, 7, 8, 9])"
     },
     "metadata": {},
     "execution_count": 241
    }
   ],
   "source": [
    "arch['b']"
   ]
  },
  {
   "cell_type": "code",
   "execution_count": 242,
   "metadata": {},
   "outputs": [
    {
     "output_type": "execute_result",
     "data": {
      "text/plain": "array([0, 1, 2, 3, 4, 5, 6, 7, 8, 9])"
     },
     "metadata": {},
     "execution_count": 242
    }
   ],
   "source": [
    "arch['a']"
   ]
  },
  {
   "cell_type": "code",
   "execution_count": 243,
   "metadata": {},
   "outputs": [],
   "source": [
    "np.savez_compressed('arrays_compressed.npz', a = arr, b = arr)"
   ]
  },
  {
   "cell_type": "markdown",
   "metadata": {},
   "source": [
    "### 4.5 Linear Algebra"
   ]
  },
  {
   "cell_type": "code",
   "execution_count": 244,
   "metadata": {},
   "outputs": [],
   "source": [
    "x = np.array([[1, 2, 3], [4, 5, 6]])"
   ]
  },
  {
   "cell_type": "code",
   "execution_count": 245,
   "metadata": {},
   "outputs": [],
   "source": [
    "y = np.array([[6, 23], [-1, 7], [8, 9]])"
   ]
  },
  {
   "cell_type": "code",
   "execution_count": 246,
   "metadata": {},
   "outputs": [
    {
     "output_type": "execute_result",
     "data": {
      "text/plain": "array([[1, 2, 3],\n       [4, 5, 6]])"
     },
     "metadata": {},
     "execution_count": 246
    }
   ],
   "source": [
    "x"
   ]
  },
  {
   "cell_type": "code",
   "execution_count": 247,
   "metadata": {},
   "outputs": [
    {
     "output_type": "execute_result",
     "data": {
      "text/plain": "array([[ 6, 23],\n       [-1,  7],\n       [ 8,  9]])"
     },
     "metadata": {},
     "execution_count": 247
    }
   ],
   "source": [
    "y"
   ]
  },
  {
   "cell_type": "code",
   "execution_count": 248,
   "metadata": {},
   "outputs": [
    {
     "output_type": "execute_result",
     "data": {
      "text/plain": "array([[ 28,  64],\n       [ 67, 181]])"
     },
     "metadata": {},
     "execution_count": 248
    }
   ],
   "source": [
    "x.dot(y)"
   ]
  },
  {
   "cell_type": "code",
   "execution_count": 249,
   "metadata": {},
   "outputs": [
    {
     "output_type": "execute_result",
     "data": {
      "text/plain": "array([[ 28,  64],\n       [ 67, 181]])"
     },
     "metadata": {},
     "execution_count": 249
    }
   ],
   "source": [
    "np.dot(x, y)"
   ]
  },
  {
   "cell_type": "code",
   "execution_count": 250,
   "metadata": {},
   "outputs": [
    {
     "output_type": "execute_result",
     "data": {
      "text/plain": "array([ 6., 15.])"
     },
     "metadata": {},
     "execution_count": 250
    }
   ],
   "source": [
    "np.dot(x, np.ones(3))"
   ]
  },
  {
   "cell_type": "code",
   "execution_count": 251,
   "metadata": {},
   "outputs": [
    {
     "output_type": "execute_result",
     "data": {
      "text/plain": "array([ 6., 15.])"
     },
     "metadata": {},
     "execution_count": 251
    }
   ],
   "source": [
    "x @ np.ones(3)"
   ]
  },
  {
   "cell_type": "code",
   "execution_count": 252,
   "metadata": {},
   "outputs": [],
   "source": [
    "from numpy.linalg import inv, qr"
   ]
  },
  {
   "cell_type": "code",
   "execution_count": 253,
   "metadata": {},
   "outputs": [],
   "source": [
    "X = np.random.randn(5, 5)"
   ]
  },
  {
   "cell_type": "code",
   "execution_count": 255,
   "metadata": {},
   "outputs": [],
   "source": [
    "mat = X.T.dot(X)"
   ]
  },
  {
   "cell_type": "code",
   "execution_count": 256,
   "metadata": {},
   "outputs": [
    {
     "output_type": "execute_result",
     "data": {
      "text/plain": "array([[ 0.35520953, -0.32318791, -0.06653557,  0.01266891,  0.20677712],\n       [-0.32318791,  0.73173967, -0.05051448,  0.03758585, -2.04001129],\n       [-0.06653557, -0.05051448,  0.14452828,  0.0699602 ,  0.51074202],\n       [ 0.01266891,  0.03758585,  0.0699602 ,  0.98223675, -0.79150782],\n       [ 0.20677712, -2.04001129,  0.51074202, -0.79150782, 10.4604551 ]])"
     },
     "metadata": {},
     "execution_count": 256
    }
   ],
   "source": [
    "inv(mat)"
   ]
  },
  {
   "cell_type": "code",
   "execution_count": 257,
   "metadata": {},
   "outputs": [
    {
     "output_type": "execute_result",
     "data": {
      "text/plain": "array([[ 1.00000000e+00, -1.14506137e-16, -1.26597765e-16,\n         9.06568943e-17,  1.95854066e-16],\n       [-2.09266570e-16,  1.00000000e+00,  8.75693985e-17,\n        -9.51113591e-18, -2.07045263e-15],\n       [ 6.38539017e-17,  2.22342987e-16,  1.00000000e+00,\n         1.46314395e-16, -1.50635400e-15],\n       [-4.23583670e-17,  4.01808956e-17,  5.58513130e-17,\n         1.00000000e+00, -8.61244980e-17],\n       [ 3.54824850e-17,  4.54177273e-17,  7.88526541e-18,\n        -1.14597761e-17,  1.00000000e+00]])"
     },
     "metadata": {},
     "execution_count": 257
    }
   ],
   "source": [
    "mat.dot(inv(mat))"
   ]
  },
  {
   "cell_type": "code",
   "execution_count": 258,
   "metadata": {},
   "outputs": [],
   "source": [
    "q, r = qr(mat)"
   ]
  },
  {
   "cell_type": "code",
   "execution_count": 259,
   "metadata": {},
   "outputs": [
    {
     "output_type": "execute_result",
     "data": {
      "text/plain": "array([[-13.39315485, -12.90967416,  -4.20626333,  -0.77066314,\n         -2.11527682],\n       [  0.        ,  -3.81488226,   8.56073349,  -1.68543858,\n         -1.30603151],\n       [  0.        ,   0.        ,  -6.79217661,   0.81264366,\n          0.38782399],\n       [  0.        ,   0.        ,   0.        ,  -1.06883903,\n         -0.08489366],\n       [  0.        ,   0.        ,   0.        ,   0.        ,\n          0.09344861]])"
     },
     "metadata": {},
     "execution_count": 259
    }
   ],
   "source": [
    "r"
   ]
  },
  {
   "cell_type": "code",
   "execution_count": 260,
   "metadata": {},
   "outputs": [
    {
     "output_type": "execute_result",
     "data": {
      "text/plain": "array([[-0.75241381,  0.37192043,  0.54240977, -0.03109509,  0.01932304],\n       [-0.61931521, -0.62297129, -0.41751813,  0.13301081, -0.19063622],\n       [-0.19895382,  0.64501609, -0.72673088, -0.11813495,  0.04772813],\n       [-0.0318842 , -0.16624051,  0.01606072, -0.98265898, -0.07396531],\n       [-0.09860475, -0.17291701, -0.0554484 , -0.04203187,  0.97751502]])"
     },
     "metadata": {},
     "execution_count": 260
    }
   ],
   "source": [
    "q"
   ]
  },
  {
   "cell_type": "markdown",
   "metadata": {},
   "source": [
    "### 4.6 Pseudorandom Number Generation"
   ]
  },
  {
   "cell_type": "code",
   "execution_count": 262,
   "metadata": {},
   "outputs": [],
   "source": [
    "samples = np.random.normal(size = (4, 4))"
   ]
  },
  {
   "cell_type": "code",
   "execution_count": 263,
   "metadata": {},
   "outputs": [
    {
     "output_type": "execute_result",
     "data": {
      "text/plain": "array([[ 0.78243926, -1.97523979,  1.5073721 ,  1.24516542],\n       [ 0.14467703,  1.407424  ,  0.17145252,  0.28665421],\n       [-0.81048726,  0.11203631,  0.00985215,  0.32280765],\n       [-0.47063565,  1.97674092,  0.86105761, -0.30068644]])"
     },
     "metadata": {},
     "execution_count": 263
    }
   ],
   "source": [
    "samples"
   ]
  },
  {
   "cell_type": "code",
   "execution_count": 264,
   "metadata": {},
   "outputs": [],
   "source": [
    "from random import normalvariate"
   ]
  },
  {
   "cell_type": "code",
   "execution_count": 265,
   "metadata": {},
   "outputs": [],
   "source": [
    "N = 1000000"
   ]
  },
  {
   "cell_type": "code",
   "execution_count": 266,
   "metadata": {},
   "outputs": [
    {
     "output_type": "stream",
     "name": "stdout",
     "text": "3.04 s ± 342 ms per loop (mean ± std. dev. of 7 runs, 1 loop each)\n"
    }
   ],
   "source": [
    "%timeit samples = [normalvariate(0, 1) for _ in range(N)]"
   ]
  },
  {
   "cell_type": "code",
   "execution_count": 267,
   "metadata": {},
   "outputs": [
    {
     "output_type": "stream",
     "name": "stdout",
     "text": "68.3 ms ± 16.6 ms per loop (mean ± std. dev. of 7 runs, 10 loops each)\n"
    }
   ],
   "source": [
    "%timeit np.random.normal(size = N)"
   ]
  },
  {
   "cell_type": "code",
   "execution_count": 268,
   "metadata": {},
   "outputs": [],
   "source": [
    "np.random.seed(1234)"
   ]
  },
  {
   "cell_type": "code",
   "execution_count": 269,
   "metadata": {},
   "outputs": [],
   "source": [
    "rng = np.random.RandomState(1234)"
   ]
  },
  {
   "cell_type": "code",
   "execution_count": 270,
   "metadata": {},
   "outputs": [
    {
     "output_type": "execute_result",
     "data": {
      "text/plain": "array([ 0.47143516, -1.19097569,  1.43270697, -0.3126519 , -0.72058873,\n        0.88716294,  0.85958841, -0.6365235 ,  0.01569637, -2.24268495])"
     },
     "metadata": {},
     "execution_count": 270
    }
   ],
   "source": [
    "rng.randn(10)"
   ]
  },
  {
   "cell_type": "markdown",
   "metadata": {},
   "source": [
    "### 4.7 Example: Random Walks"
   ]
  },
  {
   "cell_type": "markdown",
   "metadata": {},
   "source": [
    "A simple random walk starting with steps of 1 and -1 occurring with equal probability"
   ]
  },
  {
   "cell_type": "markdown",
   "metadata": {},
   "source": [
    "Alternative 1: Python base way to implement a single random walk with 1000 steps"
   ]
  },
  {
   "cell_type": "code",
   "execution_count": 271,
   "metadata": {},
   "outputs": [],
   "source": [
    "import random"
   ]
  },
  {
   "cell_type": "code",
   "execution_count": 272,
   "metadata": {},
   "outputs": [],
   "source": [
    "position = 0\n",
    "walk = [position]\n",
    "steps = 1000\n",
    "for i in range(steps):\n",
    "    step = 1 if random.randint(0, 1) else -1\n",
    "    position += step\n",
    "    walk.append(position)"
   ]
  },
  {
   "cell_type": "code",
   "execution_count": 279,
   "metadata": {},
   "outputs": [
    {
     "output_type": "execute_result",
     "data": {
      "text/plain": "[<matplotlib.lines.Line2D at 0x1fc3962f308>]"
     },
     "metadata": {},
     "execution_count": 279
    },
    {
     "output_type": "display_data",
     "data": {
      "text/plain": "<Figure size 432x288 with 1 Axes>",
      "image/svg+xml": "<?xml version=\"1.0\" encoding=\"utf-8\" standalone=\"no\"?>\r\n<!DOCTYPE svg PUBLIC \"-//W3C//DTD SVG 1.1//EN\"\r\n  \"http://www.w3.org/Graphics/SVG/1.1/DTD/svg11.dtd\">\r\n<!-- Created with matplotlib (https://matplotlib.org/) -->\r\n<svg height=\"248.518125pt\" version=\"1.1\" viewBox=\"0 0 368.925 248.518125\" width=\"368.925pt\" xmlns=\"http://www.w3.org/2000/svg\" xmlns:xlink=\"http://www.w3.org/1999/xlink\">\r\n <defs>\r\n  <style type=\"text/css\">\r\n*{stroke-linecap:butt;stroke-linejoin:round;}\r\n  </style>\r\n </defs>\r\n <g id=\"figure_1\">\r\n  <g id=\"patch_1\">\r\n   <path d=\"M -0 248.518125 \r\nL 368.925 248.518125 \r\nL 368.925 0 \r\nL -0 0 \r\nz\r\n\" style=\"fill:none;\"/>\r\n  </g>\r\n  <g id=\"axes_1\">\r\n   <g id=\"patch_2\">\r\n    <path d=\"M 26.925 224.64 \r\nL 361.725 224.64 \r\nL 361.725 7.2 \r\nL 26.925 7.2 \r\nz\r\n\" style=\"fill:#ffffff;\"/>\r\n   </g>\r\n   <g id=\"matplotlib.axis_1\">\r\n    <g id=\"xtick_1\">\r\n     <g id=\"line2d_1\">\r\n      <defs>\r\n       <path d=\"M 0 0 \r\nL 0 3.5 \r\n\" id=\"m97813095ed\" style=\"stroke:#000000;stroke-width:0.8;\"/>\r\n      </defs>\r\n      <g>\r\n       <use style=\"stroke:#000000;stroke-width:0.8;\" x=\"42.143182\" xlink:href=\"#m97813095ed\" y=\"224.64\"/>\r\n      </g>\r\n     </g>\r\n     <g id=\"text_1\">\r\n      <!-- 0 -->\r\n      <defs>\r\n       <path d=\"M 31.78125 66.40625 \r\nQ 24.171875 66.40625 20.328125 58.90625 \r\nQ 16.5 51.421875 16.5 36.375 \r\nQ 16.5 21.390625 20.328125 13.890625 \r\nQ 24.171875 6.390625 31.78125 6.390625 \r\nQ 39.453125 6.390625 43.28125 13.890625 \r\nQ 47.125 21.390625 47.125 36.375 \r\nQ 47.125 51.421875 43.28125 58.90625 \r\nQ 39.453125 66.40625 31.78125 66.40625 \r\nz\r\nM 31.78125 74.21875 \r\nQ 44.046875 74.21875 50.515625 64.515625 \r\nQ 56.984375 54.828125 56.984375 36.375 \r\nQ 56.984375 17.96875 50.515625 8.265625 \r\nQ 44.046875 -1.421875 31.78125 -1.421875 \r\nQ 19.53125 -1.421875 13.0625 8.265625 \r\nQ 6.59375 17.96875 6.59375 36.375 \r\nQ 6.59375 54.828125 13.0625 64.515625 \r\nQ 19.53125 74.21875 31.78125 74.21875 \r\nz\r\n\" id=\"DejaVuSans-48\"/>\r\n      </defs>\r\n      <g transform=\"translate(38.961932 239.238437)scale(0.1 -0.1)\">\r\n       <use xlink:href=\"#DejaVuSans-48\"/>\r\n      </g>\r\n     </g>\r\n    </g>\r\n    <g id=\"xtick_2\">\r\n     <g id=\"line2d_2\">\r\n      <g>\r\n       <use style=\"stroke:#000000;stroke-width:0.8;\" x=\"103.137899\" xlink:href=\"#m97813095ed\" y=\"224.64\"/>\r\n      </g>\r\n     </g>\r\n     <g id=\"text_2\">\r\n      <!-- 100 -->\r\n      <defs>\r\n       <path d=\"M 12.40625 8.296875 \r\nL 28.515625 8.296875 \r\nL 28.515625 63.921875 \r\nL 10.984375 60.40625 \r\nL 10.984375 69.390625 \r\nL 28.421875 72.90625 \r\nL 38.28125 72.90625 \r\nL 38.28125 8.296875 \r\nL 54.390625 8.296875 \r\nL 54.390625 0 \r\nL 12.40625 0 \r\nz\r\n\" id=\"DejaVuSans-49\"/>\r\n      </defs>\r\n      <g transform=\"translate(93.594149 239.238437)scale(0.1 -0.1)\">\r\n       <use xlink:href=\"#DejaVuSans-49\"/>\r\n       <use x=\"63.623047\" xlink:href=\"#DejaVuSans-48\"/>\r\n       <use x=\"127.246094\" xlink:href=\"#DejaVuSans-48\"/>\r\n      </g>\r\n     </g>\r\n    </g>\r\n    <g id=\"xtick_3\">\r\n     <g id=\"line2d_3\">\r\n      <g>\r\n       <use style=\"stroke:#000000;stroke-width:0.8;\" x=\"164.132615\" xlink:href=\"#m97813095ed\" y=\"224.64\"/>\r\n      </g>\r\n     </g>\r\n     <g id=\"text_3\">\r\n      <!-- 200 -->\r\n      <defs>\r\n       <path d=\"M 19.1875 8.296875 \r\nL 53.609375 8.296875 \r\nL 53.609375 0 \r\nL 7.328125 0 \r\nL 7.328125 8.296875 \r\nQ 12.9375 14.109375 22.625 23.890625 \r\nQ 32.328125 33.6875 34.8125 36.53125 \r\nQ 39.546875 41.84375 41.421875 45.53125 \r\nQ 43.3125 49.21875 43.3125 52.78125 \r\nQ 43.3125 58.59375 39.234375 62.25 \r\nQ 35.15625 65.921875 28.609375 65.921875 \r\nQ 23.96875 65.921875 18.8125 64.3125 \r\nQ 13.671875 62.703125 7.8125 59.421875 \r\nL 7.8125 69.390625 \r\nQ 13.765625 71.78125 18.9375 73 \r\nQ 24.125 74.21875 28.421875 74.21875 \r\nQ 39.75 74.21875 46.484375 68.546875 \r\nQ 53.21875 62.890625 53.21875 53.421875 \r\nQ 53.21875 48.921875 51.53125 44.890625 \r\nQ 49.859375 40.875 45.40625 35.40625 \r\nQ 44.1875 33.984375 37.640625 27.21875 \r\nQ 31.109375 20.453125 19.1875 8.296875 \r\nz\r\n\" id=\"DejaVuSans-50\"/>\r\n      </defs>\r\n      <g transform=\"translate(154.588865 239.238437)scale(0.1 -0.1)\">\r\n       <use xlink:href=\"#DejaVuSans-50\"/>\r\n       <use x=\"63.623047\" xlink:href=\"#DejaVuSans-48\"/>\r\n       <use x=\"127.246094\" xlink:href=\"#DejaVuSans-48\"/>\r\n      </g>\r\n     </g>\r\n    </g>\r\n    <g id=\"xtick_4\">\r\n     <g id=\"line2d_4\">\r\n      <g>\r\n       <use style=\"stroke:#000000;stroke-width:0.8;\" x=\"225.127332\" xlink:href=\"#m97813095ed\" y=\"224.64\"/>\r\n      </g>\r\n     </g>\r\n     <g id=\"text_4\">\r\n      <!-- 300 -->\r\n      <defs>\r\n       <path d=\"M 40.578125 39.3125 \r\nQ 47.65625 37.796875 51.625 33 \r\nQ 55.609375 28.21875 55.609375 21.1875 \r\nQ 55.609375 10.40625 48.1875 4.484375 \r\nQ 40.765625 -1.421875 27.09375 -1.421875 \r\nQ 22.515625 -1.421875 17.65625 -0.515625 \r\nQ 12.796875 0.390625 7.625 2.203125 \r\nL 7.625 11.71875 \r\nQ 11.71875 9.328125 16.59375 8.109375 \r\nQ 21.484375 6.890625 26.8125 6.890625 \r\nQ 36.078125 6.890625 40.9375 10.546875 \r\nQ 45.796875 14.203125 45.796875 21.1875 \r\nQ 45.796875 27.640625 41.28125 31.265625 \r\nQ 36.765625 34.90625 28.71875 34.90625 \r\nL 20.21875 34.90625 \r\nL 20.21875 43.015625 \r\nL 29.109375 43.015625 \r\nQ 36.375 43.015625 40.234375 45.921875 \r\nQ 44.09375 48.828125 44.09375 54.296875 \r\nQ 44.09375 59.90625 40.109375 62.90625 \r\nQ 36.140625 65.921875 28.71875 65.921875 \r\nQ 24.65625 65.921875 20.015625 65.03125 \r\nQ 15.375 64.15625 9.8125 62.3125 \r\nL 9.8125 71.09375 \r\nQ 15.4375 72.65625 20.34375 73.4375 \r\nQ 25.25 74.21875 29.59375 74.21875 \r\nQ 40.828125 74.21875 47.359375 69.109375 \r\nQ 53.90625 64.015625 53.90625 55.328125 \r\nQ 53.90625 49.265625 50.4375 45.09375 \r\nQ 46.96875 40.921875 40.578125 39.3125 \r\nz\r\n\" id=\"DejaVuSans-51\"/>\r\n      </defs>\r\n      <g transform=\"translate(215.583582 239.238437)scale(0.1 -0.1)\">\r\n       <use xlink:href=\"#DejaVuSans-51\"/>\r\n       <use x=\"63.623047\" xlink:href=\"#DejaVuSans-48\"/>\r\n       <use x=\"127.246094\" xlink:href=\"#DejaVuSans-48\"/>\r\n      </g>\r\n     </g>\r\n    </g>\r\n    <g id=\"xtick_5\">\r\n     <g id=\"line2d_5\">\r\n      <g>\r\n       <use style=\"stroke:#000000;stroke-width:0.8;\" x=\"286.122049\" xlink:href=\"#m97813095ed\" y=\"224.64\"/>\r\n      </g>\r\n     </g>\r\n     <g id=\"text_5\">\r\n      <!-- 400 -->\r\n      <defs>\r\n       <path d=\"M 37.796875 64.3125 \r\nL 12.890625 25.390625 \r\nL 37.796875 25.390625 \r\nz\r\nM 35.203125 72.90625 \r\nL 47.609375 72.90625 \r\nL 47.609375 25.390625 \r\nL 58.015625 25.390625 \r\nL 58.015625 17.1875 \r\nL 47.609375 17.1875 \r\nL 47.609375 0 \r\nL 37.796875 0 \r\nL 37.796875 17.1875 \r\nL 4.890625 17.1875 \r\nL 4.890625 26.703125 \r\nz\r\n\" id=\"DejaVuSans-52\"/>\r\n      </defs>\r\n      <g transform=\"translate(276.578299 239.238437)scale(0.1 -0.1)\">\r\n       <use xlink:href=\"#DejaVuSans-52\"/>\r\n       <use x=\"63.623047\" xlink:href=\"#DejaVuSans-48\"/>\r\n       <use x=\"127.246094\" xlink:href=\"#DejaVuSans-48\"/>\r\n      </g>\r\n     </g>\r\n    </g>\r\n    <g id=\"xtick_6\">\r\n     <g id=\"line2d_6\">\r\n      <g>\r\n       <use style=\"stroke:#000000;stroke-width:0.8;\" x=\"347.116765\" xlink:href=\"#m97813095ed\" y=\"224.64\"/>\r\n      </g>\r\n     </g>\r\n     <g id=\"text_6\">\r\n      <!-- 500 -->\r\n      <defs>\r\n       <path d=\"M 10.796875 72.90625 \r\nL 49.515625 72.90625 \r\nL 49.515625 64.59375 \r\nL 19.828125 64.59375 \r\nL 19.828125 46.734375 \r\nQ 21.96875 47.46875 24.109375 47.828125 \r\nQ 26.265625 48.1875 28.421875 48.1875 \r\nQ 40.625 48.1875 47.75 41.5 \r\nQ 54.890625 34.8125 54.890625 23.390625 \r\nQ 54.890625 11.625 47.5625 5.09375 \r\nQ 40.234375 -1.421875 26.90625 -1.421875 \r\nQ 22.3125 -1.421875 17.546875 -0.640625 \r\nQ 12.796875 0.140625 7.71875 1.703125 \r\nL 7.71875 11.625 \r\nQ 12.109375 9.234375 16.796875 8.0625 \r\nQ 21.484375 6.890625 26.703125 6.890625 \r\nQ 35.15625 6.890625 40.078125 11.328125 \r\nQ 45.015625 15.765625 45.015625 23.390625 \r\nQ 45.015625 31 40.078125 35.4375 \r\nQ 35.15625 39.890625 26.703125 39.890625 \r\nQ 22.75 39.890625 18.8125 39.015625 \r\nQ 14.890625 38.140625 10.796875 36.28125 \r\nz\r\n\" id=\"DejaVuSans-53\"/>\r\n      </defs>\r\n      <g transform=\"translate(337.573015 239.238437)scale(0.1 -0.1)\">\r\n       <use xlink:href=\"#DejaVuSans-53\"/>\r\n       <use x=\"63.623047\" xlink:href=\"#DejaVuSans-48\"/>\r\n       <use x=\"127.246094\" xlink:href=\"#DejaVuSans-48\"/>\r\n      </g>\r\n     </g>\r\n    </g>\r\n   </g>\r\n   <g id=\"matplotlib.axis_2\">\r\n    <g id=\"ytick_1\">\r\n     <g id=\"line2d_7\">\r\n      <defs>\r\n       <path d=\"M 0 0 \r\nL -3.5 0 \r\n\" id=\"mbf7bace19c\" style=\"stroke:#000000;stroke-width:0.8;\"/>\r\n      </defs>\r\n      <g>\r\n       <use style=\"stroke:#000000;stroke-width:0.8;\" x=\"26.925\" xlink:href=\"#mbf7bace19c\" y=\"198.728845\"/>\r\n      </g>\r\n     </g>\r\n     <g id=\"text_7\">\r\n      <!-- 0 -->\r\n      <g transform=\"translate(13.5625 202.528064)scale(0.1 -0.1)\">\r\n       <use xlink:href=\"#DejaVuSans-48\"/>\r\n      </g>\r\n     </g>\r\n    </g>\r\n    <g id=\"ytick_2\">\r\n     <g id=\"line2d_8\">\r\n      <g>\r\n       <use style=\"stroke:#000000;stroke-width:0.8;\" x=\"26.925\" xlink:href=\"#mbf7bace19c\" y=\"172.016314\"/>\r\n      </g>\r\n     </g>\r\n     <g id=\"text_8\">\r\n      <!-- 5 -->\r\n      <g transform=\"translate(13.5625 175.815533)scale(0.1 -0.1)\">\r\n       <use xlink:href=\"#DejaVuSans-53\"/>\r\n      </g>\r\n     </g>\r\n    </g>\r\n    <g id=\"ytick_3\">\r\n     <g id=\"line2d_9\">\r\n      <g>\r\n       <use style=\"stroke:#000000;stroke-width:0.8;\" x=\"26.925\" xlink:href=\"#mbf7bace19c\" y=\"145.303784\"/>\r\n      </g>\r\n     </g>\r\n     <g id=\"text_9\">\r\n      <!-- 10 -->\r\n      <g transform=\"translate(7.2 149.103003)scale(0.1 -0.1)\">\r\n       <use xlink:href=\"#DejaVuSans-49\"/>\r\n       <use x=\"63.623047\" xlink:href=\"#DejaVuSans-48\"/>\r\n      </g>\r\n     </g>\r\n    </g>\r\n    <g id=\"ytick_4\">\r\n     <g id=\"line2d_10\">\r\n      <g>\r\n       <use style=\"stroke:#000000;stroke-width:0.8;\" x=\"26.925\" xlink:href=\"#mbf7bace19c\" y=\"118.591253\"/>\r\n      </g>\r\n     </g>\r\n     <g id=\"text_10\">\r\n      <!-- 15 -->\r\n      <g transform=\"translate(7.2 122.390472)scale(0.1 -0.1)\">\r\n       <use xlink:href=\"#DejaVuSans-49\"/>\r\n       <use x=\"63.623047\" xlink:href=\"#DejaVuSans-53\"/>\r\n      </g>\r\n     </g>\r\n    </g>\r\n    <g id=\"ytick_5\">\r\n     <g id=\"line2d_11\">\r\n      <g>\r\n       <use style=\"stroke:#000000;stroke-width:0.8;\" x=\"26.925\" xlink:href=\"#mbf7bace19c\" y=\"91.878722\"/>\r\n      </g>\r\n     </g>\r\n     <g id=\"text_11\">\r\n      <!-- 20 -->\r\n      <g transform=\"translate(7.2 95.677941)scale(0.1 -0.1)\">\r\n       <use xlink:href=\"#DejaVuSans-50\"/>\r\n       <use x=\"63.623047\" xlink:href=\"#DejaVuSans-48\"/>\r\n      </g>\r\n     </g>\r\n    </g>\r\n    <g id=\"ytick_6\">\r\n     <g id=\"line2d_12\">\r\n      <g>\r\n       <use style=\"stroke:#000000;stroke-width:0.8;\" x=\"26.925\" xlink:href=\"#mbf7bace19c\" y=\"65.166192\"/>\r\n      </g>\r\n     </g>\r\n     <g id=\"text_12\">\r\n      <!-- 25 -->\r\n      <g transform=\"translate(7.2 68.96541)scale(0.1 -0.1)\">\r\n       <use xlink:href=\"#DejaVuSans-50\"/>\r\n       <use x=\"63.623047\" xlink:href=\"#DejaVuSans-53\"/>\r\n      </g>\r\n     </g>\r\n    </g>\r\n    <g id=\"ytick_7\">\r\n     <g id=\"line2d_13\">\r\n      <g>\r\n       <use style=\"stroke:#000000;stroke-width:0.8;\" x=\"26.925\" xlink:href=\"#mbf7bace19c\" y=\"38.453661\"/>\r\n      </g>\r\n     </g>\r\n     <g id=\"text_13\">\r\n      <!-- 30 -->\r\n      <g transform=\"translate(7.2 42.25288)scale(0.1 -0.1)\">\r\n       <use xlink:href=\"#DejaVuSans-51\"/>\r\n       <use x=\"63.623047\" xlink:href=\"#DejaVuSans-48\"/>\r\n      </g>\r\n     </g>\r\n    </g>\r\n    <g id=\"ytick_8\">\r\n     <g id=\"line2d_14\">\r\n      <g>\r\n       <use style=\"stroke:#000000;stroke-width:0.8;\" x=\"26.925\" xlink:href=\"#mbf7bace19c\" y=\"11.74113\"/>\r\n      </g>\r\n     </g>\r\n     <g id=\"text_14\">\r\n      <!-- 35 -->\r\n      <g transform=\"translate(7.2 15.540349)scale(0.1 -0.1)\">\r\n       <use xlink:href=\"#DejaVuSans-51\"/>\r\n       <use x=\"63.623047\" xlink:href=\"#DejaVuSans-53\"/>\r\n      </g>\r\n     </g>\r\n    </g>\r\n   </g>\r\n   <g id=\"line2d_15\">\r\n    <path clip-path=\"url(#p33bbe1144c)\" d=\"M 42.143182 198.728845 \r\nL 42.753129 193.386339 \r\nL 43.973023 204.071351 \r\nL 44.58297 198.728845 \r\nL 46.412812 214.756364 \r\nL 47.022759 209.413857 \r\nL 47.632706 214.756364 \r\nL 48.242653 209.413857 \r\nL 48.852601 214.756364 \r\nL 50.072495 204.071351 \r\nL 50.682442 209.413857 \r\nL 56.171967 161.331302 \r\nL 56.781914 166.673808 \r\nL 57.391861 161.331302 \r\nL 58.001808 166.673808 \r\nL 58.611755 161.331302 \r\nL 59.221702 166.673808 \r\nL 59.83165 161.331302 \r\nL 60.441597 166.673808 \r\nL 61.051544 161.331302 \r\nL 61.661491 166.673808 \r\nL 62.271438 161.331302 \r\nL 62.881385 166.673808 \r\nL 64.10128 155.988796 \r\nL 65.321174 166.673808 \r\nL 65.931121 161.331302 \r\nL 66.541069 166.673808 \r\nL 70.810699 129.276265 \r\nL 72.030593 139.961278 \r\nL 72.64054 134.618771 \r\nL 73.250487 139.961278 \r\nL 73.860435 134.618771 \r\nL 74.470382 139.961278 \r\nL 75.080329 134.618771 \r\nL 75.690276 139.961278 \r\nL 76.91017 129.276265 \r\nL 79.959906 155.988796 \r\nL 80.569853 150.64629 \r\nL 81.789748 161.331302 \r\nL 82.399695 155.988796 \r\nL 84.229536 172.016314 \r\nL 86.669325 150.64629 \r\nL 88.499167 166.673808 \r\nL 92.15885 134.618771 \r\nL 92.768797 139.961278 \r\nL 94.598638 123.933759 \r\nL 95.208585 129.276265 \r\nL 95.818533 123.933759 \r\nL 98.868268 150.64629 \r\nL 99.478216 145.303784 \r\nL 104.357793 188.043833 \r\nL 104.96774 182.701327 \r\nL 105.577687 188.043833 \r\nL 106.797582 177.358821 \r\nL 107.407529 182.701327 \r\nL 108.017476 177.358821 \r\nL 108.627423 182.701327 \r\nL 109.23737 177.358821 \r\nL 109.847317 182.701327 \r\nL 110.457265 177.358821 \r\nL 112.287106 193.386339 \r\nL 112.897053 188.043833 \r\nL 113.507 193.386339 \r\nL 114.726895 182.701327 \r\nL 116.556736 198.728845 \r\nL 118.386578 182.701327 \r\nL 119.606472 193.386339 \r\nL 120.826366 182.701327 \r\nL 122.656208 198.728845 \r\nL 123.266155 193.386339 \r\nL 125.095997 209.413857 \r\nL 125.705944 204.071351 \r\nL 126.315891 209.413857 \r\nL 126.925838 204.071351 \r\nL 127.535785 209.413857 \r\nL 128.75568 198.728845 \r\nL 129.365627 204.071351 \r\nL 131.805415 182.701327 \r\nL 132.415363 188.043833 \r\nL 133.635257 177.358821 \r\nL 134.245204 182.701327 \r\nL 137.29494 155.988796 \r\nL 137.904887 161.331302 \r\nL 140.344676 139.961278 \r\nL 140.954623 145.303784 \r\nL 142.174517 134.618771 \r\nL 144.004359 150.64629 \r\nL 144.614306 145.303784 \r\nL 146.444147 161.331302 \r\nL 151.323725 118.591253 \r\nL 151.933672 123.933759 \r\nL 154.373461 102.563735 \r\nL 155.593355 113.248747 \r\nL 158.033144 91.878722 \r\nL 164.132615 145.303784 \r\nL 169.012193 102.563735 \r\nL 170.842034 118.591253 \r\nL 172.671876 102.563735 \r\nL 173.281823 107.906241 \r\nL 173.89177 102.563735 \r\nL 174.501717 107.906241 \r\nL 175.111664 102.563735 \r\nL 175.721611 107.906241 \r\nL 176.331559 102.563735 \r\nL 176.941506 107.906241 \r\nL 177.551453 102.563735 \r\nL 178.1614 107.906241 \r\nL 178.771347 102.563735 \r\nL 179.381294 107.906241 \r\nL 179.991242 102.563735 \r\nL 180.601189 107.906241 \r\nL 183.040977 86.536216 \r\nL 184.260872 97.221229 \r\nL 186.090713 81.19371 \r\nL 189.140449 107.906241 \r\nL 189.750396 102.563735 \r\nL 191.580238 118.591253 \r\nL 192.800132 107.906241 \r\nL 193.410079 113.248747 \r\nL 194.020026 107.906241 \r\nL 195.849868 123.933759 \r\nL 198.899604 97.221229 \r\nL 199.509551 102.563735 \r\nL 201.339392 86.536216 \r\nL 202.559287 97.221229 \r\nL 204.389128 81.19371 \r\nL 206.828917 102.563735 \r\nL 207.438864 97.221229 \r\nL 208.658758 107.906241 \r\nL 209.268706 102.563735 \r\nL 209.878653 107.906241 \r\nL 212.318441 86.536216 \r\nL 212.928389 91.878722 \r\nL 213.538336 86.536216 \r\nL 215.368177 102.563735 \r\nL 215.978124 97.221229 \r\nL 216.588072 102.563735 \r\nL 217.198019 97.221229 \r\nL 217.807966 102.563735 \r\nL 218.417913 97.221229 \r\nL 220.247755 113.248747 \r\nL 222.077596 97.221229 \r\nL 222.687543 102.563735 \r\nL 224.517385 86.536216 \r\nL 225.737279 97.221229 \r\nL 230.006909 59.823686 \r\nL 230.616856 65.166192 \r\nL 231.226804 59.823686 \r\nL 231.836751 65.166192 \r\nL 233.666592 49.138673 \r\nL 236.716328 75.851204 \r\nL 237.936222 65.166192 \r\nL 240.985958 91.878722 \r\nL 241.595905 86.536216 \r\nL 242.205853 91.878722 \r\nL 242.8158 86.536216 \r\nL 243.425747 91.878722 \r\nL 245.255588 75.851204 \r\nL 247.08543 91.878722 \r\nL 250.135166 65.166192 \r\nL 250.745113 70.508698 \r\nL 251.965007 59.823686 \r\nL 252.574954 65.166192 \r\nL 254.404796 49.138673 \r\nL 255.014743 54.481179 \r\nL 255.62469 49.138673 \r\nL 256.844585 59.823686 \r\nL 257.454532 54.481179 \r\nL 258.064479 59.823686 \r\nL 262.944056 17.083636 \r\nL 264.163951 27.768649 \r\nL 265.383845 17.083636 \r\nL 265.993792 22.426143 \r\nL 266.603739 17.083636 \r\nL 267.213686 22.426143 \r\nL 267.823634 17.083636 \r\nL 271.483317 49.138673 \r\nL 272.093264 43.796167 \r\nL 273.313158 54.481179 \r\nL 274.533052 43.796167 \r\nL 275.752947 54.481179 \r\nL 276.362894 49.138673 \r\nL 278.802683 70.508698 \r\nL 280.632524 54.481179 \r\nL 281.242471 59.823686 \r\nL 283.072313 43.796167 \r\nL 283.68226 49.138673 \r\nL 284.902154 38.453661 \r\nL 287.95189 65.166192 \r\nL 288.561837 59.823686 \r\nL 289.171784 65.166192 \r\nL 290.391679 54.481179 \r\nL 291.001626 59.823686 \r\nL 293.441415 38.453661 \r\nL 294.051362 43.796167 \r\nL 294.661309 38.453661 \r\nL 295.881203 49.138673 \r\nL 296.49115 43.796167 \r\nL 297.101098 49.138673 \r\nL 298.320992 38.453661 \r\nL 300.760781 59.823686 \r\nL 301.370728 54.481179 \r\nL 301.980675 59.823686 \r\nL 302.590622 54.481179 \r\nL 303.810516 65.166192 \r\nL 304.420464 59.823686 \r\nL 305.030411 65.166192 \r\nL 306.860252 49.138673 \r\nL 308.690094 65.166192 \r\nL 309.300041 59.823686 \r\nL 309.909988 65.166192 \r\nL 310.519935 59.823686 \r\nL 311.73983 70.508698 \r\nL 312.959724 59.823686 \r\nL 313.569671 65.166192 \r\nL 316.00946 43.796167 \r\nL 316.619407 49.138673 \r\nL 317.229354 43.796167 \r\nL 317.839301 49.138673 \r\nL 319.059196 38.453661 \r\nL 320.27909 49.138673 \r\nL 320.889037 43.796167 \r\nL 321.498984 49.138673 \r\nL 322.108931 43.796167 \r\nL 323.328826 54.481179 \r\nL 323.938773 49.138673 \r\nL 325.158667 59.823686 \r\nL 326.378562 49.138673 \r\nL 328.81835 70.508698 \r\nL 329.428298 65.166192 \r\nL 330.038245 70.508698 \r\nL 330.648192 65.166192 \r\nL 331.868086 75.851204 \r\nL 333.087981 65.166192 \r\nL 334.307875 75.851204 \r\nL 334.917822 70.508698 \r\nL 335.527769 75.851204 \r\nL 336.137716 70.508698 \r\nL 336.747664 75.851204 \r\nL 337.357611 70.508698 \r\nL 338.577505 81.19371 \r\nL 342.237188 49.138673 \r\nL 343.457082 59.823686 \r\nL 344.06703 54.481179 \r\nL 344.676977 59.823686 \r\nL 346.506818 43.796167 \r\nL 346.506818 43.796167 \r\n\" style=\"fill:none;stroke:#1f77b4;stroke-linecap:square;stroke-width:1.5;\"/>\r\n   </g>\r\n   <g id=\"patch_3\">\r\n    <path d=\"M 26.925 224.64 \r\nL 26.925 7.2 \r\n\" style=\"fill:none;stroke:#000000;stroke-linecap:square;stroke-linejoin:miter;stroke-width:0.8;\"/>\r\n   </g>\r\n   <g id=\"patch_4\">\r\n    <path d=\"M 361.725 224.64 \r\nL 361.725 7.2 \r\n\" style=\"fill:none;stroke:#000000;stroke-linecap:square;stroke-linejoin:miter;stroke-width:0.8;\"/>\r\n   </g>\r\n   <g id=\"patch_5\">\r\n    <path d=\"M 26.925 224.64 \r\nL 361.725 224.64 \r\n\" style=\"fill:none;stroke:#000000;stroke-linecap:square;stroke-linejoin:miter;stroke-width:0.8;\"/>\r\n   </g>\r\n   <g id=\"patch_6\">\r\n    <path d=\"M 26.925 7.2 \r\nL 361.725 7.2 \r\n\" style=\"fill:none;stroke:#000000;stroke-linecap:square;stroke-linejoin:miter;stroke-width:0.8;\"/>\r\n   </g>\r\n  </g>\r\n </g>\r\n <defs>\r\n  <clipPath id=\"p33bbe1144c\">\r\n   <rect height=\"217.44\" width=\"334.8\" x=\"26.925\" y=\"7.2\"/>\r\n  </clipPath>\r\n </defs>\r\n</svg>\r\n",
      "image/png": "[encoded data removed]"
     },
     "metadata": {
      "needs_background": "light"
     }
    }
   ],
   "source": [
    "plt.plot(walk[:500])"
   ]
  },
  {
   "cell_type": "code",
   "execution_count": 280,
   "metadata": {},
   "outputs": [],
   "source": [
    "nsteps = 1000"
   ]
  },
  {
   "cell_type": "code",
   "execution_count": 292,
   "metadata": {},
   "outputs": [],
   "source": [
    "draws = np.random.randint(0, 2, size = nsteps)"
   ]
  },
  {
   "cell_type": "code",
   "execution_count": 293,
   "metadata": {},
   "outputs": [],
   "source": [
    "steps = np.where(draws > 0, 1, -1)"
   ]
  },
  {
   "cell_type": "code",
   "execution_count": 294,
   "metadata": {},
   "outputs": [],
   "source": [
    "walk = steps.cumsum()"
   ]
  },
  {
   "cell_type": "code",
   "execution_count": 295,
   "metadata": {},
   "outputs": [
    {
     "output_type": "execute_result",
     "data": {
      "text/plain": "[<matplotlib.lines.Line2D at 0x1fc3b308a88>]"
     },
     "metadata": {},
     "execution_count": 295
    },
    {
     "output_type": "display_data",
     "data": {
      "text/plain": "<Figure size 432x288 with 1 Axes>",
      "image/svg+xml": "<?xml version=\"1.0\" encoding=\"utf-8\" standalone=\"no\"?>\r\n<!DOCTYPE svg PUBLIC \"-//W3C//DTD SVG 1.1//EN\"\r\n  \"http://www.w3.org/Graphics/SVG/1.1/DTD/svg11.dtd\">\r\n<!-- Created with matplotlib (https://matplotlib.org/) -->\r\n<svg height=\"248.810247pt\" version=\"1.1\" viewBox=\"0 0 370.942187 248.810247\" width=\"370.942187pt\" xmlns=\"http://www.w3.org/2000/svg\" xmlns:xlink=\"http://www.w3.org/1999/xlink\">\r\n <defs>\r\n  <style type=\"text/css\">\r\n*{stroke-linecap:butt;stroke-linejoin:round;}\r\n  </style>\r\n </defs>\r\n <g id=\"figure_1\">\r\n  <g id=\"patch_1\">\r\n   <path d=\"M 0 248.810247 \r\nL 370.942187 248.810247 \r\nL 370.942187 0 \r\nL 0 0 \r\nz\r\n\" style=\"fill:none;\"/>\r\n  </g>\r\n  <g id=\"axes_1\">\r\n   <g id=\"patch_2\">\r\n    <path d=\"M 28.942188 224.932122 \r\nL 363.742188 224.932122 \r\nL 363.742188 7.492122 \r\nL 28.942188 7.492122 \r\nz\r\n\" style=\"fill:#ffffff;\"/>\r\n   </g>\r\n   <g id=\"matplotlib.axis_1\">\r\n    <g id=\"xtick_1\">\r\n     <g id=\"line2d_1\">\r\n      <defs>\r\n       <path d=\"M 0 0 \r\nL 0 3.5 \r\n\" id=\"m7ed11d5cc8\" style=\"stroke:#000000;stroke-width:0.8;\"/>\r\n      </defs>\r\n      <g>\r\n       <use style=\"stroke:#000000;stroke-width:0.8;\" x=\"44.160369\" xlink:href=\"#m7ed11d5cc8\" y=\"224.932122\"/>\r\n      </g>\r\n     </g>\r\n     <g id=\"text_1\">\r\n      <!-- 0 -->\r\n      <defs>\r\n       <path d=\"M 31.78125 66.40625 \r\nQ 24.171875 66.40625 20.328125 58.90625 \r\nQ 16.5 51.421875 16.5 36.375 \r\nQ 16.5 21.390625 20.328125 13.890625 \r\nQ 24.171875 6.390625 31.78125 6.390625 \r\nQ 39.453125 6.390625 43.28125 13.890625 \r\nQ 47.125 21.390625 47.125 36.375 \r\nQ 47.125 51.421875 43.28125 58.90625 \r\nQ 39.453125 66.40625 31.78125 66.40625 \r\nz\r\nM 31.78125 74.21875 \r\nQ 44.046875 74.21875 50.515625 64.515625 \r\nQ 56.984375 54.828125 56.984375 36.375 \r\nQ 56.984375 17.96875 50.515625 8.265625 \r\nQ 44.046875 -1.421875 31.78125 -1.421875 \r\nQ 19.53125 -1.421875 13.0625 8.265625 \r\nQ 6.59375 17.96875 6.59375 36.375 \r\nQ 6.59375 54.828125 13.0625 64.515625 \r\nQ 19.53125 74.21875 31.78125 74.21875 \r\nz\r\n\" id=\"DejaVuSans-48\"/>\r\n      </defs>\r\n      <g transform=\"translate(40.979119 239.530559)scale(0.1 -0.1)\">\r\n       <use xlink:href=\"#DejaVuSans-48\"/>\r\n      </g>\r\n     </g>\r\n    </g>\r\n    <g id=\"xtick_2\">\r\n     <g id=\"line2d_2\">\r\n      <g>\r\n       <use style=\"stroke:#000000;stroke-width:0.8;\" x=\"105.155086\" xlink:href=\"#m7ed11d5cc8\" y=\"224.932122\"/>\r\n      </g>\r\n     </g>\r\n     <g id=\"text_2\">\r\n      <!-- 100 -->\r\n      <defs>\r\n       <path d=\"M 12.40625 8.296875 \r\nL 28.515625 8.296875 \r\nL 28.515625 63.921875 \r\nL 10.984375 60.40625 \r\nL 10.984375 69.390625 \r\nL 28.421875 72.90625 \r\nL 38.28125 72.90625 \r\nL 38.28125 8.296875 \r\nL 54.390625 8.296875 \r\nL 54.390625 0 \r\nL 12.40625 0 \r\nz\r\n\" id=\"DejaVuSans-49\"/>\r\n      </defs>\r\n      <g transform=\"translate(95.611336 239.530559)scale(0.1 -0.1)\">\r\n       <use xlink:href=\"#DejaVuSans-49\"/>\r\n       <use x=\"63.623047\" xlink:href=\"#DejaVuSans-48\"/>\r\n       <use x=\"127.246094\" xlink:href=\"#DejaVuSans-48\"/>\r\n      </g>\r\n     </g>\r\n    </g>\r\n    <g id=\"xtick_3\">\r\n     <g id=\"line2d_3\">\r\n      <g>\r\n       <use style=\"stroke:#000000;stroke-width:0.8;\" x=\"166.149803\" xlink:href=\"#m7ed11d5cc8\" y=\"224.932122\"/>\r\n      </g>\r\n     </g>\r\n     <g id=\"text_3\">\r\n      <!-- 200 -->\r\n      <defs>\r\n       <path d=\"M 19.1875 8.296875 \r\nL 53.609375 8.296875 \r\nL 53.609375 0 \r\nL 7.328125 0 \r\nL 7.328125 8.296875 \r\nQ 12.9375 14.109375 22.625 23.890625 \r\nQ 32.328125 33.6875 34.8125 36.53125 \r\nQ 39.546875 41.84375 41.421875 45.53125 \r\nQ 43.3125 49.21875 43.3125 52.78125 \r\nQ 43.3125 58.59375 39.234375 62.25 \r\nQ 35.15625 65.921875 28.609375 65.921875 \r\nQ 23.96875 65.921875 18.8125 64.3125 \r\nQ 13.671875 62.703125 7.8125 59.421875 \r\nL 7.8125 69.390625 \r\nQ 13.765625 71.78125 18.9375 73 \r\nQ 24.125 74.21875 28.421875 74.21875 \r\nQ 39.75 74.21875 46.484375 68.546875 \r\nQ 53.21875 62.890625 53.21875 53.421875 \r\nQ 53.21875 48.921875 51.53125 44.890625 \r\nQ 49.859375 40.875 45.40625 35.40625 \r\nQ 44.1875 33.984375 37.640625 27.21875 \r\nQ 31.109375 20.453125 19.1875 8.296875 \r\nz\r\n\" id=\"DejaVuSans-50\"/>\r\n      </defs>\r\n      <g transform=\"translate(156.606053 239.530559)scale(0.1 -0.1)\">\r\n       <use xlink:href=\"#DejaVuSans-50\"/>\r\n       <use x=\"63.623047\" xlink:href=\"#DejaVuSans-48\"/>\r\n       <use x=\"127.246094\" xlink:href=\"#DejaVuSans-48\"/>\r\n      </g>\r\n     </g>\r\n    </g>\r\n    <g id=\"xtick_4\">\r\n     <g id=\"line2d_4\">\r\n      <g>\r\n       <use style=\"stroke:#000000;stroke-width:0.8;\" x=\"227.144519\" xlink:href=\"#m7ed11d5cc8\" y=\"224.932122\"/>\r\n      </g>\r\n     </g>\r\n     <g id=\"text_4\">\r\n      <!-- 300 -->\r\n      <defs>\r\n       <path d=\"M 40.578125 39.3125 \r\nQ 47.65625 37.796875 51.625 33 \r\nQ 55.609375 28.21875 55.609375 21.1875 \r\nQ 55.609375 10.40625 48.1875 4.484375 \r\nQ 40.765625 -1.421875 27.09375 -1.421875 \r\nQ 22.515625 -1.421875 17.65625 -0.515625 \r\nQ 12.796875 0.390625 7.625 2.203125 \r\nL 7.625 11.71875 \r\nQ 11.71875 9.328125 16.59375 8.109375 \r\nQ 21.484375 6.890625 26.8125 6.890625 \r\nQ 36.078125 6.890625 40.9375 10.546875 \r\nQ 45.796875 14.203125 45.796875 21.1875 \r\nQ 45.796875 27.640625 41.28125 31.265625 \r\nQ 36.765625 34.90625 28.71875 34.90625 \r\nL 20.21875 34.90625 \r\nL 20.21875 43.015625 \r\nL 29.109375 43.015625 \r\nQ 36.375 43.015625 40.234375 45.921875 \r\nQ 44.09375 48.828125 44.09375 54.296875 \r\nQ 44.09375 59.90625 40.109375 62.90625 \r\nQ 36.140625 65.921875 28.71875 65.921875 \r\nQ 24.65625 65.921875 20.015625 65.03125 \r\nQ 15.375 64.15625 9.8125 62.3125 \r\nL 9.8125 71.09375 \r\nQ 15.4375 72.65625 20.34375 73.4375 \r\nQ 25.25 74.21875 29.59375 74.21875 \r\nQ 40.828125 74.21875 47.359375 69.109375 \r\nQ 53.90625 64.015625 53.90625 55.328125 \r\nQ 53.90625 49.265625 50.4375 45.09375 \r\nQ 46.96875 40.921875 40.578125 39.3125 \r\nz\r\n\" id=\"DejaVuSans-51\"/>\r\n      </defs>\r\n      <g transform=\"translate(217.600769 239.530559)scale(0.1 -0.1)\">\r\n       <use xlink:href=\"#DejaVuSans-51\"/>\r\n       <use x=\"63.623047\" xlink:href=\"#DejaVuSans-48\"/>\r\n       <use x=\"127.246094\" xlink:href=\"#DejaVuSans-48\"/>\r\n      </g>\r\n     </g>\r\n    </g>\r\n    <g id=\"xtick_5\">\r\n     <g id=\"line2d_5\">\r\n      <g>\r\n       <use style=\"stroke:#000000;stroke-width:0.8;\" x=\"288.139236\" xlink:href=\"#m7ed11d5cc8\" y=\"224.932122\"/>\r\n      </g>\r\n     </g>\r\n     <g id=\"text_5\">\r\n      <!-- 400 -->\r\n      <defs>\r\n       <path d=\"M 37.796875 64.3125 \r\nL 12.890625 25.390625 \r\nL 37.796875 25.390625 \r\nz\r\nM 35.203125 72.90625 \r\nL 47.609375 72.90625 \r\nL 47.609375 25.390625 \r\nL 58.015625 25.390625 \r\nL 58.015625 17.1875 \r\nL 47.609375 17.1875 \r\nL 47.609375 0 \r\nL 37.796875 0 \r\nL 37.796875 17.1875 \r\nL 4.890625 17.1875 \r\nL 4.890625 26.703125 \r\nz\r\n\" id=\"DejaVuSans-52\"/>\r\n      </defs>\r\n      <g transform=\"translate(278.595486 239.530559)scale(0.1 -0.1)\">\r\n       <use xlink:href=\"#DejaVuSans-52\"/>\r\n       <use x=\"63.623047\" xlink:href=\"#DejaVuSans-48\"/>\r\n       <use x=\"127.246094\" xlink:href=\"#DejaVuSans-48\"/>\r\n      </g>\r\n     </g>\r\n    </g>\r\n    <g id=\"xtick_6\">\r\n     <g id=\"line2d_6\">\r\n      <g>\r\n       <use style=\"stroke:#000000;stroke-width:0.8;\" x=\"349.133953\" xlink:href=\"#m7ed11d5cc8\" y=\"224.932122\"/>\r\n      </g>\r\n     </g>\r\n     <g id=\"text_6\">\r\n      <!-- 500 -->\r\n      <defs>\r\n       <path d=\"M 10.796875 72.90625 \r\nL 49.515625 72.90625 \r\nL 49.515625 64.59375 \r\nL 19.828125 64.59375 \r\nL 19.828125 46.734375 \r\nQ 21.96875 47.46875 24.109375 47.828125 \r\nQ 26.265625 48.1875 28.421875 48.1875 \r\nQ 40.625 48.1875 47.75 41.5 \r\nQ 54.890625 34.8125 54.890625 23.390625 \r\nQ 54.890625 11.625 47.5625 5.09375 \r\nQ 40.234375 -1.421875 26.90625 -1.421875 \r\nQ 22.3125 -1.421875 17.546875 -0.640625 \r\nQ 12.796875 0.140625 7.71875 1.703125 \r\nL 7.71875 11.625 \r\nQ 12.109375 9.234375 16.796875 8.0625 \r\nQ 21.484375 6.890625 26.703125 6.890625 \r\nQ 35.15625 6.890625 40.078125 11.328125 \r\nQ 45.015625 15.765625 45.015625 23.390625 \r\nQ 45.015625 31 40.078125 35.4375 \r\nQ 35.15625 39.890625 26.703125 39.890625 \r\nQ 22.75 39.890625 18.8125 39.015625 \r\nQ 14.890625 38.140625 10.796875 36.28125 \r\nz\r\n\" id=\"DejaVuSans-53\"/>\r\n      </defs>\r\n      <g transform=\"translate(339.590203 239.530559)scale(0.1 -0.1)\">\r\n       <use xlink:href=\"#DejaVuSans-53\"/>\r\n       <use x=\"63.623047\" xlink:href=\"#DejaVuSans-48\"/>\r\n       <use x=\"127.246094\" xlink:href=\"#DejaVuSans-48\"/>\r\n      </g>\r\n     </g>\r\n    </g>\r\n   </g>\r\n   <g id=\"matplotlib.axis_2\">\r\n    <g id=\"ytick_1\">\r\n     <g id=\"line2d_7\">\r\n      <defs>\r\n       <path d=\"M 0 0 \r\nL -3.5 0 \r\n\" id=\"m8ff213f4ff\" style=\"stroke:#000000;stroke-width:0.8;\"/>\r\n      </defs>\r\n      <g>\r\n       <use style=\"stroke:#000000;stroke-width:0.8;\" x=\"28.942188\" xlink:href=\"#m8ff213f4ff\" y=\"202.295406\"/>\r\n      </g>\r\n     </g>\r\n     <g id=\"text_7\">\r\n      <!-- −5 -->\r\n      <defs>\r\n       <path d=\"M 10.59375 35.5 \r\nL 73.1875 35.5 \r\nL 73.1875 27.203125 \r\nL 10.59375 27.203125 \r\nz\r\n\" id=\"DejaVuSans-8722\"/>\r\n      </defs>\r\n      <g transform=\"translate(7.2 206.094625)scale(0.1 -0.1)\">\r\n       <use xlink:href=\"#DejaVuSans-8722\"/>\r\n       <use x=\"83.789062\" xlink:href=\"#DejaVuSans-53\"/>\r\n      </g>\r\n     </g>\r\n    </g>\r\n    <g id=\"ytick_2\">\r\n     <g id=\"line2d_8\">\r\n      <g>\r\n       <use style=\"stroke:#000000;stroke-width:0.8;\" x=\"28.942188\" xlink:href=\"#m8ff213f4ff\" y=\"170.412708\"/>\r\n      </g>\r\n     </g>\r\n     <g id=\"text_8\">\r\n      <!-- 0 -->\r\n      <g transform=\"translate(15.579688 174.211927)scale(0.1 -0.1)\">\r\n       <use xlink:href=\"#DejaVuSans-48\"/>\r\n      </g>\r\n     </g>\r\n    </g>\r\n    <g id=\"ytick_3\">\r\n     <g id=\"line2d_9\">\r\n      <g>\r\n       <use style=\"stroke:#000000;stroke-width:0.8;\" x=\"28.942188\" xlink:href=\"#m8ff213f4ff\" y=\"138.530011\"/>\r\n      </g>\r\n     </g>\r\n     <g id=\"text_9\">\r\n      <!-- 5 -->\r\n      <g transform=\"translate(15.579688 142.329229)scale(0.1 -0.1)\">\r\n       <use xlink:href=\"#DejaVuSans-53\"/>\r\n      </g>\r\n     </g>\r\n    </g>\r\n    <g id=\"ytick_4\">\r\n     <g id=\"line2d_10\">\r\n      <g>\r\n       <use style=\"stroke:#000000;stroke-width:0.8;\" x=\"28.942188\" xlink:href=\"#m8ff213f4ff\" y=\"106.647313\"/>\r\n      </g>\r\n     </g>\r\n     <g id=\"text_10\">\r\n      <!-- 10 -->\r\n      <g transform=\"translate(9.217188 110.446531)scale(0.1 -0.1)\">\r\n       <use xlink:href=\"#DejaVuSans-49\"/>\r\n       <use x=\"63.623047\" xlink:href=\"#DejaVuSans-48\"/>\r\n      </g>\r\n     </g>\r\n    </g>\r\n    <g id=\"ytick_5\">\r\n     <g id=\"line2d_11\">\r\n      <g>\r\n       <use style=\"stroke:#000000;stroke-width:0.8;\" x=\"28.942188\" xlink:href=\"#m8ff213f4ff\" y=\"74.764615\"/>\r\n      </g>\r\n     </g>\r\n     <g id=\"text_11\">\r\n      <!-- 15 -->\r\n      <g transform=\"translate(9.217188 78.563833)scale(0.1 -0.1)\">\r\n       <use xlink:href=\"#DejaVuSans-49\"/>\r\n       <use x=\"63.623047\" xlink:href=\"#DejaVuSans-53\"/>\r\n      </g>\r\n     </g>\r\n    </g>\r\n    <g id=\"ytick_6\">\r\n     <g id=\"line2d_12\">\r\n      <g>\r\n       <use style=\"stroke:#000000;stroke-width:0.8;\" x=\"28.942188\" xlink:href=\"#m8ff213f4ff\" y=\"42.881917\"/>\r\n      </g>\r\n     </g>\r\n     <g id=\"text_12\">\r\n      <!-- 20 -->\r\n      <g transform=\"translate(9.217188 46.681135)scale(0.1 -0.1)\">\r\n       <use xlink:href=\"#DejaVuSans-50\"/>\r\n       <use x=\"63.623047\" xlink:href=\"#DejaVuSans-48\"/>\r\n      </g>\r\n     </g>\r\n    </g>\r\n    <g id=\"ytick_7\">\r\n     <g id=\"line2d_13\">\r\n      <g>\r\n       <use style=\"stroke:#000000;stroke-width:0.8;\" x=\"28.942188\" xlink:href=\"#m8ff213f4ff\" y=\"10.999219\"/>\r\n      </g>\r\n     </g>\r\n     <g id=\"text_13\">\r\n      <!-- 25 -->\r\n      <g transform=\"translate(9.217188 14.798438)scale(0.1 -0.1)\">\r\n       <use xlink:href=\"#DejaVuSans-50\"/>\r\n       <use x=\"63.623047\" xlink:href=\"#DejaVuSans-53\"/>\r\n      </g>\r\n     </g>\r\n    </g>\r\n   </g>\r\n   <g id=\"line2d_14\">\r\n    <path clip-path=\"url(#p2ac31dbb96)\" d=\"M 44.160369 164.036169 \r\nL 44.770316 157.659629 \r\nL 45.990211 170.412708 \r\nL 47.820052 151.28309 \r\nL 48.429999 157.659629 \r\nL 49.039947 151.28309 \r\nL 50.259841 164.036169 \r\nL 50.869788 157.659629 \r\nL 51.479735 164.036169 \r\nL 52.089682 157.659629 \r\nL 53.309577 170.412708 \r\nL 54.529471 157.659629 \r\nL 56.359313 176.789248 \r\nL 59.409048 144.90655 \r\nL 60.018996 151.28309 \r\nL 62.458784 125.776931 \r\nL 63.068731 132.153471 \r\nL 63.678679 125.776931 \r\nL 65.50852 144.90655 \r\nL 66.728414 132.153471 \r\nL 71.607992 183.165788 \r\nL 75.267675 144.90655 \r\nL 75.877622 151.28309 \r\nL 77.097516 138.530011 \r\nL 77.707464 144.90655 \r\nL 79.537305 125.776931 \r\nL 80.147252 132.153471 \r\nL 80.757199 125.776931 \r\nL 81.977094 138.530011 \r\nL 84.416882 113.023852 \r\nL 85.636777 125.776931 \r\nL 86.856671 113.023852 \r\nL 87.466618 119.400392 \r\nL 88.076565 113.023852 \r\nL 88.686513 119.400392 \r\nL 91.126301 93.894233 \r\nL 91.736248 100.270773 \r\nL 92.346196 93.894233 \r\nL 93.56609 106.647313 \r\nL 97.83572 62.011535 \r\nL 98.445667 68.388075 \r\nL 100.275509 49.258456 \r\nL 100.885456 55.634996 \r\nL 102.10535 42.881917 \r\nL 105.155086 74.764615 \r\nL 105.765033 68.388075 \r\nL 106.984928 81.141154 \r\nL 107.594875 74.764615 \r\nL 108.204822 81.141154 \r\nL 109.424716 68.388075 \r\nL 110.034663 74.764615 \r\nL 110.644611 68.388075 \r\nL 111.254558 74.764615 \r\nL 112.474452 62.011535 \r\nL 113.084399 68.388075 \r\nL 113.694346 62.011535 \r\nL 114.304294 68.388075 \r\nL 114.914241 62.011535 \r\nL 116.134135 74.764615 \r\nL 116.744082 68.388075 \r\nL 117.354029 74.764615 \r\nL 117.963977 68.388075 \r\nL 121.013712 100.270773 \r\nL 122.843554 81.141154 \r\nL 125.283343 106.647313 \r\nL 126.503237 93.894233 \r\nL 127.113184 100.270773 \r\nL 129.552973 74.764615 \r\nL 130.16292 81.141154 \r\nL 130.772867 74.764615 \r\nL 131.382814 81.141154 \r\nL 131.992761 74.764615 \r\nL 133.212656 87.517694 \r\nL 133.822603 81.141154 \r\nL 135.652444 100.270773 \r\nL 136.872339 87.517694 \r\nL 138.70218 106.647313 \r\nL 139.312127 100.270773 \r\nL 141.141969 119.400392 \r\nL 149.681229 30.128838 \r\nL 150.291176 36.505377 \r\nL 152.121018 17.375758 \r\nL 153.340912 30.128838 \r\nL 154.560807 17.375758 \r\nL 155.170754 23.752298 \r\nL 155.780701 17.375758 \r\nL 156.390648 23.752298 \r\nL 157.000595 17.375758 \r\nL 159.440384 42.881917 \r\nL 160.660278 30.128838 \r\nL 163.100067 55.634996 \r\nL 164.319961 42.881917 \r\nL 166.149803 62.011535 \r\nL 167.979644 42.881917 \r\nL 168.589591 49.258456 \r\nL 169.199539 42.881917 \r\nL 169.809486 49.258456 \r\nL 171.02938 36.505377 \r\nL 172.249274 49.258456 \r\nL 174.079116 30.128838 \r\nL 175.29901 42.881917 \r\nL 175.908957 36.505377 \r\nL 179.56864 74.764615 \r\nL 180.178588 68.388075 \r\nL 181.398482 81.141154 \r\nL 182.008429 74.764615 \r\nL 183.228323 87.517694 \r\nL 185.058165 68.388075 \r\nL 192.987478 151.28309 \r\nL 193.597425 144.90655 \r\nL 194.81732 157.659629 \r\nL 195.427267 151.28309 \r\nL 196.647161 164.036169 \r\nL 197.257108 157.659629 \r\nL 199.696897 183.165788 \r\nL 200.306844 176.789248 \r\nL 200.916791 183.165788 \r\nL 201.526738 176.789248 \r\nL 202.136686 183.165788 \r\nL 203.35658 170.412708 \r\nL 204.576474 183.165788 \r\nL 205.796369 170.412708 \r\nL 206.406316 176.789248 \r\nL 207.016263 170.412708 \r\nL 210.675946 208.671946 \r\nL 211.285893 202.295406 \r\nL 212.505787 215.048486 \r\nL 213.115735 208.671946 \r\nL 213.725682 215.048486 \r\nL 217.995312 170.412708 \r\nL 219.825153 189.542327 \r\nL 221.045048 176.789248 \r\nL 223.484836 202.295406 \r\nL 224.094784 195.918867 \r\nL 224.704731 202.295406 \r\nL 225.314678 195.918867 \r\nL 225.924625 202.295406 \r\nL 227.144519 189.542327 \r\nL 227.754467 195.918867 \r\nL 228.974361 183.165788 \r\nL 229.584308 189.542327 \r\nL 230.194255 183.165788 \r\nL 230.804202 189.542327 \r\nL 231.41415 183.165788 \r\nL 232.024097 189.542327 \r\nL 233.243991 176.789248 \r\nL 235.68378 202.295406 \r\nL 236.903674 189.542327 \r\nL 237.513621 195.918867 \r\nL 239.95341 170.412708 \r\nL 240.563357 176.789248 \r\nL 243.613093 144.90655 \r\nL 246.052882 170.412708 \r\nL 247.272776 157.659629 \r\nL 248.49267 170.412708 \r\nL 249.102617 164.036169 \r\nL 249.712565 170.412708 \r\nL 250.932459 157.659629 \r\nL 252.152353 170.412708 \r\nL 253.982195 151.28309 \r\nL 254.592142 157.659629 \r\nL 255.812036 144.90655 \r\nL 257.031931 157.659629 \r\nL 257.641878 151.28309 \r\nL 258.251825 157.659629 \r\nL 260.691614 132.153471 \r\nL 261.911508 144.90655 \r\nL 263.131402 132.153471 \r\nL 263.741349 138.530011 \r\nL 267.401032 100.270773 \r\nL 269.230874 119.400392 \r\nL 272.890557 81.141154 \r\nL 273.500504 87.517694 \r\nL 274.110451 81.141154 \r\nL 275.330346 93.894233 \r\nL 275.940293 87.517694 \r\nL 276.55024 93.894233 \r\nL 277.160187 87.517694 \r\nL 277.770134 93.894233 \r\nL 278.990029 81.141154 \r\nL 279.599976 87.517694 \r\nL 282.039764 62.011535 \r\nL 282.649712 68.388075 \r\nL 283.869606 55.634996 \r\nL 285.0895 68.388075 \r\nL 285.699447 62.011535 \r\nL 287.529289 81.141154 \r\nL 288.749183 68.388075 \r\nL 289.35913 74.764615 \r\nL 290.579025 62.011535 \r\nL 291.188972 68.388075 \r\nL 293.018813 49.258456 \r\nL 293.628761 55.634996 \r\nL 295.458602 36.505377 \r\nL 296.068549 42.881917 \r\nL 296.678496 36.505377 \r\nL 297.288444 42.881917 \r\nL 297.898391 36.505377 \r\nL 298.508338 42.881917 \r\nL 299.118285 36.505377 \r\nL 302.168021 68.388075 \r\nL 303.387915 55.634996 \r\nL 304.60781 68.388075 \r\nL 305.217757 62.011535 \r\nL 307.047598 81.141154 \r\nL 308.267493 68.388075 \r\nL 308.87744 74.764615 \r\nL 310.097334 62.011535 \r\nL 311.927176 81.141154 \r\nL 313.14707 68.388075 \r\nL 314.366964 81.141154 \r\nL 315.586859 68.388075 \r\nL 316.806753 81.141154 \r\nL 317.4167 74.764615 \r\nL 318.026647 81.141154 \r\nL 319.246542 68.388075 \r\nL 319.856489 74.764615 \r\nL 320.466436 68.388075 \r\nL 321.68633 81.141154 \r\nL 322.906225 68.388075 \r\nL 323.516172 74.764615 \r\nL 324.736066 62.011535 \r\nL 325.346013 68.388075 \r\nL 325.955961 62.011535 \r\nL 326.565908 68.388075 \r\nL 327.175855 62.011535 \r\nL 327.785802 68.388075 \r\nL 329.005696 55.634996 \r\nL 329.615644 62.011535 \r\nL 330.225591 55.634996 \r\nL 330.835538 62.011535 \r\nL 331.445485 55.634996 \r\nL 333.275327 74.764615 \r\nL 335.105168 55.634996 \r\nL 336.93501 74.764615 \r\nL 337.544957 68.388075 \r\nL 338.154904 74.764615 \r\nL 339.984745 55.634996 \r\nL 340.594693 62.011535 \r\nL 342.424534 42.881917 \r\nL 343.034481 49.258456 \r\nL 343.644428 42.881917 \r\nL 346.084217 68.388075 \r\nL 346.694164 62.011535 \r\nL 347.304111 68.388075 \r\nL 347.914059 62.011535 \r\nL 348.524006 68.388075 \r\nL 348.524006 68.388075 \r\n\" style=\"fill:none;stroke:#1f77b4;stroke-linecap:square;stroke-width:1.5;\"/>\r\n   </g>\r\n   <g id=\"patch_3\">\r\n    <path d=\"M 28.942188 224.932122 \r\nL 28.942188 7.492122 \r\n\" style=\"fill:none;stroke:#000000;stroke-linecap:square;stroke-linejoin:miter;stroke-width:0.8;\"/>\r\n   </g>\r\n   <g id=\"patch_4\">\r\n    <path d=\"M 363.742188 224.932122 \r\nL 363.742188 7.492122 \r\n\" style=\"fill:none;stroke:#000000;stroke-linecap:square;stroke-linejoin:miter;stroke-width:0.8;\"/>\r\n   </g>\r\n   <g id=\"patch_5\">\r\n    <path d=\"M 28.942188 224.932122 \r\nL 363.742188 224.932122 \r\n\" style=\"fill:none;stroke:#000000;stroke-linecap:square;stroke-linejoin:miter;stroke-width:0.8;\"/>\r\n   </g>\r\n   <g id=\"patch_6\">\r\n    <path d=\"M 28.942188 7.492122 \r\nL 363.742188 7.492122 \r\n\" style=\"fill:none;stroke:#000000;stroke-linecap:square;stroke-linejoin:miter;stroke-width:0.8;\"/>\r\n   </g>\r\n  </g>\r\n </g>\r\n <defs>\r\n  <clipPath id=\"p2ac31dbb96\">\r\n   <rect height=\"217.44\" width=\"334.8\" x=\"28.942188\" y=\"7.492122\"/>\r\n  </clipPath>\r\n </defs>\r\n</svg>\r\n",
      "image/png": "[encoded data removed]"
     },
     "metadata": {
      "needs_background": "light"
     }
    }
   ],
   "source": [
    "plt.plot(walk[:500])"
   ]
  },
  {
   "cell_type": "code",
   "execution_count": 296,
   "metadata": {},
   "outputs": [
    {
     "output_type": "execute_result",
     "data": {
      "text/plain": "-7"
     },
     "metadata": {},
     "execution_count": 296
    }
   ],
   "source": [
    "walk.min()"
   ]
  },
  {
   "cell_type": "code",
   "execution_count": 297,
   "metadata": {},
   "outputs": [
    {
     "output_type": "execute_result",
     "data": {
      "text/plain": "45"
     },
     "metadata": {},
     "execution_count": 297
    }
   ],
   "source": [
    "walk.max()"
   ]
  },
  {
   "cell_type": "code",
   "execution_count": 300,
   "metadata": {},
   "outputs": [
    {
     "output_type": "execute_result",
     "data": {
      "text/plain": "75"
     },
     "metadata": {},
     "execution_count": 300
    }
   ],
   "source": [
    "(np.abs(walk) >= 10).argmax()"
   ]
  },
  {
   "cell_type": "markdown",
   "metadata": {},
   "source": [
    "#### Simulating many random walks at once"
   ]
  },
  {
   "cell_type": "code",
   "execution_count": 301,
   "metadata": {},
   "outputs": [],
   "source": [
    "nwalks = 5000"
   ]
  },
  {
   "cell_type": "code",
   "execution_count": 302,
   "metadata": {},
   "outputs": [],
   "source": [
    "nsteps = 1000"
   ]
  },
  {
   "cell_type": "code",
   "execution_count": 303,
   "metadata": {},
   "outputs": [],
   "source": [
    "draws = np.random.randint(0, 2, size = (nwalks, nsteps))"
   ]
  },
  {
   "cell_type": "code",
   "execution_count": 304,
   "metadata": {},
   "outputs": [],
   "source": [
    "stpes = np.where(draws > 0 , 1, -1)"
   ]
  },
  {
   "cell_type": "code",
   "execution_count": 305,
   "metadata": {},
   "outputs": [],
   "source": [
    "walks = stpes.cumsum(1)"
   ]
  },
  {
   "cell_type": "code",
   "execution_count": 306,
   "metadata": {},
   "outputs": [
    {
     "output_type": "execute_result",
     "data": {
      "text/plain": "array([[  1,   0,  -1, ...,  44,  45,  46],\n       [  1,   0,   1, ..., -48, -49, -50],\n       [  1,   2,   1, ...,  16,  15,  16],\n       ...,\n       [  1,   2,   1, ...,  12,  11,  10],\n       [  1,   2,   1, ...,  30,  29,  30],\n       [  1,   2,   3, ...,   2,   3,   2]], dtype=int32)"
     },
     "metadata": {},
     "execution_count": 306
    }
   ],
   "source": [
    "walks"
   ]
  },
  {
   "cell_type": "code",
   "execution_count": 307,
   "metadata": {},
   "outputs": [
    {
     "output_type": "execute_result",
     "data": {
      "text/plain": "114"
     },
     "metadata": {},
     "execution_count": 307
    }
   ],
   "source": [
    "walks.max()"
   ]
  },
  {
   "cell_type": "code",
   "execution_count": 308,
   "metadata": {},
   "outputs": [
    {
     "output_type": "execute_result",
     "data": {
      "text/plain": "-131"
     },
     "metadata": {},
     "execution_count": 308
    }
   ],
   "source": [
    "walks.min()"
   ]
  },
  {
   "cell_type": "code",
   "execution_count": 309,
   "metadata": {},
   "outputs": [],
   "source": [
    "hits30 = (np.abs(walks) >= 30).any(1)"
   ]
  },
  {
   "cell_type": "code",
   "execution_count": 310,
   "metadata": {},
   "outputs": [
    {
     "output_type": "execute_result",
     "data": {
      "text/plain": "array([ True,  True,  True, ..., False,  True, False])"
     },
     "metadata": {},
     "execution_count": 310
    }
   ],
   "source": [
    "hits30"
   ]
  },
  {
   "cell_type": "code",
   "execution_count": 312,
   "metadata": {},
   "outputs": [
    {
     "output_type": "execute_result",
     "data": {
      "text/plain": "3398"
     },
     "metadata": {},
     "execution_count": 312
    }
   ],
   "source": [
    "hits30.sum()"
   ]
  },
  {
   "cell_type": "code",
   "execution_count": 313,
   "metadata": {},
   "outputs": [],
   "source": [
    "crossing_times = (np.abs(walks[hits30]) >= 30).argmax(1)"
   ]
  },
  {
   "cell_type": "code",
   "execution_count": 314,
   "metadata": {},
   "outputs": [
    {
     "output_type": "execute_result",
     "data": {
      "text/plain": "505.27486756915835"
     },
     "metadata": {},
     "execution_count": 314
    }
   ],
   "source": [
    "crossing_times.mean()"
   ]
  },
  {
   "cell_type": "code",
   "execution_count": 24,
   "metadata": {},
   "outputs": [
    {
     "output_type": "execute_result",
     "data": {
      "text/plain": "array([0., 0., 0., 0., 0., 0., 0., 0., 0., 0.])"
     },
     "metadata": {},
     "execution_count": 24
    }
   ],
   "source": [
    "np.zeros(10)"
   ]
  }
 ]
}