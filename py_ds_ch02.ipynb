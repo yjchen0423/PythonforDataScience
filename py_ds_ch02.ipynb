{
 "metadata": {
  "language_info": {
   "codemirror_mode": {
    "name": "ipython",
    "version": 3
   },
   "file_extension": ".py",
   "mimetype": "text/x-python",
   "name": "python",
   "nbconvert_exporter": "python",
   "pygments_lexer": "ipython3",
   "version": "3.8.5"
  },
  "orig_nbformat": 2,
  "kernelspec": {
   "name": "python385jvsc74a57bd028c247b499e448f71b41b854b0b42f60e2c2e62fc2d9cb50e66683dcbb7ca055",
   "display_name": "Python 3.8.5 64-bit ('myenv': conda)"
  }
 },
 "nbformat": 4,
 "nbformat_minor": 2,
 "cells": [
  {
   "cell_type": "code",
   "execution_count": 2,
   "metadata": {},
   "outputs": [
    {
     "output_type": "stream",
     "name": "stdout",
     "text": [
      "Help on built-in function len in module builtins:\n\nlen(obj, /)\n    Return the number of items in a container.\n\n"
     ]
    }
   ],
   "source": [
    "help(len)"
   ]
  },
  {
   "cell_type": "code",
   "execution_count": 3,
   "metadata": {},
   "outputs": [
    {
     "output_type": "stream",
     "text": [
      "\u001b[1;31mSignature:\u001b[0m \u001b[0mlen\u001b[0m\u001b[1;33m(\u001b[0m\u001b[0mobj\u001b[0m\u001b[1;33m,\u001b[0m \u001b[1;33m/\u001b[0m\u001b[1;33m)\u001b[0m\u001b[1;33m\u001b[0m\u001b[1;33m\u001b[0m\u001b[0m\n",
      "\u001b[1;31mDocstring:\u001b[0m Return the number of items in a container.\n",
      "\u001b[1;31mType:\u001b[0m      builtin_function_or_method\n"
     ],
     "name": "stdout"
    }
   ],
   "source": [
    "len?"
   ]
  },
  {
   "cell_type": "code",
   "execution_count": 4,
   "metadata": {},
   "outputs": [],
   "source": [
    "L = [1, 2, 3]"
   ]
  },
  {
   "cell_type": "code",
   "execution_count": 5,
   "metadata": {},
   "outputs": [
    {
     "output_type": "stream",
     "text": [
      "\u001b[1;31mType:\u001b[0m        list\n",
      "\u001b[1;31mString form:\u001b[0m [1, 2, 3]\n",
      "\u001b[1;31mLength:\u001b[0m      3\n",
      "\u001b[1;31mDocstring:\u001b[0m  \n",
      "Built-in mutable sequence.\n",
      "\n",
      "If no argument is given, the constructor creates a new empty list.\n",
      "The argument must be an iterable if specified.\n"
     ],
     "name": "stdout"
    }
   ],
   "source": [
    "L?"
   ]
  },
  {
   "cell_type": "code",
   "execution_count": 6,
   "metadata": {},
   "outputs": [
    {
     "output_type": "stream",
     "text": [
      "\u001b[1;31mSignature:\u001b[0m \u001b[0mL\u001b[0m\u001b[1;33m.\u001b[0m\u001b[0minsert\u001b[0m\u001b[1;33m(\u001b[0m\u001b[0mindex\u001b[0m\u001b[1;33m,\u001b[0m \u001b[0mobject\u001b[0m\u001b[1;33m,\u001b[0m \u001b[1;33m/\u001b[0m\u001b[1;33m)\u001b[0m\u001b[1;33m\u001b[0m\u001b[1;33m\u001b[0m\u001b[0m\n",
      "\u001b[1;31mDocstring:\u001b[0m Insert object before index.\n",
      "\u001b[1;31mType:\u001b[0m      builtin_function_or_method\n"
     ],
     "name": "stdout"
    }
   ],
   "source": [
    "L.insert?"
   ]
  },
  {
   "cell_type": "code",
   "execution_count": 7,
   "metadata": {},
   "outputs": [],
   "source": [
    "def square(a):\n",
    "    return a ** 2"
   ]
  },
  {
   "cell_type": "code",
   "execution_count": 8,
   "metadata": {},
   "outputs": [
    {
     "output_type": "execute_result",
     "data": {
      "text/plain": [
       "16"
      ]
     },
     "metadata": {},
     "execution_count": 8
    }
   ],
   "source": [
    "square(4)"
   ]
  },
  {
   "cell_type": "code",
   "execution_count": 9,
   "metadata": {},
   "outputs": [
    {
     "output_type": "stream",
     "text": [
      "\u001b[1;31mSignature:\u001b[0m \u001b[0msquare\u001b[0m\u001b[1;33m(\u001b[0m\u001b[0ma\u001b[0m\u001b[1;33m)\u001b[0m\u001b[1;33m\u001b[0m\u001b[1;33m\u001b[0m\u001b[0m\n",
      "\u001b[1;31mDocstring:\u001b[0m <no docstring>\n",
      "\u001b[1;31mFile:\u001b[0m      c:\\workspace\\pythonfordatascience\\<ipython-input-7-7bfc0376b49e>\n",
      "\u001b[1;31mType:\u001b[0m      function\n"
     ],
     "name": "stdout"
    }
   ],
   "source": [
    "square?"
   ]
  },
  {
   "cell_type": "code",
   "execution_count": 10,
   "metadata": {},
   "outputs": [
    {
     "output_type": "stream",
     "text": [
      "\u001b[1;31mSignature:\u001b[0m \u001b[0msquare\u001b[0m\u001b[1;33m(\u001b[0m\u001b[0ma\u001b[0m\u001b[1;33m)\u001b[0m\u001b[1;33m\u001b[0m\u001b[1;33m\u001b[0m\u001b[0m\n",
      "\u001b[1;31mDocstring:\u001b[0m <no docstring>\n",
      "\u001b[1;31mSource:\u001b[0m   \n",
      "\u001b[1;32mdef\u001b[0m \u001b[0msquare\u001b[0m\u001b[1;33m(\u001b[0m\u001b[0ma\u001b[0m\u001b[1;33m)\u001b[0m\u001b[1;33m:\u001b[0m\u001b[1;33m\n",
      "\u001b[0m    \u001b[1;32mreturn\u001b[0m \u001b[0ma\u001b[0m \u001b[1;33m**\u001b[0m \u001b[1;36m2\u001b[0m\u001b[1;33m\u001b[0m\u001b[1;33m\u001b[0m\u001b[0m\n",
      "\u001b[1;31mFile:\u001b[0m      c:\\workspace\\pythonfordatascience\\<ipython-input-7-7bfc0376b49e>\n",
      "\u001b[1;31mType:\u001b[0m      function\n"
     ],
     "name": "stdout"
    }
   ],
   "source": [
    "square??"
   ]
  },
  {
   "source": [
    "# Magic Command#"
   ],
   "cell_type": "markdown",
   "metadata": {}
  },
  {
   "cell_type": "code",
   "execution_count": 19,
   "metadata": {},
   "outputs": [
    {
     "output_type": "execute_result",
     "data": {
      "text/plain": [
       "'c:\\\\Workspace\\\\PythonforDataScience'"
      ]
     },
     "metadata": {},
     "execution_count": 19
    }
   ],
   "source": [
    "%pwd\n"
   ]
  },
  {
   "source": [
    "%lsmagic"
   ],
   "cell_type": "code",
   "metadata": {},
   "execution_count": 20,
   "outputs": [
    {
     "output_type": "execute_result",
     "data": {
      "text/plain": [
       "Available line magics:\n",
       "%alias  %alias_magic  %autoawait  %autocall  %automagic  %autosave  %bookmark  %cd  %clear  %cls  %colors  %conda  %config  %connect_info  %copy  %ddir  %debug  %dhist  %dirs  %doctest_mode  %echo  %ed  %edit  %env  %gui  %hist  %history  %killbgscripts  %ldir  %less  %load  %load_ext  %loadpy  %logoff  %logon  %logstart  %logstate  %logstop  %ls  %lsmagic  %macro  %magic  %matplotlib  %mkdir  %more  %notebook  %page  %pastebin  %pdb  %pdef  %pdoc  %pfile  %pinfo  %pinfo2  %pip  %popd  %pprint  %precision  %prun  %psearch  %psource  %pushd  %pwd  %pycat  %pylab  %qtconsole  %quickref  %recall  %rehashx  %reload_ext  %ren  %rep  %rerun  %reset  %reset_selective  %rmdir  %run  %save  %sc  %set_env  %store  %sx  %system  %tb  %time  %timeit  %unalias  %unload_ext  %who  %who_ls  %whos  %xdel  %xmode\n",
       "\n",
       "Available cell magics:\n",
       "%%!  %%HTML  %%SVG  %%bash  %%capture  %%cmd  %%debug  %%file  %%html  %%javascript  %%js  %%latex  %%markdown  %%perl  %%prun  %%pypy  %%python  %%python2  %%python3  %%ruby  %%script  %%sh  %%svg  %%sx  %%system  %%time  %%timeit  %%writefile\n",
       "\n",
       "Automagic is ON, % prefix IS NOT needed for line magics."
      ],
      "application/json": {
       "line": {
        "automagic": "AutoMagics",
        "autocall": "AutoMagics",
        "alias_magic": "BasicMagics",
        "lsmagic": "BasicMagics",
        "magic": "BasicMagics",
        "page": "BasicMagics",
        "pprint": "BasicMagics",
        "colors": "BasicMagics",
        "xmode": "BasicMagics",
        "quickref": "BasicMagics",
        "doctest_mode": "BasicMagics",
        "gui": "BasicMagics",
        "precision": "BasicMagics",
        "notebook": "BasicMagics",
        "save": "CodeMagics",
        "pastebin": "CodeMagics",
        "loadpy": "CodeMagics",
        "load": "CodeMagics",
        "edit": "KernelMagics",
        "config": "ConfigMagics",
        "prun": "ExecutionMagics",
        "pdb": "ExecutionMagics",
        "debug": "ExecutionMagics",
        "tb": "ExecutionMagics",
        "run": "ExecutionMagics",
        "timeit": "ExecutionMagics",
        "time": "ExecutionMagics",
        "macro": "ExecutionMagics",
        "load_ext": "ExtensionMagics",
        "unload_ext": "ExtensionMagics",
        "reload_ext": "ExtensionMagics",
        "history": "HistoryMagics",
        "recall": "HistoryMagics",
        "rerun": "HistoryMagics",
        "logstart": "LoggingMagics",
        "logstop": "LoggingMagics",
        "logoff": "LoggingMagics",
        "logon": "LoggingMagics",
        "logstate": "LoggingMagics",
        "pinfo": "NamespaceMagics",
        "pinfo2": "NamespaceMagics",
        "pdef": "NamespaceMagics",
        "pdoc": "NamespaceMagics",
        "psource": "NamespaceMagics",
        "pfile": "NamespaceMagics",
        "psearch": "NamespaceMagics",
        "who_ls": "NamespaceMagics",
        "who": "NamespaceMagics",
        "whos": "NamespaceMagics",
        "reset": "NamespaceMagics",
        "reset_selective": "NamespaceMagics",
        "xdel": "NamespaceMagics",
        "alias": "OSMagics",
        "unalias": "OSMagics",
        "rehashx": "OSMagics",
        "pwd": "OSMagics",
        "cd": "OSMagics",
        "env": "OSMagics",
        "set_env": "OSMagics",
        "pushd": "OSMagics",
        "popd": "OSMagics",
        "dirs": "OSMagics",
        "dhist": "OSMagics",
        "sc": "OSMagics",
        "sx": "OSMagics",
        "system": "OSMagics",
        "bookmark": "OSMagics",
        "pycat": "OSMagics",
        "pip": "PackagingMagics",
        "conda": "PackagingMagics",
        "matplotlib": "PylabMagics",
        "pylab": "PylabMagics",
        "killbgscripts": "ScriptMagics",
        "autoawait": "AsyncMagics",
        "ed": "Other",
        "hist": "Other",
        "rep": "Other",
        "clear": "KernelMagics",
        "cls": "KernelMagics",
        "less": "KernelMagics",
        "more": "KernelMagics",
        "connect_info": "KernelMagics",
        "qtconsole": "KernelMagics",
        "autosave": "KernelMagics",
        "ls": "Other",
        "ddir": "Other",
        "ldir": "Other",
        "mkdir": "Other",
        "rmdir": "Other",
        "echo": "Other",
        "ren": "Other",
        "copy": "Other",
        "store": "StoreMagics"
       },
       "cell": {
        "js": "DisplayMagics",
        "javascript": "DisplayMagics",
        "latex": "DisplayMagics",
        "svg": "DisplayMagics",
        "html": "DisplayMagics",
        "markdown": "DisplayMagics",
        "prun": "ExecutionMagics",
        "debug": "ExecutionMagics",
        "timeit": "ExecutionMagics",
        "time": "ExecutionMagics",
        "capture": "ExecutionMagics",
        "sx": "OSMagics",
        "system": "OSMagics",
        "!": "OSMagics",
        "writefile": "OSMagics",
        "script": "ScriptMagics",
        "sh": "Other",
        "bash": "Other",
        "perl": "Other",
        "ruby": "Other",
        "python": "Other",
        "python2": "Other",
        "python3": "Other",
        "pypy": "Other",
        "cmd": "Other",
        "SVG": "Other",
        "HTML": "Other",
        "file": "Other"
       }
      }
     },
     "metadata": {},
     "execution_count": 20
    }
   ]
  },
  {
   "cell_type": "code",
   "execution_count": 21,
   "metadata": {},
   "outputs": [
    {
     "output_type": "stream",
     "text": [
      ":\n",
      "    \n",
      "    1) If an input line begins with '!!', then %sx is automatically\n",
      "    invoked.  That is, while::\n",
      "    \n",
      "      !ls\n",
      "    \n",
      "    causes ipython to simply issue system('ls'), typing::\n",
      "    \n",
      "      !!ls\n",
      "    \n",
      "    is a shorthand equivalent to::\n",
      "    \n",
      "      %sx ls\n",
      "    \n",
      "    2) %sx differs from %sc in that %sx automatically splits into a list,\n",
      "    like '%sc -l'.  The reason for this is to make it as easy as possible\n",
      "    to process line-oriented shell output via further python commands.\n",
      "    %sc is meant to provide much finer control, but requires more\n",
      "    typing.\n",
      "    \n",
      "    3) Just like %sc -l, this is a list with special attributes:\n",
      "    ::\n",
      "    \n",
      "      .l (or .list) : value as list.\n",
      "      .n (or .nlstr): value as newline-separated string.\n",
      "      .s (or .spstr): value as whitespace-separated string.\n",
      "    \n",
      "    This is very useful when trying to use such lists as arguments to\n",
      "    system commands.\n",
      "%%HTML:\n",
      "    Alias for `%%html`.\n",
      "%%SVG:\n",
      "    Alias for `%%svg`.\n",
      "%%bash:\n",
      "    %%bash script magic\n",
      "    \n",
      "    Run cells with bash in a subprocess.\n",
      "    \n",
      "    This is a shortcut for `%%script bash`\n",
      "%%capture:\n",
      "    ::\n",
      "    \n",
      "      %capture [--no-stderr] [--no-stdout] [--no-display] [output]\n",
      "    \n",
      "    run the cell, capturing stdout, stderr, and IPython's rich display() calls.\n",
      "    \n",
      "    positional arguments:\n",
      "      output        The name of the variable in which to store output. This is a\n",
      "                    utils.io.CapturedIO object with stdout/err attributes for the\n",
      "                    text of the captured output. CapturedOutput also has a show()\n",
      "                    method for displaying the output, and __call__ as well, so you\n",
      "                    can use that to quickly display the output. If unspecified,\n",
      "                    captured output is discarded.\n",
      "    \n",
      "    optional arguments:\n",
      "      --no-stderr   Don't capture stderr.\n",
      "      --no-stdout   Don't capture stdout.\n",
      "      --no-display  Don't capture IPython's rich display.\n",
      "%%cmd:\n",
      "    %%cmd script magic\n",
      "    \n",
      "    Run cells with cmd in a subprocess.\n",
      "    \n",
      "    This is a shortcut for `%%script cmd`\n",
      "%%debug:\n",
      "    ::\n",
      "    \n",
      "      %debug [--breakpoint FILE:LINE] [statement [statement ...]]\n",
      "    \n",
      "    Activate the interactive debugger.\n",
      "    \n",
      "    This magic command support two ways of activating debugger.\n",
      "    One is to activate debugger before executing code.  This way, you\n",
      "    can set a break point, to step through the code from the point.\n",
      "    You can use this mode by giving statements to execute and optionally\n",
      "    a breakpoint.\n",
      "    \n",
      "    The other one is to activate debugger in post-mortem mode.  You can\n",
      "    activate this mode simply running %debug without any argument.\n",
      "    If an exception has just occurred, this lets you inspect its stack\n",
      "    frames interactively.  Note that this will always work only on the last\n",
      "    traceback that occurred, so you must call this quickly after an\n",
      "    exception that you wish to inspect has fired, because if another one\n",
      "    occurs, it clobbers the previous one.\n",
      "    \n",
      "    If you want IPython to automatically do this on every exception, see\n",
      "    the %pdb magic for more details.\n",
      "    \n",
      "    .. versionchanged:: 7.3\n",
      "        When running code, user variables are no longer expanded,\n",
      "        the magic line is always left unmodified.\n",
      "    \n",
      "    positional arguments:\n",
      "      statement             Code to run in debugger. You can omit this in cell\n",
      "                            magic mode.\n",
      "    \n",
      "    optional arguments:\n",
      "      --breakpoint <FILE:LINE>, -b <FILE:LINE>\n",
      "                            Set break point at LINE in FILE.\n",
      "%%file:\n",
      "    Alias for `%%writefile`.\n",
      "%%html:\n",
      "    ::\n",
      "    \n",
      "      %html [--isolated]\n",
      "    \n",
      "    Render the cell as a block of HTML\n",
      "    \n",
      "    optional arguments:\n",
      "      --isolated  Annotate the cell as 'isolated'. Isolated cells are rendered\n",
      "                  inside their own <iframe> tag\n",
      "%%javascript:\n",
      "    Run the cell block of Javascript code\n",
      "%%js:\n",
      "    Run the cell block of Javascript code\n",
      "    \n",
      "    Alias of `%%javascript`\n",
      "%%latex:\n",
      "    Render the cell as a block of latex\n",
      "    \n",
      "    The subset of latex which is support depends on the implementation in\n",
      "    the client.  In the Jupyter Notebook, this magic only renders the subset\n",
      "    of latex defined by MathJax\n",
      "    [here](https://docs.mathjax.org/en/v2.5-latest/tex.html).\n",
      "%%markdown:\n",
      "    Render the cell as Markdown text block\n",
      "%%perl:\n",
      "    %%perl script magic\n",
      "    \n",
      "    Run cells with perl in a subprocess.\n",
      "    \n",
      "    This is a shortcut for `%%script perl`\n",
      "%%prun:\n",
      "    Run a statement through the python code profiler.\n",
      "    \n",
      "    Usage, in line mode:\n",
      "      %prun [options] statement\n",
      "    \n",
      "    Usage, in cell mode:\n",
      "      %%prun [options] [statement]\n",
      "      code...\n",
      "      code...\n",
      "    \n",
      "    In cell mode, the additional code lines are appended to the (possibly\n",
      "    empty) statement in the first line.  Cell mode allows you to easily\n",
      "    profile multiline blocks without having to put them in a separate\n",
      "    function.\n",
      "    \n",
      "    The given statement (which doesn't require quote marks) is run via the\n",
      "    python profiler in a manner similar to the profile.run() function.\n",
      "    Namespaces are internally managed to work correctly; profile.run\n",
      "    cannot be used in IPython because it makes certain assumptions about\n",
      "    namespaces which do not hold under IPython.\n",
      "    \n",
      "    Options:\n",
      "    \n",
      "    -l <limit>\n",
      "      you can place restrictions on what or how much of the\n",
      "      profile gets printed. The limit value can be:\n",
      "    \n",
      "         * A string: only information for function names containing this string\n",
      "           is printed.\n",
      "    \n",
      "         * An integer: only these many lines are printed.\n",
      "    \n",
      "         * A float (between 0 and 1): this fraction of the report is printed\n",
      "           (for example, use a limit of 0.4 to see the topmost 40% only).\n",
      "    \n",
      "      You can combine several limits with repeated use of the option. For\n",
      "      example, ``-l __init__ -l 5`` will print only the topmost 5 lines of\n",
      "      information about class constructors.\n",
      "    \n",
      "    -r\n",
      "      return the pstats.Stats object generated by the profiling. This\n",
      "      object has all the information about the profile in it, and you can\n",
      "      later use it for further analysis or in other functions.\n",
      "    \n",
      "    -s <key>\n",
      "      sort profile by given key. You can provide more than one key\n",
      "      by using the option several times: '-s key1 -s key2 -s key3...'. The\n",
      "      default sorting key is 'time'.\n",
      "    \n",
      "      The following is copied verbatim from the profile documentation\n",
      "      referenced below:\n",
      "    \n",
      "      When more than one key is provided, additional keys are used as\n",
      "      secondary criteria when the there is equality in all keys selected\n",
      "      before them.\n",
      "    \n",
      "      Abbreviations can be used for any key names, as long as the\n",
      "      abbreviation is unambiguous.  The following are the keys currently\n",
      "      defined:\n",
      "    \n",
      "      ============  =====================\n",
      "      Valid Arg     Meaning\n",
      "      ============  =====================\n",
      "      \"calls\"       call count\n",
      "      \"cumulative\"  cumulative time\n",
      "      \"file\"        file name\n",
      "      \"module\"      file name\n",
      "      \"pcalls\"      primitive call count\n",
      "      \"line\"        line number\n",
      "      \"name\"        function name\n",
      "      \"nfl\"         name/file/line\n",
      "      \"stdname\"     standard name\n",
      "      \"time\"        internal time\n",
      "      ============  =====================\n",
      "    \n",
      "      Note that all sorts on statistics are in descending order (placing\n",
      "      most time consuming items first), where as name, file, and line number\n",
      "      searches are in ascending order (i.e., alphabetical). The subtle\n",
      "      distinction between \"nfl\" and \"stdname\" is that the standard name is a\n",
      "      sort of the name as printed, which means that the embedded line\n",
      "      numbers get compared in an odd way.  For example, lines 3, 20, and 40\n",
      "      would (if the file names were the same) appear in the string order\n",
      "      \"20\" \"3\" and \"40\".  In contrast, \"nfl\" does a numeric compare of the\n",
      "      line numbers.  In fact, sort_stats(\"nfl\") is the same as\n",
      "      sort_stats(\"name\", \"file\", \"line\").\n",
      "    \n",
      "    -T <filename>\n",
      "      save profile results as shown on screen to a text\n",
      "      file. The profile is still shown on screen.\n",
      "    \n",
      "    -D <filename>\n",
      "      save (via dump_stats) profile statistics to given\n",
      "      filename. This data is in a format understood by the pstats module, and\n",
      "      is generated by a call to the dump_stats() method of profile\n",
      "      objects. The profile is still shown on screen.\n",
      "    \n",
      "    -q\n",
      "      suppress output to the pager.  Best used with -T and/or -D above.\n",
      "    \n",
      "    If you want to run complete programs under the profiler's control, use\n",
      "    ``%run -p [prof_opts] filename.py [args to program]`` where prof_opts\n",
      "    contains profiler specific options as described here.\n",
      "    \n",
      "    You can read the complete documentation for the profile module with::\n",
      "    \n",
      "      In [1]: import profile; profile.help()\n",
      "    \n",
      "    .. versionchanged:: 7.3\n",
      "        User variables are no longer expanded,\n",
      "        the magic line is always left unmodified.\n",
      "%%pypy:\n",
      "    %%pypy script magic\n",
      "    \n",
      "    Run cells with pypy in a subprocess.\n",
      "    \n",
      "    This is a shortcut for `%%script pypy`\n",
      "%%python:\n",
      "    %%python script magic\n",
      "    \n",
      "    Run cells with python in a subprocess.\n",
      "    \n",
      "    This is a shortcut for `%%script python`\n",
      "%%python2:\n",
      "    %%python2 script magic\n",
      "    \n",
      "    Run cells with python2 in a subprocess.\n",
      "    \n",
      "    This is a shortcut for `%%script python2`\n",
      "%%python3:\n",
      "    %%python3 script magic\n",
      "    \n",
      "    Run cells with python3 in a subprocess.\n",
      "    \n",
      "    This is a shortcut for `%%script python3`\n",
      "%%ruby:\n",
      "    %%ruby script magic\n",
      "    \n",
      "    Run cells with ruby in a subprocess.\n",
      "    \n",
      "    This is a shortcut for `%%script ruby`\n",
      "%%script:\n",
      "    ::\n",
      "    \n",
      "      %shebang [--no-raise-error] [--proc PROC] [--bg] [--err ERR] [--out OUT]\n",
      "    \n",
      "    Run a cell via a shell command\n",
      "    \n",
      "    The `%%script` line is like the #! line of script,\n",
      "    specifying a program (bash, perl, ruby, etc.) with which to run.\n",
      "    \n",
      "    The rest of the cell is run by that program.\n",
      "    \n",
      "    Examples\n",
      "    --------\n",
      "    ::\n",
      "    \n",
      "        In [1]: %%script bash\n",
      "           ...: for i in 1 2 3; do\n",
      "           ...:   echo $i\n",
      "           ...: done\n",
      "        1\n",
      "        2\n",
      "        3\n",
      "    \n",
      "    optional arguments:\n",
      "      --no-raise-error  Whether you should raise an error message in addition to a\n",
      "                        stream on stderr if you get a nonzero exit code.\n",
      "      --proc PROC       The variable in which to store Popen instance. This is\n",
      "                        used only when --bg option is given.\n",
      "      --bg              Whether to run the script in the background. If given, the\n",
      "                        only way to see the output of the command is with\n",
      "                        --out/err.\n",
      "      --err ERR         The variable in which to store stderr from the script. If\n",
      "                        the script is backgrounded, this will be the stderr\n",
      "                        *pipe*, instead of the stderr text itself and will not be\n",
      "                        autoclosed.\n",
      "      --out OUT         The variable in which to store stdout from the script. If\n",
      "                        the script is backgrounded, this will be the stdout\n",
      "                        *pipe*, instead of the stderr text itself and will not be\n",
      "                        auto closed.\n",
      "%%sh:\n",
      "    %%sh script magic\n",
      "    \n",
      "    Run cells with sh in a subprocess.\n",
      "    \n",
      "    This is a shortcut for `%%script sh`\n",
      "%%svg:\n",
      "    Render the cell as an SVG literal\n",
      "%%sx:\n",
      "    Shell execute - run shell command and capture output (!! is short-hand).\n",
      "    \n",
      "    %sx command\n",
      "    \n",
      "    IPython will run the given command using commands.getoutput(), and\n",
      "    return the result formatted as a list (split on '\\n').  Since the\n",
      "    output is _returned_, it will be stored in ipython's regular output\n",
      "    cache Out[N] and in the '_N' automatic variables.\n",
      "    \n",
      "    Notes:\n",
      "    \n",
      "    1) If an input line begins with '!!', then %sx is automatically\n",
      "    invoked.  That is, while::\n",
      "    \n",
      "      !ls\n",
      "    \n",
      "    causes ipython to simply issue system('ls'), typing::\n",
      "    \n",
      "      !!ls\n",
      "    \n",
      "    is a shorthand equivalent to::\n",
      "    \n",
      "      %sx ls\n",
      "    \n",
      "    2) %sx differs from %sc in that %sx automatically splits into a list,\n",
      "    like '%sc -l'.  The reason for this is to make it as easy as possible\n",
      "    to process line-oriented shell output via further python commands.\n",
      "    %sc is meant to provide much finer control, but requires more\n",
      "    typing.\n",
      "    \n",
      "    3) Just like %sc -l, this is a list with special attributes:\n",
      "    ::\n",
      "    \n",
      "      .l (or .list) : value as list.\n",
      "      .n (or .nlstr): value as newline-separated string.\n",
      "      .s (or .spstr): value as whitespace-separated string.\n",
      "    \n",
      "    This is very useful when trying to use such lists as arguments to\n",
      "    system commands.\n",
      "%%system:\n",
      "    Shell execute - run shell command and capture output (!! is short-hand).\n",
      "    \n",
      "    %sx command\n",
      "    \n",
      "    IPython will run the given command using commands.getoutput(), and\n",
      "    return the result formatted as a list (split on '\\n').  Since the\n",
      "    output is _returned_, it will be stored in ipython's regular output\n",
      "    cache Out[N] and in the '_N' automatic variables.\n",
      "    \n",
      "    Notes:\n",
      "    \n",
      "    1) If an input line begins with '!!', then %sx is automatically\n",
      "    invoked.  That is, while::\n",
      "    \n",
      "      !ls\n",
      "    \n",
      "    causes ipython to simply issue system('ls'), typing::\n",
      "    \n",
      "      !!ls\n",
      "    \n",
      "    is a shorthand equivalent to::\n",
      "    \n",
      "      %sx ls\n",
      "    \n",
      "    2) %sx differs from %sc in that %sx automatically splits into a list,\n",
      "    like '%sc -l'.  The reason for this is to make it as easy as possible\n",
      "    to process line-oriented shell output via further python commands.\n",
      "    %sc is meant to provide much finer control, but requires more\n",
      "    typing.\n",
      "    \n",
      "    3) Just like %sc -l, this is a list with special attributes:\n",
      "    ::\n",
      "    \n",
      "      .l (or .list) : value as list.\n",
      "      .n (or .nlstr): value as newline-separated string.\n",
      "      .s (or .spstr): value as whitespace-separated string.\n",
      "    \n",
      "    This is very useful when trying to use such lists as arguments to\n",
      "    system commands.\n",
      "%%time:\n",
      "    Time execution of a Python statement or expression.\n",
      "    \n",
      "    The CPU and wall clock times are printed, and the value of the\n",
      "    expression (if any) is returned.  Note that under Win32, system time\n",
      "    is always reported as 0, since it can not be measured.\n",
      "    \n",
      "    This function can be used both as a line and cell magic:\n",
      "    \n",
      "    - In line mode you can time a single-line statement (though multiple\n",
      "      ones can be chained with using semicolons).\n",
      "    \n",
      "    - In cell mode, you can time the cell body (a directly\n",
      "      following statement raises an error).\n",
      "    \n",
      "    This function provides very basic timing functionality.  Use the timeit\n",
      "    magic for more control over the measurement.\n",
      "    \n",
      "    .. versionchanged:: 7.3\n",
      "        User variables are no longer expanded,\n",
      "        the magic line is always left unmodified.\n",
      "    \n",
      "    Examples\n",
      "    --------\n",
      "    ::\n",
      "    \n",
      "      In [1]: %time 2**128\n",
      "      CPU times: user 0.00 s, sys: 0.00 s, total: 0.00 s\n",
      "      Wall time: 0.00\n",
      "      Out[1]: 340282366920938463463374607431768211456L\n",
      "    \n",
      "      In [2]: n = 1000000\n",
      "    \n",
      "      In [3]: %time sum(range(n))\n",
      "      CPU times: user 1.20 s, sys: 0.05 s, total: 1.25 s\n",
      "      Wall time: 1.37\n",
      "      Out[3]: 499999500000L\n",
      "    \n",
      "      In [4]: %time print 'hello world'\n",
      "      hello world\n",
      "      CPU times: user 0.00 s, sys: 0.00 s, total: 0.00 s\n",
      "      Wall time: 0.00\n",
      "    \n",
      "      Note that the time needed by Python to compile the given expression\n",
      "      will be reported if it is more than 0.1s.  In this example, the\n",
      "      actual exponentiation is done by Python at compilation time, so while\n",
      "      the expression can take a noticeable amount of time to compute, that\n",
      "      time is purely due to the compilation:\n",
      "    \n",
      "      In [5]: %time 3**9999;\n",
      "      CPU times: user 0.00 s, sys: 0.00 s, total: 0.00 s\n",
      "      Wall time: 0.00 s\n",
      "    \n",
      "      In [6]: %time 3**999999;\n",
      "      CPU times: user 0.00 s, sys: 0.00 s, total: 0.00 s\n",
      "      Wall time: 0.00 s\n",
      "      Compiler : 0.78 s\n",
      "%%timeit:\n",
      "    Time execution of a Python statement or expression\n",
      "    \n",
      "    Usage, in line mode:\n",
      "      %timeit [-n<N> -r<R> [-t|-c] -q -p<P> -o] statement\n",
      "    or in cell mode:\n",
      "      %%timeit [-n<N> -r<R> [-t|-c] -q -p<P> -o] setup_code\n",
      "      code\n",
      "      code...\n",
      "    \n",
      "    Time execution of a Python statement or expression using the timeit\n",
      "    module.  This function can be used both as a line and cell magic:\n",
      "    \n",
      "    - In line mode you can time a single-line statement (though multiple\n",
      "      ones can be chained with using semicolons).\n",
      "    \n",
      "    - In cell mode, the statement in the first line is used as setup code\n",
      "      (executed but not timed) and the body of the cell is timed.  The cell\n",
      "      body has access to any variables created in the setup code.\n",
      "    \n",
      "    Options:\n",
      "    -n<N>: execute the given statement <N> times in a loop. If <N> is not\n",
      "    provided, <N> is determined so as to get sufficient accuracy.\n",
      "    \n",
      "    -r<R>: number of repeats <R>, each consisting of <N> loops, and take the\n",
      "    best result.\n",
      "    Default: 7\n",
      "    \n",
      "    -t: use time.time to measure the time, which is the default on Unix.\n",
      "    This function measures wall time.\n",
      "    \n",
      "    -c: use time.clock to measure the time, which is the default on\n",
      "    Windows and measures wall time. On Unix, resource.getrusage is used\n",
      "    instead and returns the CPU user time.\n",
      "    \n",
      "    -p<P>: use a precision of <P> digits to display the timing result.\n",
      "    Default: 3\n",
      "    \n",
      "    -q: Quiet, do not print result.\n",
      "    \n",
      "    -o: return a TimeitResult that can be stored in a variable to inspect\n",
      "        the result in more details.\n",
      "    \n",
      "    .. versionchanged:: 7.3\n",
      "        User variables are no longer expanded,\n",
      "        the magic line is always left unmodified.\n",
      "    \n",
      "    Examples\n",
      "    --------\n",
      "    ::\n",
      "    \n",
      "      In [1]: %timeit pass\n",
      "      8.26 ns ± 0.12 ns per loop (mean ± std. dev. of 7 runs, 100000000 loops each)\n",
      "    \n",
      "      In [2]: u = None\n",
      "    \n",
      "      In [3]: %timeit u is None\n",
      "      29.9 ns ± 0.643 ns per loop (mean ± std. dev. of 7 runs, 10000000 loops each)\n",
      "    \n",
      "      In [4]: %timeit -r 4 u == None\n",
      "    \n",
      "      In [5]: import time\n",
      "    \n",
      "      In [6]: %timeit -n1 time.sleep(2)\n",
      "    \n",
      "    \n",
      "    The times reported by %timeit will be slightly higher than those\n",
      "    reported by the timeit.py script when variables are accessed. This is\n",
      "    due to the fact that %timeit executes the statement in the namespace\n",
      "    of the shell, compared with timeit.py, which uses a single setup\n",
      "    statement to import function or create variables. Generally, the bias\n",
      "    does not matter as long as results from timeit.py are not mixed with\n",
      "    those from %timeit.\n",
      "%%writefile:\n",
      "    ::\n",
      "    \n",
      "      %writefile [-a] filename\n",
      "    \n",
      "    Write the contents of the cell to a file.\n",
      "    \n",
      "    The file will be overwritten unless the -a (--append) flag is specified.\n",
      "    \n",
      "    positional arguments:\n",
      "      filename      file to write\n",
      "    \n",
      "    optional arguments:\n",
      "      -a, --append  Append contents of the cell to an existing file. The file will\n",
      "                    be created if it does not exist.\n",
      "\n",
      "Summary of magic functions (from %lsmagic):\n",
      "Available line magics:\n",
      "%alias  %alias_magic  %autoawait  %autocall  %automagic  %autosave  %bookmark  %cd  %clear  %cls  %colors  %conda  %config  %connect_info  %copy  %ddir  %debug  %dhist  %dirs  %doctest_mode  %echo  %ed  %edit  %env  %gui  %hist  %history  %killbgscripts  %ldir  %less  %load  %load_ext  %loadpy  %logoff  %logon  %logstart  %logstate  %logstop  %ls  %lsmagic  %macro  %magic  %matplotlib  %mkdir  %more  %notebook  %page  %pastebin  %pdb  %pdef  %pdoc  %pfile  %pinfo  %pinfo2  %pip  %popd  %pprint  %precision  %prun  %psearch  %psource  %pushd  %pwd  %pycat  %pylab  %qtconsole  %quickref  %recall  %rehashx  %reload_ext  %ren  %rep  %rerun  %reset  %reset_selective  %rmdir  %run  %save  %sc  %set_env  %store  %sx  %system  %tb  %time  %timeit  %unalias  %unload_ext  %who  %who_ls  %whos  %xdel  %xmode\n",
      "\n",
      "Available cell magics:\n",
      "%%!  %%HTML  %%SVG  %%bash  %%capture  %%cmd  %%debug  %%file  %%html  %%javascript  %%js  %%latex  %%markdown  %%perl  %%prun  %%pypy  %%python  %%python2  %%python3  %%ruby  %%script  %%sh  %%svg  %%sx  %%system  %%time  %%timeit  %%writefile\n",
      "\n",
      "Automagic is ON, % prefix IS NOT needed for line magics."
     ],
     "name": "stdout"
    }
   ],
   "source": [
    "%magic"
   ]
  },
  {
   "cell_type": "code",
   "execution_count": 22,
   "metadata": {},
   "outputs": [],
   "source": [
    "%timeit"
   ]
  },
  {
   "cell_type": "code",
   "execution_count": 23,
   "metadata": {},
   "outputs": [
    {
     "output_type": "stream",
     "text": [
      "\u001b[1;31mDocstring:\u001b[0m\n",
      "Time execution of a Python statement or expression\n",
      "\n",
      "Usage, in line mode:\n",
      "  %timeit [-n<N> -r<R> [-t|-c] -q -p<P> -o] statement\n",
      "or in cell mode:\n",
      "  %%timeit [-n<N> -r<R> [-t|-c] -q -p<P> -o] setup_code\n",
      "  code\n",
      "  code...\n",
      "\n",
      "Time execution of a Python statement or expression using the timeit\n",
      "module.  This function can be used both as a line and cell magic:\n",
      "\n",
      "- In line mode you can time a single-line statement (though multiple\n",
      "  ones can be chained with using semicolons).\n",
      "\n",
      "- In cell mode, the statement in the first line is used as setup code\n",
      "  (executed but not timed) and the body of the cell is timed.  The cell\n",
      "  body has access to any variables created in the setup code.\n",
      "\n",
      "Options:\n",
      "-n<N>: execute the given statement <N> times in a loop. If <N> is not\n",
      "provided, <N> is determined so as to get sufficient accuracy.\n",
      "\n",
      "-r<R>: number of repeats <R>, each consisting of <N> loops, and take the\n",
      "best result.\n",
      "Default: 7\n",
      "\n",
      "-t: use time.time to measure the time, which is the default on Unix.\n",
      "This function measures wall time.\n",
      "\n",
      "-c: use time.clock to measure the time, which is the default on\n",
      "Windows and measures wall time. On Unix, resource.getrusage is used\n",
      "instead and returns the CPU user time.\n",
      "\n",
      "-p<P>: use a precision of <P> digits to display the timing result.\n",
      "Default: 3\n",
      "\n",
      "-q: Quiet, do not print result.\n",
      "\n",
      "-o: return a TimeitResult that can be stored in a variable to inspect\n",
      "    the result in more details.\n",
      "\n",
      ".. versionchanged:: 7.3\n",
      "    User variables are no longer expanded,\n",
      "    the magic line is always left unmodified.\n",
      "\n",
      "Examples\n",
      "--------\n",
      "::\n",
      "\n",
      "  In [1]: %timeit pass\n",
      "  8.26 ns ± 0.12 ns per loop (mean ± std. dev. of 7 runs, 100000000 loops each)\n",
      "\n",
      "  In [2]: u = None\n",
      "\n",
      "  In [3]: %timeit u is None\n",
      "  29.9 ns ± 0.643 ns per loop (mean ± std. dev. of 7 runs, 10000000 loops each)\n",
      "\n",
      "  In [4]: %timeit -r 4 u == None\n",
      "\n",
      "  In [5]: import time\n",
      "\n",
      "  In [6]: %timeit -n1 time.sleep(2)\n",
      "\n",
      "\n",
      "The times reported by %timeit will be slightly higher than those\n",
      "reported by the timeit.py script when variables are accessed. This is\n",
      "due to the fact that %timeit executes the statement in the namespace\n",
      "of the shell, compared with timeit.py, which uses a single setup\n",
      "statement to import function or create variables. Generally, the bias\n",
      "does not matter as long as results from timeit.py are not mixed with\n",
      "those from %timeit.\n",
      "\u001b[1;31mFile:\u001b[0m      c:\\users\\yjche\\miniconda3\\envs\\myenv\\lib\\site-packages\\ipython\\core\\magics\\execution.py\n"
     ],
     "name": "stdout"
    }
   ],
   "source": [
    "timeit?"
   ]
  },
  {
   "source": [
    "a = [1, 2, 3]"
   ],
   "cell_type": "code",
   "metadata": {},
   "execution_count": 26,
   "outputs": []
  },
  {
   "cell_type": "code",
   "execution_count": 27,
   "metadata": {},
   "outputs": [],
   "source": [
    "b = a"
   ]
  },
  {
   "cell_type": "code",
   "execution_count": 28,
   "metadata": {},
   "outputs": [],
   "source": [
    "a.append(4)"
   ]
  },
  {
   "cell_type": "code",
   "execution_count": 29,
   "metadata": {},
   "outputs": [
    {
     "output_type": "execute_result",
     "data": {
      "text/plain": [
       "[1, 2, 3, 4]"
      ]
     },
     "metadata": {},
     "execution_count": 29
    }
   ],
   "source": [
    "b"
   ]
  },
  {
   "cell_type": "code",
   "execution_count": 30,
   "metadata": {},
   "outputs": [],
   "source": [
    "c = a.copy()"
   ]
  },
  {
   "cell_type": "code",
   "execution_count": 31,
   "metadata": {},
   "outputs": [
    {
     "output_type": "execute_result",
     "data": {
      "text/plain": [
       "[1, 2, 3, 4]"
      ]
     },
     "metadata": {},
     "execution_count": 31
    }
   ],
   "source": [
    "c"
   ]
  },
  {
   "cell_type": "code",
   "execution_count": 32,
   "metadata": {},
   "outputs": [],
   "source": [
    "a.append(5)"
   ]
  },
  {
   "cell_type": "code",
   "execution_count": 33,
   "metadata": {},
   "outputs": [
    {
     "output_type": "execute_result",
     "data": {
      "text/plain": [
       "[1, 2, 3, 4]"
      ]
     },
     "metadata": {},
     "execution_count": 33
    }
   ],
   "source": [
    "c"
   ]
  },
  {
   "cell_type": "code",
   "execution_count": 35,
   "metadata": {},
   "outputs": [],
   "source": [
    "a = 4.5\n",
    "b = 2"
   ]
  },
  {
   "cell_type": "code",
   "execution_count": 36,
   "metadata": {},
   "outputs": [
    {
     "output_type": "stream",
     "name": "stdout",
     "text": [
      "a is 4.5, b is 2\n"
     ]
    }
   ],
   "source": [
    "print(f'a is {a}, b is {b}')"
   ]
  },
  {
   "cell_type": "code",
   "execution_count": 37,
   "metadata": {},
   "outputs": [
    {
     "output_type": "execute_result",
     "data": {
      "text/plain": [
       "False"
      ]
     },
     "metadata": {},
     "execution_count": 37
    }
   ],
   "source": [
    "isinstance(a, int)"
   ]
  },
  {
   "cell_type": "code",
   "execution_count": 39,
   "metadata": {},
   "outputs": [
    {
     "output_type": "execute_result",
     "data": {
      "text/plain": [
       "True"
      ]
     },
     "metadata": {},
     "execution_count": 39
    }
   ],
   "source": [
    "isinstance(a, float)"
   ]
  },
  {
   "cell_type": "code",
   "execution_count": 41,
   "metadata": {},
   "outputs": [
    {
     "output_type": "stream",
     "name": "stdout",
     "text": [
      "874 ns ± 7.2 ns per loop (mean ± std. dev. of 7 runs, 1000000 loops each)\n"
     ]
    }
   ],
   "source": [
    "%timeit sum(range(100))"
   ]
  },
  {
   "cell_type": "code",
   "execution_count": null,
   "metadata": {},
   "outputs": [],
   "source": []
  }
 ]
}